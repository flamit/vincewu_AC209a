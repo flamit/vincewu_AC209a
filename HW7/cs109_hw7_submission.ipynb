{
 "cells": [
  {
   "cell_type": "markdown",
   "metadata": {},
   "source": [
    "# CS 109A/STAT 121A/AC 209A/CSCI E-109A: Homework 7\n",
    "# LDA/QDA and Decision Trees\n",
    "\n",
    "**Harvard University**<br/>\n",
    "**Fall 2017**<br/>\n",
    "**Instructors**: Pavlos Protopapas, Kevin Rader, Rahul Dave, Margo Levine\n",
    "\n",
    "---\n",
    "\n",
    "### INSTRUCTIONS\n",
    "\n",
    "- To submit your assignment follow the instructions given in canvas.\n",
    "- Restart the kernel and run the whole notebook again before you submit. \n",
    "- Do not include your name(s) in the notebook if you are submitting as a group. \n",
    "- If you submit individually and you have worked with someone, please include the name of your [one] partner below. \n",
    "\n",
    "---"
   ]
  },
  {
   "cell_type": "markdown",
   "metadata": {},
   "source": [
    "Your partner's name (if you submit separately):\n",
    "\n",
    "Enrollment Status (109A, 121A, 209A, or E109A): AC209"
   ]
  },
  {
   "cell_type": "markdown",
   "metadata": {},
   "source": [
    "Import libraries:"
   ]
  },
  {
   "cell_type": "code",
   "execution_count": 1,
   "metadata": {
    "collapsed": true
   },
   "outputs": [],
   "source": [
    "import numpy as np\n",
    "import pandas as pd\n",
    "import matplotlib\n",
    "import matplotlib.pyplot as plt\n",
    "from sklearn.linear_model import LogisticRegressionCV\n",
    "import sklearn.metrics as metrics\n",
    "from sklearn.preprocessing import PolynomialFeatures\n",
    "from sklearn.discriminant_analysis import LinearDiscriminantAnalysis\n",
    "from sklearn.discriminant_analysis import QuadraticDiscriminantAnalysis\n",
    "from sklearn.neighbors import KNeighborsClassifier\n",
    "from sklearn.tree import DecisionTreeClassifier\n",
    "from sklearn.model_selection import cross_val_score\n",
    "#import pydotplus\n",
    "#import io\n",
    "from sklearn.tree import export_graphviz\n",
    "from IPython.display import Image\n",
    "from IPython.display import display\n",
    "%matplotlib inline"
   ]
  },
  {
   "cell_type": "markdown",
   "metadata": {},
   "source": [
    "\n",
    "## Multiclass Thyroid Classification\n",
    "\n",
    "In this problem, you will build a model for diagnosing disorders in a patient's thyroid gland. Given the results of medical tests on a patient, the task is to classify the patient either as:\n",
    "- *normal* (class 1)\n",
    "- having *hyperthyroidism* (class 2)\n",
    "- or having *hypothyroidism* (class 3). \n",
    "\n",
    "The data set is provided in the file `hw7_dataset.csv`. Columns 1-2 contain biomarkers for a patient (predictors):\n",
    "- Biomarker 1: (Logarithm of) level of basal thyroid-stimulating hormone (TSH) as measured by radioimmuno assay\n",
    "- Biomarker 2: (Logarithm of) maximal absolute difference of TSH value after injection of 200 micro grams of thyrotropin-releasing hormone as compared to the basal value.\n",
    "\n",
    "The last column contains the diagnosis for the patient from a medical expert. This data set was obtained from the UCI machine learning repository.\n",
    "\n",
    "Notice that unlike previous exercises, the task at hand is a 3-class classification problem. We will explore the use of different methods for multiclass classification.\n",
    "\n",
    "First task: split the data using the following code:"
   ]
  },
  {
   "cell_type": "code",
   "execution_count": 2,
   "metadata": {},
   "outputs": [
    {
     "data": {
      "text/html": [
       "<div>\n",
       "<style>\n",
       "    .dataframe thead tr:only-child th {\n",
       "        text-align: right;\n",
       "    }\n",
       "\n",
       "    .dataframe thead th {\n",
       "        text-align: left;\n",
       "    }\n",
       "\n",
       "    .dataframe tbody tr th {\n",
       "        vertical-align: top;\n",
       "    }\n",
       "</style>\n",
       "<table border=\"1\" class=\"dataframe\">\n",
       "  <thead>\n",
       "    <tr style=\"text-align: right;\">\n",
       "      <th></th>\n",
       "      <th>Biomarker 1</th>\n",
       "      <th>Biomarker 2</th>\n",
       "      <th>Diagnosis</th>\n",
       "    </tr>\n",
       "  </thead>\n",
       "  <tbody>\n",
       "    <tr>\n",
       "      <th>0</th>\n",
       "      <td>0.262372</td>\n",
       "      <td>0.875473</td>\n",
       "      <td>1.0</td>\n",
       "    </tr>\n",
       "    <tr>\n",
       "      <th>5</th>\n",
       "      <td>0.336479</td>\n",
       "      <td>1.098616</td>\n",
       "      <td>1.0</td>\n",
       "    </tr>\n",
       "    <tr>\n",
       "      <th>9</th>\n",
       "      <td>0.182330</td>\n",
       "      <td>-1.609488</td>\n",
       "      <td>2.0</td>\n",
       "    </tr>\n",
       "    <tr>\n",
       "      <th>12</th>\n",
       "      <td>-0.223131</td>\n",
       "      <td>0.788462</td>\n",
       "      <td>1.0</td>\n",
       "    </tr>\n",
       "    <tr>\n",
       "      <th>13</th>\n",
       "      <td>0.587792</td>\n",
       "      <td>1.458617</td>\n",
       "      <td>1.0</td>\n",
       "    </tr>\n",
       "  </tbody>\n",
       "</table>\n",
       "</div>"
      ],
      "text/plain": [
       "    Biomarker 1  Biomarker 2  Diagnosis\n",
       "0      0.262372     0.875473        1.0\n",
       "5      0.336479     1.098616        1.0\n",
       "9      0.182330    -1.609488        2.0\n",
       "12    -0.223131     0.788462        1.0\n",
       "13     0.587792     1.458617        1.0"
      ]
     },
     "execution_count": 2,
     "metadata": {},
     "output_type": "execute_result"
    }
   ],
   "source": [
    "np.random.seed(9001)\n",
    "df = pd.read_csv('hw7_dataset.csv')\n",
    "msk = np.random.rand(len(df)) < 0.5\n",
    "data_train = df[msk]\n",
    "data_test = df[~msk]\n",
    "\n",
    "data_train.head()"
   ]
  },
  {
   "cell_type": "code",
   "execution_count": 3,
   "metadata": {},
   "outputs": [
    {
     "data": {
      "text/html": [
       "<div>\n",
       "<style>\n",
       "    .dataframe thead tr:only-child th {\n",
       "        text-align: right;\n",
       "    }\n",
       "\n",
       "    .dataframe thead th {\n",
       "        text-align: left;\n",
       "    }\n",
       "\n",
       "    .dataframe tbody tr th {\n",
       "        vertical-align: top;\n",
       "    }\n",
       "</style>\n",
       "<table border=\"1\" class=\"dataframe\">\n",
       "  <thead>\n",
       "    <tr style=\"text-align: right;\">\n",
       "      <th></th>\n",
       "      <th>Biomarker 1</th>\n",
       "      <th>Biomarker 2</th>\n",
       "    </tr>\n",
       "  </thead>\n",
       "  <tbody>\n",
       "    <tr>\n",
       "      <th>0</th>\n",
       "      <td>0.262372</td>\n",
       "      <td>0.875473</td>\n",
       "    </tr>\n",
       "    <tr>\n",
       "      <th>1</th>\n",
       "      <td>0.336479</td>\n",
       "      <td>1.098616</td>\n",
       "    </tr>\n",
       "    <tr>\n",
       "      <th>2</th>\n",
       "      <td>0.182330</td>\n",
       "      <td>-1.609488</td>\n",
       "    </tr>\n",
       "    <tr>\n",
       "      <th>3</th>\n",
       "      <td>-0.223131</td>\n",
       "      <td>0.788462</td>\n",
       "    </tr>\n",
       "    <tr>\n",
       "      <th>4</th>\n",
       "      <td>0.587792</td>\n",
       "      <td>1.458617</td>\n",
       "    </tr>\n",
       "  </tbody>\n",
       "</table>\n",
       "</div>"
      ],
      "text/plain": [
       "   Biomarker 1  Biomarker 2\n",
       "0     0.262372     0.875473\n",
       "1     0.336479     1.098616\n",
       "2     0.182330    -1.609488\n",
       "3    -0.223131     0.788462\n",
       "4     0.587792     1.458617"
      ]
     },
     "execution_count": 3,
     "metadata": {},
     "output_type": "execute_result"
    }
   ],
   "source": [
    "x_train = data_train[[\"Biomarker 1\", \"Biomarker 2\"]].reset_index(drop=True)\n",
    "y_train = data_train[\"Diagnosis\"].reset_index(drop=True)\n",
    "\n",
    "x_test = data_test[[\"Biomarker 1\", \"Biomarker 2\"]].reset_index(drop=True)\n",
    "y_test = data_test[\"Diagnosis\"].reset_index(drop=True)\n",
    "\n",
    "x_train.head()"
   ]
  },
  {
   "cell_type": "markdown",
   "metadata": {},
   "source": [
    "## Question 1: Fit Classification Models\n",
    "\n",
    "1. Generate a 2D scatter plot of the training set, denoting each class with a different color. Does it appear that the data points can be separated well by a linear classifier?\n",
    "\n",
    "2. Briefly explain the difference between multinomial logistic regression and one-vs-rest (OvR) logistic regression methods for fitting a multiclass classifier (in 2-3 sentences).\n",
    "\n",
    "3. Fit linear classification models on the thyroid data set using both the methods.  You should use $L_2$ regularization in both cases, tuning the regularization parameter using cross-validation.  Is there a difference in the overall classification accuracy of the two methods on the training and test sets?\n",
    "\n",
    "4. Also, compare the training and test accuracies of these models with the following classification methods:\n",
    "    - Multiclass Logistic Regression with quadratic terms \n",
    "    - Linear Discriminant Analysis\n",
    "    - Quadratic Discriminant Analysis\n",
    "    - k-Nearest Neighbors\n",
    "    <br>\n",
    "*Note:* you may use either the OvR or multinomial variant for the multiclass logistic regression (with $L_2$ regularization). Do not forget to use cross-validation to choose the regularization parameter, and also the number of neighbors in k-NN. \n",
    "\n",
    "5. Does the inclusion of the polynomial terms in logistic regression yield better test accuracy compared to the model with only linear terms? \n",
    "\n",
    "\n",
    "*Hint:* You may use the `KNeighborsClassifier` class to fit a k-NN classification model."
   ]
  },
  {
   "cell_type": "markdown",
   "metadata": {},
   "source": [
    "#### Part 1 ####"
   ]
  },
  {
   "cell_type": "code",
   "execution_count": 4,
   "metadata": {},
   "outputs": [
    {
     "data": {
      "image/png": "[encoded data removed]",
      "text/plain": [
       "<matplotlib.figure.Figure at 0x1d673b5d1d0>"
      ]
     },
     "metadata": {},
     "output_type": "display_data"
    }
   ],
   "source": [
    "diag_groups = data_train.groupby('Diagnosis')\n",
    "\n",
    "for name, group in diag_groups:\n",
    "    plt.scatter(group['Biomarker 1'], group['Biomarker 2'], label=name, alpha=0.8)\n",
    "\n",
    "plt.legend(loc='best')\n",
    "plt.xlabel('Biomarker 1')\n",
    "plt.ylabel('Biomarker 2')\n",
    "plt.show()"
   ]
  },
  {
   "cell_type": "markdown",
   "metadata": {},
   "source": [
    "The data points do appear classifiable by linear classifier (most of the points are well seperated)"
   ]
  },
  {
   "cell_type": "markdown",
   "metadata": {},
   "source": [
    "#### Part 2 ####"
   ]
  },
  {
   "cell_type": "markdown",
   "metadata": {},
   "source": [
    "The OvR logistic regression assume each class's prediction is independent from other classes, thus making a multiple class regression problem into a multiple binary classification problem.\n",
    "\n",
    "On the other hand, multinomial logistic regression takes all the classes into consideration during fitting."
   ]
  },
  {
   "cell_type": "markdown",
   "metadata": {},
   "source": [
    "#### Part 3 ####"
   ]
  },
  {
   "cell_type": "code",
   "execution_count": 5,
   "metadata": {},
   "outputs": [
    {
     "data": {
      "text/plain": [
       "LogisticRegressionCV(Cs=10, class_weight=None, cv=3, dual=False,\n",
       "           fit_intercept=True, intercept_scaling=1.0, max_iter=100,\n",
       "           multi_class='ovr', n_jobs=1, penalty='l2', random_state=9001,\n",
       "           refit=True, scoring=None, solver='lbfgs', tol=0.0001, verbose=0)"
      ]
     },
     "execution_count": 5,
     "metadata": {},
     "output_type": "execute_result"
    }
   ],
   "source": [
    "OVR = LogisticRegressionCV(Cs=10, cv=3, penalty=\"l2\", multi_class=\"ovr\", random_state=9001)\n",
    "OVR.fit(x_train, y_train)"
   ]
  },
  {
   "cell_type": "code",
   "execution_count": 6,
   "metadata": {},
   "outputs": [
    {
     "data": {
      "text/html": [
       "<div>\n",
       "<style>\n",
       "    .dataframe thead tr:only-child th {\n",
       "        text-align: right;\n",
       "    }\n",
       "\n",
       "    .dataframe thead th {\n",
       "        text-align: left;\n",
       "    }\n",
       "\n",
       "    .dataframe tbody tr th {\n",
       "        vertical-align: top;\n",
       "    }\n",
       "</style>\n",
       "<table border=\"1\" class=\"dataframe\">\n",
       "  <thead>\n",
       "    <tr style=\"text-align: right;\">\n",
       "      <th>y_train_pred_ovr</th>\n",
       "      <th>1.0</th>\n",
       "      <th>2.0</th>\n",
       "      <th>3.0</th>\n",
       "      <th>All</th>\n",
       "    </tr>\n",
       "    <tr>\n",
       "      <th>y_train</th>\n",
       "      <th></th>\n",
       "      <th></th>\n",
       "      <th></th>\n",
       "      <th></th>\n",
       "    </tr>\n",
       "  </thead>\n",
       "  <tbody>\n",
       "    <tr>\n",
       "      <th>1.0</th>\n",
       "      <td>69</td>\n",
       "      <td>4</td>\n",
       "      <td>0</td>\n",
       "      <td>73</td>\n",
       "    </tr>\n",
       "    <tr>\n",
       "      <th>2.0</th>\n",
       "      <td>9</td>\n",
       "      <td>9</td>\n",
       "      <td>0</td>\n",
       "      <td>18</td>\n",
       "    </tr>\n",
       "    <tr>\n",
       "      <th>3.0</th>\n",
       "      <td>3</td>\n",
       "      <td>0</td>\n",
       "      <td>8</td>\n",
       "      <td>11</td>\n",
       "    </tr>\n",
       "    <tr>\n",
       "      <th>All</th>\n",
       "      <td>81</td>\n",
       "      <td>13</td>\n",
       "      <td>8</td>\n",
       "      <td>102</td>\n",
       "    </tr>\n",
       "  </tbody>\n",
       "</table>\n",
       "</div>"
      ],
      "text/plain": [
       "y_train_pred_ovr  1.0  2.0  3.0  All\n",
       "y_train                             \n",
       "1.0                69    4    0   73\n",
       "2.0                 9    9    0   18\n",
       "3.0                 3    0    8   11\n",
       "All                81   13    8  102"
      ]
     },
     "execution_count": 6,
     "metadata": {},
     "output_type": "execute_result"
    }
   ],
   "source": [
    "y_train_pred_ovr = OVR.predict(x_train)\n",
    "pd.crosstab(y_train,y_train_pred_ovr,margins=True,dropna=False,\n",
    "            rownames=[\"y_train\"], colnames=[\"y_train_pred_ovr\"])"
   ]
  },
  {
   "cell_type": "code",
   "execution_count": 7,
   "metadata": {},
   "outputs": [
    {
     "name": "stdout",
     "output_type": "stream",
     "text": [
      "One-vs-Rest train set accuracy:  0.843137254902\n",
      "One-vs-Rest test set accuracy:  0.840707964602\n"
     ]
    }
   ],
   "source": [
    "print(\"One-vs-Rest train set accuracy: \", OVR.score(x_train, y_train))\n",
    "print(\"One-vs-Rest test set accuracy: \", OVR.score(x_test, y_test))"
   ]
  },
  {
   "cell_type": "code",
   "execution_count": 8,
   "metadata": {},
   "outputs": [
    {
     "data": {
      "text/plain": [
       "LogisticRegressionCV(Cs=10, class_weight=None, cv=3, dual=False,\n",
       "           fit_intercept=True, intercept_scaling=1.0, max_iter=100,\n",
       "           multi_class='multinomial', n_jobs=1, penalty='l2',\n",
       "           random_state=9001, refit=True, scoring=None, solver='lbfgs',\n",
       "           tol=0.0001, verbose=0)"
      ]
     },
     "execution_count": 8,
     "metadata": {},
     "output_type": "execute_result"
    }
   ],
   "source": [
    "MLR = LogisticRegressionCV(Cs=10, cv=3, penalty=\"l2\", multi_class=\"multinomial\", random_state=9001)\n",
    "MLR.fit(x_train, y_train)"
   ]
  },
  {
   "cell_type": "code",
   "execution_count": 9,
   "metadata": {},
   "outputs": [
    {
     "data": {
      "text/html": [
       "<div>\n",
       "<style>\n",
       "    .dataframe thead tr:only-child th {\n",
       "        text-align: right;\n",
       "    }\n",
       "\n",
       "    .dataframe thead th {\n",
       "        text-align: left;\n",
       "    }\n",
       "\n",
       "    .dataframe tbody tr th {\n",
       "        vertical-align: top;\n",
       "    }\n",
       "</style>\n",
       "<table border=\"1\" class=\"dataframe\">\n",
       "  <thead>\n",
       "    <tr style=\"text-align: right;\">\n",
       "      <th>y_train_pred_mlr</th>\n",
       "      <th>1.0</th>\n",
       "      <th>2.0</th>\n",
       "      <th>3.0</th>\n",
       "      <th>All</th>\n",
       "    </tr>\n",
       "    <tr>\n",
       "      <th>y_train</th>\n",
       "      <th></th>\n",
       "      <th></th>\n",
       "      <th></th>\n",
       "      <th></th>\n",
       "    </tr>\n",
       "  </thead>\n",
       "  <tbody>\n",
       "    <tr>\n",
       "      <th>1.0</th>\n",
       "      <td>69</td>\n",
       "      <td>4</td>\n",
       "      <td>0</td>\n",
       "      <td>73</td>\n",
       "    </tr>\n",
       "    <tr>\n",
       "      <th>2.0</th>\n",
       "      <td>5</td>\n",
       "      <td>13</td>\n",
       "      <td>0</td>\n",
       "      <td>18</td>\n",
       "    </tr>\n",
       "    <tr>\n",
       "      <th>3.0</th>\n",
       "      <td>2</td>\n",
       "      <td>0</td>\n",
       "      <td>9</td>\n",
       "      <td>11</td>\n",
       "    </tr>\n",
       "    <tr>\n",
       "      <th>All</th>\n",
       "      <td>76</td>\n",
       "      <td>17</td>\n",
       "      <td>9</td>\n",
       "      <td>102</td>\n",
       "    </tr>\n",
       "  </tbody>\n",
       "</table>\n",
       "</div>"
      ],
      "text/plain": [
       "y_train_pred_mlr  1.0  2.0  3.0  All\n",
       "y_train                             \n",
       "1.0                69    4    0   73\n",
       "2.0                 5   13    0   18\n",
       "3.0                 2    0    9   11\n",
       "All                76   17    9  102"
      ]
     },
     "execution_count": 9,
     "metadata": {},
     "output_type": "execute_result"
    }
   ],
   "source": [
    "y_train_pred_mlr = MLR.predict(x_train)\n",
    "pd.crosstab(y_train,y_train_pred_mlr,margins=True,dropna=False,\n",
    "            rownames=[\"y_train\"], colnames=[\"y_train_pred_mlr\"])"
   ]
  },
  {
   "cell_type": "code",
   "execution_count": 10,
   "metadata": {},
   "outputs": [
    {
     "name": "stdout",
     "output_type": "stream",
     "text": [
      "Multinomial train set accuracy:  0.892156862745\n",
      "Multinomial test set accuracy:  0.884955752212\n"
     ]
    }
   ],
   "source": [
    "print(\"Multinomial train set accuracy: \", MLR.score(x_train, y_train))\n",
    "print(\"Multinomial test set accuracy: \", MLR.score(x_test, y_test))"
   ]
  },
  {
   "cell_type": "markdown",
   "metadata": {},
   "source": [
    "Multinominal logistic regression performs a bit better here. We see from the confusion table that the better performance originates from more accurate classification of class 2."
   ]
  },
  {
   "cell_type": "markdown",
   "metadata": {},
   "source": [
    "#### Part 4 ####"
   ]
  },
  {
   "cell_type": "code",
   "execution_count": 11,
   "metadata": {},
   "outputs": [
    {
     "name": "stdout",
     "output_type": "stream",
     "text": [
      "Multiclass Logistic Regression with quadratic terms train set accuracy:  0.892156862745\n",
      "Multiclass Logistic Regression with quadratic terms test set accuracy:  0.893805309735\n"
     ]
    }
   ],
   "source": [
    "x_train_poly = PolynomialFeatures(degree=2).fit_transform(x_train)\n",
    "x_test_poly = PolynomialFeatures(degree=2).fit_transform(x_test)\n",
    "\n",
    "MLR_poly = LogisticRegressionCV(Cs=10, cv=3, penalty=\"l2\", multi_class=\"multinomial\", random_state=9001)\n",
    "MLR_poly.fit(x_train_poly, y_train)\n",
    "\n",
    "y_train_poly = MLR_poly.predict(x_train_poly)\n",
    "print(\"Multiclass Logistic Regression with quadratic terms train set accuracy: \", MLR_poly.score(x_train_poly, y_train))\n",
    "print(\"Multiclass Logistic Regression with quadratic terms test set accuracy: \", MLR_poly.score(x_test_poly, y_test))"
   ]
  },
  {
   "cell_type": "code",
   "execution_count": 12,
   "metadata": {},
   "outputs": [
    {
     "name": "stdout",
     "output_type": "stream",
     "text": [
      "Linear Discriminant Analysis train set accuracy:  0.872549019608\n",
      "Linear Discriminant Analysis test set accuracy:  0.83185840708\n"
     ]
    }
   ],
   "source": [
    "LDA = LinearDiscriminantAnalysis()\n",
    "LDA.fit(x_train, y_train)\n",
    "\n",
    "y_train_train_LDA = LDA.predict(x_train)\n",
    "print(\"Linear Discriminant Analysis train set accuracy: \", LDA.score(x_train, y_train))\n",
    "print(\"Linear Discriminant Analysis test set accuracy: \", LDA.score(x_test, y_test))"
   ]
  },
  {
   "cell_type": "code",
   "execution_count": 13,
   "metadata": {},
   "outputs": [
    {
     "name": "stdout",
     "output_type": "stream",
     "text": [
      "Quadratic Discriminant Analysis train set accuracy:  0.872549019608\n",
      "Quadratic Discriminant Analysis test set accuracy:  0.849557522124\n"
     ]
    }
   ],
   "source": [
    "QDA = QuadraticDiscriminantAnalysis()\n",
    "QDA.fit(x_train, y_train)\n",
    "\n",
    "y_train_QDA = QDA.predict(x_train)\n",
    "print(\"Quadratic Discriminant Analysis train set accuracy: \", QDA.score(x_train, y_train))\n",
    "print(\"Quadratic Discriminant Analysis test set accuracy: \", QDA.score(x_test, y_test))"
   ]
  },
  {
   "cell_type": "code",
   "execution_count": 14,
   "metadata": {},
   "outputs": [],
   "source": [
    "knn_scores = []\n",
    "n_max = 26\n",
    "for n in range(1, n_max):\n",
    "    knn = KNeighborsClassifier(n_neighbors=n)\n",
    "    knn_scores.append(cross_val_score(knn, x_train, y_train, cv=3).mean())\n",
    "\n",
    "knn_scores = np.array(knn_scores)"
   ]
  },
  {
   "cell_type": "code",
   "execution_count": 15,
   "metadata": {},
   "outputs": [
    {
     "data": {
      "image/png": "[encoded data removed]",
      "text/plain": [
       "<matplotlib.figure.Figure at 0x1d673fb91d0>"
      ]
     },
     "metadata": {},
     "output_type": "display_data"
    }
   ],
   "source": [
    "plt.plot(np.arange(1, n_max, 1), knn_scores)\n",
    "plt.xlabel('Number of Neighbors')\n",
    "plt.ylabel('Cross-Validation Accuracy')\n",
    "plt.show()"
   ]
  },
  {
   "cell_type": "code",
   "execution_count": 16,
   "metadata": {},
   "outputs": [
    {
     "name": "stdout",
     "output_type": "stream",
     "text": [
      "k-Nearest Neighbors (n=2) train set accuracy: 0.90196\n",
      "k-Nearest Neighbors (n=2) test set accuracy: 0.84956\n"
     ]
    }
   ],
   "source": [
    "best_n = knn_scores.argmax()\n",
    "knn_best = KNeighborsClassifier(n_neighbors=best_n)\n",
    "knn_best.fit(x_train, y_train)\n",
    "\n",
    "y_train_knn = knn_best.predict(x_train)\n",
    "print(\"k-Nearest Neighbors (n=%d) train set accuracy: %.5f\" % \n",
    "      (best_n, knn_best.score(x_train, y_train)))\n",
    "print(\"k-Nearest Neighbors (n=%d) test set accuracy: %.5f\" % \n",
    "      (best_n, knn_best.score(x_test, y_test)))"
   ]
  },
  {
   "cell_type": "markdown",
   "metadata": {},
   "source": [
    "#### Part 5 ####"
   ]
  },
  {
   "cell_type": "markdown",
   "metadata": {},
   "source": [
    "For the training set their performance are identical, while for the testing set the inclusion of quadratic term improved the accuracy by roughly 1%."
   ]
  },
  {
   "cell_type": "markdown",
   "metadata": {},
   "source": [
    "## Question 2: Visualize Decision Boundaries\n",
    "\n",
    "The following code will allow you to visualize the decision boundaries of a given classification model."
   ]
  },
  {
   "cell_type": "code",
   "execution_count": 17,
   "metadata": {
    "collapsed": true
   },
   "outputs": [],
   "source": [
    "#--------  plot_decision_boundary\n",
    "# A function that visualizes the data and the decision boundaries\n",
    "# Input: \n",
    "#      x (predictors)\n",
    "#      y (labels)\n",
    "#      model (the classifier you want to visualize)\n",
    "#      title (title for plot)\n",
    "#      ax (a set of axes to plot on)\n",
    "#      poly_degree (highest degree of polynomial terms included in the model; None by default)\n",
    "\n",
    "def plot_decision_boundary(x, y, model, title, ax, poly_degree=None):\n",
    "    # Create mesh\n",
    "    # Interval of points for biomarker 1\n",
    "    min0 = x[:,0].min()\n",
    "    max0 = x[:,0].max()\n",
    "    interval0 = np.arange(min0, max0, (max0-min0)/100)\n",
    "    n0 = np.size(interval0)\n",
    "    \n",
    "    # Interval of points for biomarker 2\n",
    "    min1 = x[:,1].min()\n",
    "    max1 = x[:,1].max()\n",
    "    interval1 = np.arange(min1, max1, (max1-min1)/100)\n",
    "    n1 = np.size(interval1)\n",
    "\n",
    "    # Create mesh grid of points\n",
    "    x1, x2 = np.meshgrid(interval0, interval1)\n",
    "    x1 = x1.reshape(-1,1)\n",
    "    x2 = x2.reshape(-1,1)\n",
    "    xx = np.concatenate((x1, x2), axis=1)\n",
    "\n",
    "    # Predict on mesh of points\n",
    "    # Check if polynomial terms need to be included\n",
    "    if(poly_degree!=None):\n",
    "        # Use PolynomialFeatures to generate polynomial terms\n",
    "        poly = PolynomialFeatures(poly_degree)\n",
    "        xx_ = poly.fit_transform(xx)\n",
    "        yy = model.predict(xx_) \n",
    "    else:   \n",
    "        yy = model.predict(xx)\n",
    "        \n",
    "    yy = yy.reshape((n0, n1))\n",
    "\n",
    "    # Plot decision surface\n",
    "    x1 = x1.reshape(n0, n1)\n",
    "    x2 = x2.reshape(n0, n1)\n",
    "    ax.contourf(x1, x2, yy, cmap=plt.cm.coolwarm, alpha=0.8)\n",
    "    \n",
    "    # Plot scatter plot of data\n",
    "    yy = y.reshape(-1,)\n",
    "    ax.scatter(x[yy==1,0], x[yy==1,1], c='blue', label='Normal', cmap=plt.cm.coolwarm)\n",
    "    ax.scatter(x[yy==2,0], x[yy==2,1], c='cyan', label='Hyper', cmap=plt.cm.coolwarm)\n",
    "    ax.scatter(x[yy==3,0], x[yy==3,1], c='red', label='Hypo', cmap=plt.cm.coolwarm)\n",
    "    \n",
    "    # Label axis, title\n",
    "    ax.set_title(title)\n",
    "    ax.set_xlabel('Biomarker 1')\n",
    "    ax.set_ylabel('Biomarker 2')"
   ]
  },
  {
   "cell_type": "markdown",
   "metadata": {},
   "source": [
    "**Note:** The provided code uses `sklearn`'s `PolynomialFeatures` to generate higher-order polynomial terms, with degree `poly_degree`. \n",
    "Also, if you have loaded the data sets into `pandas` data frames, you may use the `as_matrix` function to obtain a `numpy` array from the data frame objects.\n",
    "\n",
    "1. Use the above code to visualize the decision boundaries for each of the model fitted in the previous part.\n",
    "2. Comment on the difference in the decision boundaries (if any) for the OvR and multinomial logistic regression models. Is there a difference between the decision boundaries for the linear logistic regression models and LDA. What about the decision boundaries for the quadratic logistic regression and QDA? Give an explanation for your answer."
   ]
  },
  {
   "cell_type": "code",
   "execution_count": 18,
   "metadata": {},
   "outputs": [
    {
     "data": {
      "image/png": "[encoded data removed]",
      "text/plain": [
       "<matplotlib.figure.Figure at 0x1d66edc74e0>"
      ]
     },
     "metadata": {},
     "output_type": "display_data"
    }
   ],
   "source": [
    "fig, ax = plt.subplots(3, 2, figsize=(20, 35))\n",
    "\n",
    "# one-vs-rest (OVR)\n",
    "acc_OVR = OVR.score(x_test, y_test)\n",
    "str_title = 'OVR (score = ' + str(acc_OVR) + ')'\n",
    "plot_decision_boundary(x_train.as_matrix(), y_train.as_matrix(), OVR, str_title, ax[0][0] )\n",
    "\n",
    "# multinominal logistic regression (MLR)\n",
    "acc_MLR = MLR.score(x_test, y_test)\n",
    "str_title = 'MLR (score = ' + str(acc_MLR) + ')'\n",
    "plot_decision_boundary(x_train.as_matrix(), y_train.as_matrix(), MLR, str_title, ax[0][1] )\n",
    "\n",
    "# MLR with polynomial features\n",
    "acc_MLR_poly = MLR_poly.score(x_test_poly, y_test)\n",
    "str_title = 'MLR_poly (score = ' + str(acc_MLR_poly) + ')'\n",
    "plot_decision_boundary(x_train.as_matrix(), y_train.as_matrix(), MLR_poly, str_title, ax[1][0],\\\n",
    "                                 poly_degree=2)\n",
    "\n",
    "# LDA\n",
    "acc_lda = LDA.score(x_test, y_test)\n",
    "str_title = 'LDA (score = ' + str(acc_lda) + ')'\n",
    "plot_decision_boundary(x_train.as_matrix(), y_train.as_matrix(), LDA, str_title, ax[1][1] )\n",
    "\n",
    "# QDA\n",
    "acc_qda = QDA.score(x_test, y_test)\n",
    "str_title = 'QDA (score = ' + str(acc_qda) + ')'\n",
    "plot_decision_boundary(x_train.as_matrix(), y_train.as_matrix(), QDA, str_title, ax[2][0] )\n",
    "\n",
    "# KNN\n",
    "acc_knn = knn_best.score(x_test, y_test)\n",
    "str_title = 'KNN (score = ' + str(acc_knn) + ')'\n",
    "plot_decision_boundary(x_train.as_matrix(), y_train.as_matrix(), knn_best, str_title, ax[2][1] )"
   ]
  },
  {
   "cell_type": "markdown",
   "metadata": {},
   "source": [
    "OvR vs Multinomial:\n",
    "> The boundaries of Multinomial logistic regression (w/o polynomial term) are straight lines whereas the OVR can have corners.\n",
    "\n",
    "Linear Logistic vs LDA\n",
    "> The boundaries of LDA are somewhat similar to OvR where corner can exist, whereas the linear logistic model gives straight line boundary.\n",
    "\n",
    "Quadratic Logistic vs QDA\n",
    "> The boundaries of Quadratic Logistic are parabolic function while QDA can have closed boundaries."
   ]
  },
  {
   "cell_type": "markdown",
   "metadata": {},
   "source": [
    "## Question 3: Fit Decision Trees\n",
    "\n",
    "We next try out decision trees for thyroid classification. For the following questions, you may use the *Gini* index as the splitting criterion while fitting the decision tree. \n",
    "1. Fit a decision tree model to the thyroid data set with (maximum) tree depths 2, 3, ..., 10. Make plots of the training and test accuracies as a function of the tree depth. Is there a depth at which the fitted decision tree model achieves near-perfect classification on the training set? If so, what can you say about the test accuracy of this model?\n",
    "\n",
    "2. Use 5-fold cross-validation to find the optimal tree depth. How does the performance of a decision tree fitted with this depth compare with the models fitted in Part 2(a)?\n",
    "\n",
    "3. Use the code provided in Part 2(c) to visualize the decision boundary of the fitted decision tree. How is the decision boundary of the decision tree model different from the other methods? Given an explanation for your observation.\n",
    "\n",
    "4. Use the `export_graphviz` function in `sklearn` to generate a visualization of the tree diagram for the fitted model. Based on the visualization, explain *in words* how the fitted model diagnoses 'hypothyroidism' for a patient.  \n"
   ]
  },
  {
   "cell_type": "markdown",
   "metadata": {},
   "source": [
    "*Note:* Look at the `export_graphviz` function in the `sklearn.tree` module. \n",
    "\n",
    "You can get a graphic for this visualization by pasting the generated graphviz file in the text box at http://www.webgraphviz.com/ , or you can do it on your own computer.\n",
    "\n",
    "If you choose the do the latter, you will have to install `GraphViz` and `pydot` to use the decision tree rendering code. For this, you may execute the following commands in a terminal:\n",
    "\n",
    "`$pip install graphviz`<br>\n",
    "`$pip install pydot`\n",
    "\n",
    "*Hint:* You may use the `DecisionTreeClassifier` class to fit a decision tree classifier and the `max_depth` attribute to set the tree depth. You may use the `cross_val_score` function for cross-validation with decision trees."
   ]
  },
  {
   "cell_type": "markdown",
   "metadata": {},
   "source": [
    "#### Q3 Part 1 ####"
   ]
  },
  {
   "cell_type": "code",
   "execution_count": 19,
   "metadata": {},
   "outputs": [
    {
     "data": {
      "text/plain": [
       "0.97058823529411764"
      ]
     },
     "execution_count": 19,
     "metadata": {},
     "output_type": "execute_result"
    }
   ],
   "source": [
    "max_depth = 11\n",
    "tree_scores_train = []\n",
    "tree_scores_test = []\n",
    "\n",
    "for d in range(2, max_depth):\n",
    "    DT = DecisionTreeClassifier(max_depth=d)\n",
    "    DT.fit(x_train, y_train)\n",
    "    tree_scores_train.append(DT.score(x_train, y_train))\n",
    "    tree_scores_test.append(DT.score(x_test, y_test))\n",
    "\n",
    "tree_scores_train = np.array(tree_scores_train)\n",
    "tree_scores_test = np.array(tree_scores_test)\n",
    "tree_scores_train.max()"
   ]
  },
  {
   "cell_type": "code",
   "execution_count": 20,
   "metadata": {},
   "outputs": [
    {
     "data": {
      "image/png": "[encoded data removed]",
      "text/plain": [
       "<matplotlib.figure.Figure at 0x1d673fcf208>"
      ]
     },
     "metadata": {},
     "output_type": "display_data"
    }
   ],
   "source": [
    "plt.plot(np.arange(2, max_depth, 1), tree_scores_train, label='Train')\n",
    "plt.plot(np.arange(2, max_depth, 1), tree_scores_test, label='Test')\n",
    "plt.xlabel('Depth')\n",
    "plt.ylabel('Score')\n",
    "plt.title('Decision Tree Score')\n",
    "plt.legend(loc='best')\n",
    "plt.show()"
   ]
  },
  {
   "cell_type": "markdown",
   "metadata": {},
   "source": [
    "At depth >= 6, the training accuracy reachs the maximum value 0.97, an almost perfect value. However, in such cases, the model inevitably overfit the training data, and thus the testing data accuracy would be lower."
   ]
  },
  {
   "cell_type": "markdown",
   "metadata": {},
   "source": [
    "#### Q3 Part 2 ####"
   ]
  },
  {
   "cell_type": "code",
   "execution_count": 21,
   "metadata": {
    "collapsed": true
   },
   "outputs": [],
   "source": [
    "max_depth = 11\n",
    "tree_cv_scores_train = []\n",
    "tree_cv_scores_test = []\n",
    "\n",
    "for d in range(2, max_depth):\n",
    "    DT = DecisionTreeClassifier(max_depth=d)\n",
    "    tree_cv_scores_train.append(cross_val_score(cv=5, estimator=DT, X=x_train, y=y_train).mean())\n",
    "    tree_cv_scores_test.append(cross_val_score(cv=5, estimator=DT, X=x_test, y=y_test).mean())\n",
    "    \n",
    "tree_cv_scores_train = np.array(tree_cv_scores_train)\n",
    "tree_cv_scores_test = np.array(tree_cv_scores_test)"
   ]
  },
  {
   "cell_type": "code",
   "execution_count": 22,
   "metadata": {},
   "outputs": [
    {
     "data": {
      "image/png": "[encoded data removed]",
      "text/plain": [
       "<matplotlib.figure.Figure at 0x1d6744233c8>"
      ]
     },
     "metadata": {},
     "output_type": "display_data"
    }
   ],
   "source": [
    "plt.plot(np.arange(2, max_depth, 1), tree_cv_scores_train, label='Train')\n",
    "plt.plot(np.arange(2, max_depth, 1), tree_cv_scores_test, label='Test')\n",
    "plt.xlabel('Depth')\n",
    "plt.ylabel('Score')\n",
    "plt.title('Decision Tree Scores (CV)')\n",
    "plt.legend(loc='best')\n",
    "plt.show()"
   ]
  },
  {
   "cell_type": "code",
   "execution_count": 23,
   "metadata": {},
   "outputs": [
    {
     "name": "stdout",
     "output_type": "stream",
     "text": [
      "Best Decision Tree Depth: 2\n",
      "Best Decision Tree Training Score: 0.91315\n",
      "Best Decision Tree Testing Score: 0.83918\n"
     ]
    }
   ],
   "source": [
    "best_ind = tree_cv_scores_train.argmax()\n",
    "best_depth = best_ind + 2 # Start with depth = 2\n",
    "print('Best Decision Tree Depth: %d' % best_depth)\n",
    "print('Best Decision Tree Training Score: %.5f' % tree_cv_scores_train[best_ind])\n",
    "print('Best Decision Tree Testing Score: %.5f' % tree_cv_scores_test[best_ind])"
   ]
  },
  {
   "cell_type": "markdown",
   "metadata": {},
   "source": [
    "The performance of the decision tree model using cross-validation is similar but worse than the multinomial, OvR and knn model, but slightly better than the LDA and QDA model."
   ]
  },
  {
   "cell_type": "markdown",
   "metadata": {},
   "source": [
    "#### Q3 Part 3 ####"
   ]
  },
  {
   "cell_type": "code",
   "execution_count": 24,
   "metadata": {},
   "outputs": [
    {
     "data": {
      "image/png": "[encoded data removed]",
      "text/plain": [
       "<matplotlib.figure.Figure at 0x1d674112940>"
      ]
     },
     "metadata": {},
     "output_type": "display_data"
    }
   ],
   "source": [
    "DT = DecisionTreeClassifier(max_depth=best_depth)\n",
    "DT.fit(x_train, y_train)\n",
    "\n",
    "title = 'Decision Tree (score = %.5f)' % tree_cv_scores_test[best_ind]\n",
    "\n",
    "fig, ax = plt.subplots(figsize=(5, 5))\n",
    "plot_decision_boundary(x_train.as_matrix(), y_train.as_matrix(), DT, title, ax)"
   ]
  },
  {
   "cell_type": "markdown",
   "metadata": {},
   "source": [
    "The boundaries of decision tree model seperate the feature space (plane here) in to multiple retangular blocks in such a way that each line in the boundary is orthogonal to one of the feature axis."
   ]
  },
  {
   "cell_type": "code",
   "execution_count": 25,
   "metadata": {},
   "outputs": [
    {
     "ename": "InvocationException",
     "evalue": "GraphViz's executables not found",
     "output_type": "error",
     "traceback": [
      "\u001b[1;31m---------------------------------------------------------------------------\u001b[0m",
      "\u001b[1;31mInvocationException\u001b[0m                       Traceback (most recent call last)",
      "\u001b[1;32m<ipython-input-25-b91ea1adb91e>\u001b[0m in \u001b[0;36m<module>\u001b[1;34m()\u001b[0m\n\u001b[0;32m      7\u001b[0m \u001b[0mexport_graphviz\u001b[0m\u001b[1;33m(\u001b[0m\u001b[0mDT\u001b[0m\u001b[1;33m,\u001b[0m \u001b[0mout_file\u001b[0m\u001b[1;33m=\u001b[0m\u001b[0mdot_data\u001b[0m\u001b[1;33m,\u001b[0m \u001b[0mfeature_names\u001b[0m\u001b[1;33m=\u001b[0m\u001b[0mdf\u001b[0m\u001b[1;33m.\u001b[0m\u001b[0mcolumns\u001b[0m\u001b[1;33m.\u001b[0m\u001b[0mvalues\u001b[0m\u001b[1;33m,\u001b[0m                \u001b[0mfilled\u001b[0m\u001b[1;33m=\u001b[0m\u001b[1;32mTrue\u001b[0m\u001b[1;33m,\u001b[0m \u001b[0mrounded\u001b[0m\u001b[1;33m=\u001b[0m\u001b[1;32mTrue\u001b[0m\u001b[1;33m,\u001b[0m \u001b[0mspecial_characters\u001b[0m\u001b[1;33m=\u001b[0m\u001b[1;32mTrue\u001b[0m\u001b[1;33m,\u001b[0m \u001b[1;33m)\u001b[0m\u001b[1;33m\u001b[0m\u001b[0m\n\u001b[0;32m      8\u001b[0m \u001b[0mgraph\u001b[0m \u001b[1;33m=\u001b[0m \u001b[0mpydotplus\u001b[0m\u001b[1;33m.\u001b[0m\u001b[0mgraph_from_dot_data\u001b[0m\u001b[1;33m(\u001b[0m\u001b[0mdot_data\u001b[0m\u001b[1;33m.\u001b[0m\u001b[0mgetvalue\u001b[0m\u001b[1;33m(\u001b[0m\u001b[1;33m)\u001b[0m\u001b[1;33m)\u001b[0m\u001b[1;33m\u001b[0m\u001b[0m\n\u001b[1;32m----> 9\u001b[1;33m \u001b[0mImage\u001b[0m\u001b[1;33m(\u001b[0m\u001b[0mgraph\u001b[0m\u001b[1;33m.\u001b[0m\u001b[0mcreate_png\u001b[0m\u001b[1;33m(\u001b[0m\u001b[1;33m)\u001b[0m\u001b[1;33m)\u001b[0m\u001b[1;33m\u001b[0m\u001b[0m\n\u001b[0m",
      "\u001b[1;32mD:\\ProgramData\\Anaconda3\\envs\\py36\\lib\\site-packages\\pydotplus\\graphviz.py\u001b[0m in \u001b[0;36m<lambda>\u001b[1;34m(f, prog)\u001b[0m\n\u001b[0;32m   1795\u001b[0m             self.__setattr__(\n\u001b[0;32m   1796\u001b[0m                 \u001b[1;34m'create_'\u001b[0m \u001b[1;33m+\u001b[0m \u001b[0mfrmt\u001b[0m\u001b[1;33m,\u001b[0m\u001b[1;33m\u001b[0m\u001b[0m\n\u001b[1;32m-> 1797\u001b[1;33m                 \u001b[1;32mlambda\u001b[0m \u001b[0mf\u001b[0m\u001b[1;33m=\u001b[0m\u001b[0mfrmt\u001b[0m\u001b[1;33m,\u001b[0m \u001b[0mprog\u001b[0m\u001b[1;33m=\u001b[0m\u001b[0mself\u001b[0m\u001b[1;33m.\u001b[0m\u001b[0mprog\u001b[0m\u001b[1;33m:\u001b[0m \u001b[0mself\u001b[0m\u001b[1;33m.\u001b[0m\u001b[0mcreate\u001b[0m\u001b[1;33m(\u001b[0m\u001b[0mformat\u001b[0m\u001b[1;33m=\u001b[0m\u001b[0mf\u001b[0m\u001b[1;33m,\u001b[0m \u001b[0mprog\u001b[0m\u001b[1;33m=\u001b[0m\u001b[0mprog\u001b[0m\u001b[1;33m)\u001b[0m\u001b[1;33m\u001b[0m\u001b[0m\n\u001b[0m\u001b[0;32m   1798\u001b[0m             )\n\u001b[0;32m   1799\u001b[0m             \u001b[0mf\u001b[0m \u001b[1;33m=\u001b[0m \u001b[0mself\u001b[0m\u001b[1;33m.\u001b[0m\u001b[0m__dict__\u001b[0m\u001b[1;33m[\u001b[0m\u001b[1;34m'create_'\u001b[0m \u001b[1;33m+\u001b[0m \u001b[0mfrmt\u001b[0m\u001b[1;33m]\u001b[0m\u001b[1;33m\u001b[0m\u001b[0m\n",
      "\u001b[1;32mD:\\ProgramData\\Anaconda3\\envs\\py36\\lib\\site-packages\\pydotplus\\graphviz.py\u001b[0m in \u001b[0;36mcreate\u001b[1;34m(self, prog, format)\u001b[0m\n\u001b[0;32m   1958\u001b[0m             \u001b[1;32mif\u001b[0m \u001b[0mself\u001b[0m\u001b[1;33m.\u001b[0m\u001b[0mprogs\u001b[0m \u001b[1;32mis\u001b[0m \u001b[1;32mNone\u001b[0m\u001b[1;33m:\u001b[0m\u001b[1;33m\u001b[0m\u001b[0m\n\u001b[0;32m   1959\u001b[0m                 raise InvocationException(\n\u001b[1;32m-> 1960\u001b[1;33m                     'GraphViz\\'s executables not found')\n\u001b[0m\u001b[0;32m   1961\u001b[0m \u001b[1;33m\u001b[0m\u001b[0m\n\u001b[0;32m   1962\u001b[0m         \u001b[1;32mif\u001b[0m \u001b[0mprog\u001b[0m \u001b[1;32mnot\u001b[0m \u001b[1;32min\u001b[0m \u001b[0mself\u001b[0m\u001b[1;33m.\u001b[0m\u001b[0mprogs\u001b[0m\u001b[1;33m:\u001b[0m\u001b[1;33m\u001b[0m\u001b[0m\n",
      "\u001b[1;31mInvocationException\u001b[0m: GraphViz's executables not found"
     ]
    }
   ],
   "source": [
    "# Have to install pydotplus and graphviz packages\n",
    "\n",
    "from sklearn.externals.six import StringIO  \n",
    "import pydotplus\n",
    "\n",
    "dot_data = StringIO()\n",
    "export_graphviz(DT, out_file=dot_data, feature_names=df.columns.values,\\\n",
    "                filled=True, rounded=True, special_characters=True, )\n",
    "graph = pydotplus.graph_from_dot_data(dot_data.getvalue())  \n",
    "Image(graph.create_png())"
   ]
  },
  {
   "cell_type": "markdown",
   "metadata": {},
   "source": []
  },
  {
   "cell_type": "markdown",
   "metadata": {},
   "source": [
    "## Question 4: Too many models to choose from!\n",
    "\n",
    "We have so far seen six different ways of fitting a classification model for thyroid classification problem: **linear logistic regression**, **logistic regression with polynomial terms**, **LDA**, **QDA**, **k-NN** and **decision tree**. Which of these methods should one use in practice? To answer this question, we now look at the pros and cons of each method.\n",
    "\n",
    "1. Compare and contrast the six models based on each of the following criteria (a supporting table to summarize your  thoughts can be helpful):\n",
    "  - Classification performance\n",
    "  - Complexity of decision boundary\n",
    "  - Memory storage\n",
    "  - Ease of interpretability\n",
    "\n",
    "2. If you were a clinician who had to use the classifier to diagnose thyroid disorders in patients, which among the six methods would you be most comfortable in using? "
   ]
  },
  {
   "cell_type": "markdown",
   "metadata": {},
   "source": [
    "#### Q4 Part 1 ####"
   ]
  },
  {
   "cell_type": "code",
   "execution_count": null,
   "metadata": {},
   "outputs": [],
   "source": [
    "Model_Scores = pd.DataFrame({'Training Score': \n",
    "              [OVR.score(x_train, y_train),\n",
    "               MLR.score(x_train, y_train),\n",
    "               MLR_poly.score(x_train_poly, y_train),\n",
    "               LDA.score(x_train, y_train),\n",
    "               QDA.score(x_train, y_train),\n",
    "               knn_best.score(x_train, y_train),\n",
    "               DT.score(x_train, y_train)],\n",
    "              'Testing Score':\n",
    "             [OVR.score(x_test, y_test),\n",
    "               MLR.score(x_test, y_test),\n",
    "               MLR_poly.score(x_test_poly, y_test),\n",
    "               LDA.score(x_test, y_test),\n",
    "               QDA.score(x_test, y_test),\n",
    "               knn_best.score(x_test, y_test),\n",
    "               DT.score(x_test, y_test)]}, \n",
    "             index=['OvR', 'MLR', 'MLR_Poly', 'LDA', 'QDA', 'knn', 'DT'])\n",
    "\n",
    "Model_Scores"
   ]
  },
  {
   "cell_type": "markdown",
   "metadata": {},
   "source": [
    "- Classification performance\n",
    "> MLR_Poly > MLR > Decision Tree > QDA = KNN > OvR > LDA\n",
    "\n",
    "- Complexity of decision boundary\n",
    "> From least complicated to the most:\n",
    "MLR > LDA = OvR > Decision Tree > MLR_Poly > QDA > KNN\n",
    "\n",
    "- Memory storage\n",
    "> From least memory used to most:\n",
    "LDA > QDA > MLR > OvR > MLR_Poly > Decision Tree > KNN\n",
    "\n",
    "- Ease of interpretability\n",
    "> Decision Tree > MLR = OvR = LDA > MLR_Poly = QDA > KNN"
   ]
  },
  {
   "cell_type": "markdown",
   "metadata": {},
   "source": [
    "#### Q4 Part 2 ####"
   ]
  },
  {
   "cell_type": "markdown",
   "metadata": {},
   "source": [
    "The decision tree method will be the easiest to use as it can be interpreted as a step-by-step True/False method, even though it gives a moderate accuracy. My second option will by Multinomial Logistic Regress for its high accuracy."
   ]
  },
  {
   "cell_type": "markdown",
   "metadata": {},
   "source": [
    "## Question 5: Including an 'abstain' option\n",
    "\n",
    "One of the reasons a hospital might be hesitant to use your thyroid classification model is that a misdiagnosis by the model on a patient can sometimes prove to be very costly (e.g. if the patient were to file a law suit seeking a compensation for damages). One way to mitigate this concern is to allow the model to 'abstain' from making a prediction, whenever it is uncertain about the diagnosis for a patient. However, when the model abstains from making a prediction, the hospital will have to forward the patient to a thyroid specialist (i.e. an endocrinologist), which would incur additional cost. How does one design a thyroid classification model with an abstain option, such that the cost to the hospital is minimized?\n",
    "\n",
    "1. More specifically, suppose the cost incurred by a hospital when a model mis-predicts on a patient is \\$5000, and the cost incurred when the model abstains from making a prediction is \\$1000. What is the average cost per patient for the OvR logistic regression model from Question 1, Part 3? Note that this needs to be evaluated on the patients in the test set. Your task is to design a classification strategy (into the 3 groups plus the *abstain* group) that has as low cost as possible per patient.   Give a justification for your approach.\n",
    "\n",
    "2. **Presentation:** Prepare a set of 5 slides explaining your approach to the hospital management. Your presentation must be accessible to the lay man. Explain in particular how your approach would be robust to changes in the costs of using the abstain option.\n",
    "\n",
    "*Hint:* think of a way to use the estimated probabilities from the logistic regression model to decide who to classify as *abstain*."
   ]
  },
  {
   "cell_type": "code",
   "execution_count": 94,
   "metadata": {},
   "outputs": [],
   "source": [
    "y_train_ovr = OVR.predict(x_train)\n",
    "y_test_ovr = OVR.predict(x_test)\n",
    "\n",
    "train_table = pd.crosstab(y_train,y_train_ovr,margins=True,dropna=False, rownames=[\"y_train\"], colnames=[\"y_train_ovr\"])\n",
    "test_table = pd.crosstab(y_test,y_test_ovr,margins=True,dropna=False, rownames=[\"y_test\"], colnames=[\"y_test_ovr\"])"
   ]
  },
  {
   "cell_type": "code",
   "execution_count": 28,
   "metadata": {},
   "outputs": [
    {
     "data": {
      "text/html": [
       "<div>\n",
       "<style>\n",
       "    .dataframe thead tr:only-child th {\n",
       "        text-align: right;\n",
       "    }\n",
       "\n",
       "    .dataframe thead th {\n",
       "        text-align: left;\n",
       "    }\n",
       "\n",
       "    .dataframe tbody tr th {\n",
       "        vertical-align: top;\n",
       "    }\n",
       "</style>\n",
       "<table border=\"1\" class=\"dataframe\">\n",
       "  <thead>\n",
       "    <tr style=\"text-align: right;\">\n",
       "      <th>y_train_ovr</th>\n",
       "      <th>1.0</th>\n",
       "      <th>2.0</th>\n",
       "      <th>3.0</th>\n",
       "      <th>All</th>\n",
       "    </tr>\n",
       "    <tr>\n",
       "      <th>y_train</th>\n",
       "      <th></th>\n",
       "      <th></th>\n",
       "      <th></th>\n",
       "      <th></th>\n",
       "    </tr>\n",
       "  </thead>\n",
       "  <tbody>\n",
       "    <tr>\n",
       "      <th>1.0</th>\n",
       "      <td>69</td>\n",
       "      <td>4</td>\n",
       "      <td>0</td>\n",
       "      <td>73</td>\n",
       "    </tr>\n",
       "    <tr>\n",
       "      <th>2.0</th>\n",
       "      <td>9</td>\n",
       "      <td>9</td>\n",
       "      <td>0</td>\n",
       "      <td>18</td>\n",
       "    </tr>\n",
       "    <tr>\n",
       "      <th>3.0</th>\n",
       "      <td>3</td>\n",
       "      <td>0</td>\n",
       "      <td>8</td>\n",
       "      <td>11</td>\n",
       "    </tr>\n",
       "    <tr>\n",
       "      <th>All</th>\n",
       "      <td>81</td>\n",
       "      <td>13</td>\n",
       "      <td>8</td>\n",
       "      <td>102</td>\n",
       "    </tr>\n",
       "  </tbody>\n",
       "</table>\n",
       "</div>"
      ],
      "text/plain": [
       "y_train_ovr  1.0  2.0  3.0  All\n",
       "y_train                        \n",
       "1.0           69    4    0   73\n",
       "2.0            9    9    0   18\n",
       "3.0            3    0    8   11\n",
       "All           81   13    8  102"
      ]
     },
     "execution_count": 28,
     "metadata": {},
     "output_type": "execute_result"
    }
   ],
   "source": [
    "train_table"
   ]
  },
  {
   "cell_type": "code",
   "execution_count": 29,
   "metadata": {},
   "outputs": [
    {
     "data": {
      "text/html": [
       "<div>\n",
       "<style>\n",
       "    .dataframe thead tr:only-child th {\n",
       "        text-align: right;\n",
       "    }\n",
       "\n",
       "    .dataframe thead th {\n",
       "        text-align: left;\n",
       "    }\n",
       "\n",
       "    .dataframe tbody tr th {\n",
       "        vertical-align: top;\n",
       "    }\n",
       "</style>\n",
       "<table border=\"1\" class=\"dataframe\">\n",
       "  <thead>\n",
       "    <tr style=\"text-align: right;\">\n",
       "      <th>y_test_ovr</th>\n",
       "      <th>1.0</th>\n",
       "      <th>2.0</th>\n",
       "      <th>3.0</th>\n",
       "      <th>All</th>\n",
       "    </tr>\n",
       "    <tr>\n",
       "      <th>y_train</th>\n",
       "      <th></th>\n",
       "      <th></th>\n",
       "      <th></th>\n",
       "      <th></th>\n",
       "    </tr>\n",
       "  </thead>\n",
       "  <tbody>\n",
       "    <tr>\n",
       "      <th>1.0</th>\n",
       "      <td>74</td>\n",
       "      <td>3</td>\n",
       "      <td>0</td>\n",
       "      <td>77</td>\n",
       "    </tr>\n",
       "    <tr>\n",
       "      <th>2.0</th>\n",
       "      <td>11</td>\n",
       "      <td>6</td>\n",
       "      <td>0</td>\n",
       "      <td>17</td>\n",
       "    </tr>\n",
       "    <tr>\n",
       "      <th>3.0</th>\n",
       "      <td>4</td>\n",
       "      <td>0</td>\n",
       "      <td>15</td>\n",
       "      <td>19</td>\n",
       "    </tr>\n",
       "    <tr>\n",
       "      <th>All</th>\n",
       "      <td>89</td>\n",
       "      <td>9</td>\n",
       "      <td>15</td>\n",
       "      <td>113</td>\n",
       "    </tr>\n",
       "  </tbody>\n",
       "</table>\n",
       "</div>"
      ],
      "text/plain": [
       "y_test_ovr  1.0  2.0  3.0  All\n",
       "y_train                       \n",
       "1.0          74    3    0   77\n",
       "2.0          11    6    0   17\n",
       "3.0           4    0   15   19\n",
       "All          89    9   15  113"
      ]
     },
     "execution_count": 29,
     "metadata": {},
     "output_type": "execute_result"
    }
   ],
   "source": [
    "test_table"
   ]
  },
  {
   "cell_type": "code",
   "execution_count": 32,
   "metadata": {},
   "outputs": [
    {
     "data": {
      "text/html": [
       "<div>\n",
       "<style>\n",
       "    .dataframe thead tr:only-child th {\n",
       "        text-align: right;\n",
       "    }\n",
       "\n",
       "    .dataframe thead th {\n",
       "        text-align: left;\n",
       "    }\n",
       "\n",
       "    .dataframe tbody tr th {\n",
       "        vertical-align: top;\n",
       "    }\n",
       "</style>\n",
       "<table border=\"1\" class=\"dataframe\">\n",
       "  <thead>\n",
       "    <tr style=\"text-align: right;\">\n",
       "      <th></th>\n",
       "      <th>1</th>\n",
       "      <th>2</th>\n",
       "      <th>3</th>\n",
       "    </tr>\n",
       "  </thead>\n",
       "  <tbody>\n",
       "    <tr>\n",
       "      <th>0</th>\n",
       "      <td>0.961119</td>\n",
       "      <td>0.012946</td>\n",
       "      <td>0.025935</td>\n",
       "    </tr>\n",
       "    <tr>\n",
       "      <th>1</th>\n",
       "      <td>0.947009</td>\n",
       "      <td>0.007771</td>\n",
       "      <td>0.045221</td>\n",
       "    </tr>\n",
       "    <tr>\n",
       "      <th>2</th>\n",
       "      <td>0.527879</td>\n",
       "      <td>0.472003</td>\n",
       "      <td>0.000118</td>\n",
       "    </tr>\n",
       "    <tr>\n",
       "      <th>3</th>\n",
       "      <td>0.965960</td>\n",
       "      <td>0.026040</td>\n",
       "      <td>0.008000</td>\n",
       "    </tr>\n",
       "    <tr>\n",
       "      <th>4</th>\n",
       "      <td>0.867326</td>\n",
       "      <td>0.002763</td>\n",
       "      <td>0.129911</td>\n",
       "    </tr>\n",
       "  </tbody>\n",
       "</table>\n",
       "</div>"
      ],
      "text/plain": [
       "          1         2         3\n",
       "0  0.961119  0.012946  0.025935\n",
       "1  0.947009  0.007771  0.045221\n",
       "2  0.527879  0.472003  0.000118\n",
       "3  0.965960  0.026040  0.008000\n",
       "4  0.867326  0.002763  0.129911"
      ]
     },
     "execution_count": 32,
     "metadata": {},
     "output_type": "execute_result"
    }
   ],
   "source": [
    "y_train_prob = OVR.predict_proba(x_train)\n",
    "prob_df = pd.DataFrame(y_train_prob, columns=['1', '2', '3'])\n",
    "prob_df.head() # The probability for each sample point to be classified as all three classes"
   ]
  },
  {
   "cell_type": "code",
   "execution_count": 37,
   "metadata": {},
   "outputs": [
    {
     "data": {
      "text/html": [
       "<div>\n",
       "<style>\n",
       "    .dataframe thead tr:only-child th {\n",
       "        text-align: right;\n",
       "    }\n",
       "\n",
       "    .dataframe thead th {\n",
       "        text-align: left;\n",
       "    }\n",
       "\n",
       "    .dataframe tbody tr th {\n",
       "        vertical-align: top;\n",
       "    }\n",
       "</style>\n",
       "<table border=\"1\" class=\"dataframe\">\n",
       "  <thead>\n",
       "    <tr style=\"text-align: right;\">\n",
       "      <th></th>\n",
       "      <th>1</th>\n",
       "      <th>2</th>\n",
       "      <th>3</th>\n",
       "      <th>actual</th>\n",
       "      <th>prediction</th>\n",
       "    </tr>\n",
       "  </thead>\n",
       "  <tbody>\n",
       "    <tr>\n",
       "      <th>0</th>\n",
       "      <td>0.961119</td>\n",
       "      <td>0.012946</td>\n",
       "      <td>0.025935</td>\n",
       "      <td>1</td>\n",
       "      <td>1</td>\n",
       "    </tr>\n",
       "    <tr>\n",
       "      <th>1</th>\n",
       "      <td>0.947009</td>\n",
       "      <td>0.007771</td>\n",
       "      <td>0.045221</td>\n",
       "      <td>1</td>\n",
       "      <td>1</td>\n",
       "    </tr>\n",
       "    <tr>\n",
       "      <th>2</th>\n",
       "      <td>0.527879</td>\n",
       "      <td>0.472003</td>\n",
       "      <td>0.000118</td>\n",
       "      <td>2</td>\n",
       "      <td>1</td>\n",
       "    </tr>\n",
       "    <tr>\n",
       "      <th>3</th>\n",
       "      <td>0.965960</td>\n",
       "      <td>0.026040</td>\n",
       "      <td>0.008000</td>\n",
       "      <td>1</td>\n",
       "      <td>1</td>\n",
       "    </tr>\n",
       "    <tr>\n",
       "      <th>4</th>\n",
       "      <td>0.867326</td>\n",
       "      <td>0.002763</td>\n",
       "      <td>0.129911</td>\n",
       "      <td>1</td>\n",
       "      <td>1</td>\n",
       "    </tr>\n",
       "  </tbody>\n",
       "</table>\n",
       "</div>"
      ],
      "text/plain": [
       "          1         2         3  actual  prediction\n",
       "0  0.961119  0.012946  0.025935       1           1\n",
       "1  0.947009  0.007771  0.045221       1           1\n",
       "2  0.527879  0.472003  0.000118       2           1\n",
       "3  0.965960  0.026040  0.008000       1           1\n",
       "4  0.867326  0.002763  0.129911       1           1"
      ]
     },
     "execution_count": 37,
     "metadata": {},
     "output_type": "execute_result"
    }
   ],
   "source": [
    "prob_df['actual'] = y_train.astype(int)\n",
    "prob_df['prediction'] = y_train_ovr.astype(int)\n",
    "prob_df.head()"
   ]
  },
  {
   "cell_type": "code",
   "execution_count": 48,
   "metadata": {},
   "outputs": [
    {
     "data": {
      "image/png": "[encoded data removed]",
      "text/plain": [
       "<matplotlib.figure.Figure at 0x1d67410afd0>"
      ]
     },
     "metadata": {},
     "output_type": "display_data"
    }
   ],
   "source": [
    "# Plot a histogram of the probabilities where the prediction are correct\n",
    "prob_df[prob_df['actual']==prob_df['prediction']].apply(lambda p: p[str(int(p['actual']))], axis=1).hist()\n",
    "plt.show()"
   ]
  },
  {
   "cell_type": "code",
   "execution_count": 62,
   "metadata": {},
   "outputs": [
    {
     "data": {
      "image/png": "[encoded data removed]",
      "text/plain": [
       "<matplotlib.figure.Figure at 0x1d67408e5f8>"
      ]
     },
     "metadata": {},
     "output_type": "display_data"
    }
   ],
   "source": [
    "# Plot a histogram of the probabilities where the prediction are wrong\n",
    "prob_df[prob_df['actual']!=prob_df['prediction']].apply(lambda p: p[str(int(p['prediction']))], axis=1).hist()\n",
    "plt.show()"
   ]
  },
  {
   "cell_type": "markdown",
   "metadata": {},
   "source": [
    "From the histograms above we can see that misdiagnosis are more likely to happen when the prediction probability is low (0.5-0.7). So to minimize the average cost per patient, we can find a threshold on the probability below which the model will just abstain to predict."
   ]
  },
  {
   "cell_type": "code",
   "execution_count": 112,
   "metadata": {},
   "outputs": [],
   "source": [
    "# Calculate costs at different threshold level\n",
    "thresholds = np.arange(0.5, 1, 0.01)\n",
    "prob_max = y_train_prob.max(axis=1)\n",
    "cost_misdiagnosis=[]\n",
    "cost_abstain=[]\n",
    "for th in thresholds:    \n",
    "    below_th_ind = np.where(prob_max < th)[0]\n",
    "    above_th_ind = np.where(prob_max >= th)[0]\n",
    "    \n",
    "    cost_misdiagnosis.append((y_train_ovr[above_th_ind] != y_train[above_th_ind]).sum()*5000)\n",
    "    cost_abstain.append(len(below_th_ind)*1000)\n",
    "    \n",
    "cost_misdiagnosis = np.array(cost_misdiagnosis)/len(y_train)\n",
    "cost_abstain = np.array(cost_abstain)/len(y_train)\n",
    "cost_total = cost_misdiagnosis + cost_abstain"
   ]
  },
  {
   "cell_type": "code",
   "execution_count": 115,
   "metadata": {},
   "outputs": [
    {
     "data": {
      "image/png": "[encoded data removed]",
      "text/plain": [
       "<matplotlib.figure.Figure at 0x1d6756cbcc0>"
      ]
     },
     "metadata": {},
     "output_type": "display_data"
    }
   ],
   "source": [
    "fig, ax = plt.subplots(figsize=(15, 7))\n",
    "plt.plot(thresholds, cost_misdiagnosis, label='Misdiagnosis Cost')\n",
    "plt.plot(thresholds, cost_abstain, label='Abstain Cost')\n",
    "plt.plot(thresholds, cost_total, label='Total Cost')\n",
    "plt.xlabel('Threshold')\n",
    "plt.ylabel('Average Cost per Patient (Training)')\n",
    "plt.legend(loc='best')\n",
    "plt.show()"
   ]
  },
  {
   "cell_type": "code",
   "execution_count": 118,
   "metadata": {},
   "outputs": [
    {
     "name": "stdout",
     "output_type": "stream",
     "text": [
      "The minimum average cost is $362.75 per patient when threshold is set to be 0.68 (Training set)\n"
     ]
    }
   ],
   "source": [
    "th_best = thresholds[cost_total.argmin()]\n",
    "print('The minimum average cost is $%.2f per patient when threshold is set to be %.2f (Training set)' % \n",
    "     (cost_total.min(), th_best))"
   ]
  },
  {
   "cell_type": "code",
   "execution_count": 121,
   "metadata": {},
   "outputs": [
    {
     "name": "stdout",
     "output_type": "stream",
     "text": [
      "The average cost is $575.22 per patient when threshold is set to be 0.68 (Testing set)\n"
     ]
    }
   ],
   "source": [
    "# Calculate average cost on the testing set\n",
    "y_test_prob = OVR.predict_proba(x_test)\n",
    "prob_max_test = y_test_prob.max(axis=1)\n",
    "\n",
    "below_th_ind = np.where(prob_max_test < th_best)[0]\n",
    "above_th_ind = np.where(prob_max_test >= th_best)[0]\n",
    "\n",
    "cost_misdiagnosis_test = ((y_test_ovr[above_th_ind] != y_test[above_th_ind]).sum()*5000)/len(y_test)\n",
    "cost_abstain_test = len(below_th_ind)*1000/len(y_test)\n",
    "cost_total_test = cost_misdiagnosis_test + cost_abstain_test\n",
    "\n",
    "print('The average cost is $%.2f per patient when threshold is set to be %.2f (Testing set)' % \n",
    "     (cost_total_test, th_best))"
   ]
  },
  {
   "cell_type": "code",
   "execution_count": 126,
   "metadata": {
    "scrolled": true
   },
   "outputs": [
    {
     "data": {
      "image/png": "[encoded data removed]",
      "text/plain": [
       "<matplotlib.figure.Figure at 0x1d675335860>"
      ]
     },
     "metadata": {},
     "output_type": "display_data"
    }
   ],
   "source": [
    "# Just as a visual verification, plot the cost curve for the testing set too\n",
    "prob_max_test = y_test_prob.max(axis=1)\n",
    "cost_misdiagnosis_test=[]\n",
    "cost_abstain_test=[]\n",
    "for th in thresholds:    \n",
    "    below_th_ind = np.where(prob_max_test < th)[0]\n",
    "    above_th_ind = np.where(prob_max_test >= th)[0]\n",
    "    \n",
    "    cost_misdiagnosis_test.append((y_test_ovr[above_th_ind] != y_test[above_th_ind]).sum()*5000)\n",
    "    cost_abstain_test.append(len(below_th_ind)*1000)\n",
    "    \n",
    "cost_misdiagnosis_test = np.array(cost_misdiagnosis_test)/len(y_test)\n",
    "cost_abstain_test = np.array(cost_abstain_test)/len(y_test)\n",
    "cost_total_test = cost_misdiagnosis_test + cost_abstain_test\n",
    "\n",
    "fig, ax = plt.subplots(figsize=(15, 7))\n",
    "plt.plot(thresholds, cost_misdiagnosis_test, label='Misdiagnosis Cost (Testing)')\n",
    "plt.plot(thresholds, cost_abstain_test, label='Abstain Cost (Testing)')\n",
    "plt.plot(thresholds, cost_total_test, label='Total Cost (Testing)')\n",
    "plt.xlabel('Threshold')\n",
    "plt.ylabel('Average Cost per Patient (Testing)')\n",
    "plt.legend(loc='best')\n",
    "plt.show()"
   ]
  },
  {
   "cell_type": "markdown",
   "metadata": {},
   "source": [
    "The shape of the average cost on the testing set agrees with the training set but at a higher level. This is expected as the model is fit to the training dataset."
   ]
  },
  {
   "cell_type": "markdown",
   "metadata": {},
   "source": []
  }
 ],
 "metadata": {
  "anaconda-cloud": {},
  "kernelspec": {
   "display_name": "Python 3",
   "language": "python",
   "name": "python3"
  },
  "language_info": {
   "codemirror_mode": {
    "name": "ipython",
    "version": 3
   },
   "file_extension": ".py",
   "mimetype": "text/x-python",
   "name": "python",
   "nbconvert_exporter": "python",
   "pygments_lexer": "ipython3",
   "version": "3.6.1"
  }
 },
 "nbformat": 4,
 "nbformat_minor": 1
}
