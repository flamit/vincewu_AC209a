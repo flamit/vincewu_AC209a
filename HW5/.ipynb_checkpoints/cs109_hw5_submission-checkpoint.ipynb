{
 "cells": [
  {
   "cell_type": "markdown",
   "metadata": {},
   "source": [
    "# CS 109A/STAT 121A/AC 209A/CSCI E-109A: Homework 5\n",
    "# Logistic Regression and PCA \n",
    "\n",
    "**Harvard University**<br/>\n",
    "**Fall 2017**<br/>\n",
    "**Instructors**: Pavlos Protopapas, Kevin Rader, Rahul Dave, Margo Levine\n",
    "\n",
    "---\n",
    "\n",
    "### INSTRUCTIONS\n",
    "\n",
    "- To submit your assignment follow the instructions given in canvas.\n",
    "- Restart the kernel and run the whole notebook again before you submit. \n",
    "- Do not include your name(s) in the notebook if you are submitting as a group. \n",
    "- If you submit individually and you have worked with someone, please include the name of your [one] partner below. \n",
    "\n",
    "---"
   ]
  },
  {
   "cell_type": "markdown",
   "metadata": {},
   "source": [
    "Your partner's name (if you submit separately):\n",
    "\n",
    "Enrollment Status (109A, 121A, 209A, or E109A):"
   ]
  },
  {
   "cell_type": "markdown",
   "metadata": {},
   "source": [
    "Import libraries:"
   ]
  },
  {
   "cell_type": "code",
   "execution_count": 1,
   "metadata": {},
   "outputs": [
    {
     "name": "stderr",
     "output_type": "stream",
     "text": [
      "D:\\ProgramData\\Anaconda3\\envs\\py36\\lib\\site-packages\\statsmodels\\compat\\pandas.py:56: FutureWarning: The pandas.core.datetools module is deprecated and will be removed in a future version. Please use the pandas.tseries module instead.\n",
      "  from pandas.core import datetools\n"
     ]
    }
   ],
   "source": [
    "import numpy as np\n",
    "import pandas as pd\n",
    "import matplotlib\n",
    "import matplotlib.pyplot as plt\n",
    "import statsmodels.api as sm\n",
    "from statsmodels.api import OLS\n",
    "from sklearn.decomposition import PCA\n",
    "from sklearn.linear_model import LogisticRegression\n",
    "from sklearn.linear_model import LogisticRegressionCV\n",
    "from sklearn.utils import resample\n",
    "from sklearn.model_selection import cross_val_score\n",
    "from sklearn.metrics import accuracy_score\n",
    "\n",
    "import seaborn as sns\n",
    "%matplotlib inline\n",
    "\n"
   ]
  },
  {
   "cell_type": "markdown",
   "metadata": {},
   "source": [
    "## Cancer Classification from Gene Expressions\n",
    "\n",
    "In this homework assignment, we will build a classification model to distinguish between two related classes of cancer, acute lymphoblastic leukemia (ALL) and acute myeloid leukemia (AML), using gene expression measurements. The data set is provided in the file `dataset_hw5.csv`. Each row in this file corresponds to a tumor tissue sample from a patient with one of the two forms of Leukemia. The first column contains the cancer type, with 0 indicating the ALL class and 1 indicating the AML class. Columns 2-7130 contain expression levels of 7129 genes recorded from each tissue sample. \n",
    "\n",
    "In the following parts, we will use logistic regression to build a classification model for this data set. We will also use principal components analysis (PCA) to visualize the data and to reduce its dimensions. \n",
    "\n"
   ]
  },
  {
   "cell_type": "markdown",
   "metadata": {},
   "source": [
    "## Part (a): Data Exploration\n",
    "\n",
    "1. First step is to  split  the observations into an approximate 50-50 train-test split.  Below is some code to do this for you (we want to make sure everyone has the same splits).\n",
    "\n",
    "2. Take a peak at your training set: you should notice the severe differences in the measurements from one gene to the next (some are negative, some hover around zero, and some are well into the thousands).  To account for these differences in scale and variability, normalize each predictor to vary between 0 and 1.\n",
    "\n",
    "3. Notice that the results training set contains more predictors than observations. Do you foresee a problem in fitting a classification model to such a data set?\n",
    "\n",
    "4. A convenient tool to visualize the gene expression data is a heat map. Arrange the rows of the training set so that the 'AML' rows are grouped together and the 'ALL' rows are together. Generate a heat map of the data with expression values from the following genes: \n",
    "`D49818_at`, `M23161_at`, `hum_alu_at`, `AFFX-PheX-5_at`, `M15990_at`. By observing the heat map, comment on which of these genes are useful in discriminating between the two classes.\n",
    "\n",
    "5. We can also visualize this data set in two dimensions using PCA. Find the top two principal components for the gene expression data. Generate a scatter plot using these principal components, highlighting the AML and ALL points in different colors. How well do the top two principal components discriminate between the two classes?\n",
    "\n"
   ]
  },
  {
   "cell_type": "code",
   "execution_count": 2,
   "metadata": {
    "collapsed": true
   },
   "outputs": [],
   "source": [
    "np.random.seed(9001)\n",
    "df = pd.read_csv('dataset_hw5.csv')\n",
    "msk = np.random.rand(len(df)) < 0.5\n",
    "data_train = df[msk]\n",
    "data_test = df[~msk]"
   ]
  },
  {
   "cell_type": "code",
   "execution_count": 3,
   "metadata": {
    "scrolled": true
   },
   "outputs": [
    {
     "data": {
      "text/html": [
       "<div>\n",
       "<style>\n",
       "    .dataframe thead tr:only-child th {\n",
       "        text-align: right;\n",
       "    }\n",
       "\n",
       "    .dataframe thead th {\n",
       "        text-align: left;\n",
       "    }\n",
       "\n",
       "    .dataframe tbody tr th {\n",
       "        vertical-align: top;\n",
       "    }\n",
       "</style>\n",
       "<table border=\"1\" class=\"dataframe\">\n",
       "  <thead>\n",
       "    <tr style=\"text-align: right;\">\n",
       "      <th></th>\n",
       "      <th>Cancer_type</th>\n",
       "      <th>AFFX-BioB-5_at</th>\n",
       "      <th>AFFX-BioB-M_at</th>\n",
       "      <th>AFFX-BioB-3_at</th>\n",
       "      <th>AFFX-BioC-5_at</th>\n",
       "      <th>AFFX-BioC-3_at</th>\n",
       "      <th>AFFX-BioDn-5_at</th>\n",
       "      <th>AFFX-BioDn-3_at</th>\n",
       "      <th>AFFX-CreX-5_at</th>\n",
       "      <th>AFFX-CreX-3_at</th>\n",
       "      <th>...</th>\n",
       "      <th>U48730_at</th>\n",
       "      <th>U58516_at</th>\n",
       "      <th>U73738_at</th>\n",
       "      <th>X06956_at</th>\n",
       "      <th>X16699_at</th>\n",
       "      <th>X83863_at</th>\n",
       "      <th>Z17240_at</th>\n",
       "      <th>L49218_f_at</th>\n",
       "      <th>M71243_f_at</th>\n",
       "      <th>Z78285_f_at</th>\n",
       "    </tr>\n",
       "  </thead>\n",
       "  <tbody>\n",
       "    <tr>\n",
       "      <th>0</th>\n",
       "      <td>0</td>\n",
       "      <td>-214</td>\n",
       "      <td>-153</td>\n",
       "      <td>-58</td>\n",
       "      <td>88</td>\n",
       "      <td>-295</td>\n",
       "      <td>-558</td>\n",
       "      <td>199</td>\n",
       "      <td>-176</td>\n",
       "      <td>252</td>\n",
       "      <td>...</td>\n",
       "      <td>185</td>\n",
       "      <td>511</td>\n",
       "      <td>-125</td>\n",
       "      <td>389</td>\n",
       "      <td>-37</td>\n",
       "      <td>793</td>\n",
       "      <td>329</td>\n",
       "      <td>36</td>\n",
       "      <td>191</td>\n",
       "      <td>-37</td>\n",
       "    </tr>\n",
       "    <tr>\n",
       "      <th>5</th>\n",
       "      <td>0</td>\n",
       "      <td>-67</td>\n",
       "      <td>-93</td>\n",
       "      <td>84</td>\n",
       "      <td>25</td>\n",
       "      <td>-179</td>\n",
       "      <td>-323</td>\n",
       "      <td>-135</td>\n",
       "      <td>-127</td>\n",
       "      <td>-2</td>\n",
       "      <td>...</td>\n",
       "      <td>48</td>\n",
       "      <td>224</td>\n",
       "      <td>60</td>\n",
       "      <td>194</td>\n",
       "      <td>-10</td>\n",
       "      <td>291</td>\n",
       "      <td>41</td>\n",
       "      <td>8</td>\n",
       "      <td>-2</td>\n",
       "      <td>-80</td>\n",
       "    </tr>\n",
       "    <tr>\n",
       "      <th>9</th>\n",
       "      <td>0</td>\n",
       "      <td>-476</td>\n",
       "      <td>-213</td>\n",
       "      <td>-18</td>\n",
       "      <td>301</td>\n",
       "      <td>-403</td>\n",
       "      <td>-394</td>\n",
       "      <td>-42</td>\n",
       "      <td>-144</td>\n",
       "      <td>98</td>\n",
       "      <td>...</td>\n",
       "      <td>241</td>\n",
       "      <td>1214</td>\n",
       "      <td>127</td>\n",
       "      <td>255</td>\n",
       "      <td>50</td>\n",
       "      <td>1701</td>\n",
       "      <td>1108</td>\n",
       "      <td>61</td>\n",
       "      <td>525</td>\n",
       "      <td>-83</td>\n",
       "    </tr>\n",
       "    <tr>\n",
       "      <th>12</th>\n",
       "      <td>0</td>\n",
       "      <td>17</td>\n",
       "      <td>-229</td>\n",
       "      <td>79</td>\n",
       "      <td>218</td>\n",
       "      <td>-262</td>\n",
       "      <td>-404</td>\n",
       "      <td>325</td>\n",
       "      <td>-201</td>\n",
       "      <td>6</td>\n",
       "      <td>...</td>\n",
       "      <td>225</td>\n",
       "      <td>1020</td>\n",
       "      <td>-109</td>\n",
       "      <td>209</td>\n",
       "      <td>-51</td>\n",
       "      <td>1434</td>\n",
       "      <td>255</td>\n",
       "      <td>53</td>\n",
       "      <td>545</td>\n",
       "      <td>-16</td>\n",
       "    </tr>\n",
       "    <tr>\n",
       "      <th>13</th>\n",
       "      <td>0</td>\n",
       "      <td>-144</td>\n",
       "      <td>-199</td>\n",
       "      <td>-157</td>\n",
       "      <td>132</td>\n",
       "      <td>-151</td>\n",
       "      <td>-347</td>\n",
       "      <td>-118</td>\n",
       "      <td>-24</td>\n",
       "      <td>126</td>\n",
       "      <td>...</td>\n",
       "      <td>103</td>\n",
       "      <td>595</td>\n",
       "      <td>-12</td>\n",
       "      <td>36</td>\n",
       "      <td>26</td>\n",
       "      <td>208</td>\n",
       "      <td>113</td>\n",
       "      <td>-8</td>\n",
       "      <td>22</td>\n",
       "      <td>-22</td>\n",
       "    </tr>\n",
       "  </tbody>\n",
       "</table>\n",
       "<p>5 rows × 7130 columns</p>\n",
       "</div>"
      ],
      "text/plain": [
       "    Cancer_type  AFFX-BioB-5_at  AFFX-BioB-M_at  AFFX-BioB-3_at  \\\n",
       "0             0            -214            -153             -58   \n",
       "5             0             -67             -93              84   \n",
       "9             0            -476            -213             -18   \n",
       "12            0              17            -229              79   \n",
       "13            0            -144            -199            -157   \n",
       "\n",
       "    AFFX-BioC-5_at  AFFX-BioC-3_at  AFFX-BioDn-5_at  AFFX-BioDn-3_at  \\\n",
       "0               88            -295             -558              199   \n",
       "5               25            -179             -323             -135   \n",
       "9              301            -403             -394              -42   \n",
       "12             218            -262             -404              325   \n",
       "13             132            -151             -347             -118   \n",
       "\n",
       "    AFFX-CreX-5_at  AFFX-CreX-3_at     ...       U48730_at  U58516_at  \\\n",
       "0             -176             252     ...             185        511   \n",
       "5             -127              -2     ...              48        224   \n",
       "9             -144              98     ...             241       1214   \n",
       "12            -201               6     ...             225       1020   \n",
       "13             -24             126     ...             103        595   \n",
       "\n",
       "    U73738_at  X06956_at  X16699_at  X83863_at  Z17240_at  L49218_f_at  \\\n",
       "0        -125        389        -37        793        329           36   \n",
       "5          60        194        -10        291         41            8   \n",
       "9         127        255         50       1701       1108           61   \n",
       "12       -109        209        -51       1434        255           53   \n",
       "13        -12         36         26        208        113           -8   \n",
       "\n",
       "    M71243_f_at  Z78285_f_at  \n",
       "0           191          -37  \n",
       "5            -2          -80  \n",
       "9           525          -83  \n",
       "12          545          -16  \n",
       "13           22          -22  \n",
       "\n",
       "[5 rows x 7130 columns]"
      ]
     },
     "execution_count": 3,
     "metadata": {},
     "output_type": "execute_result"
    }
   ],
   "source": [
    "data_train.head()"
   ]
  },
  {
   "cell_type": "code",
   "execution_count": 4,
   "metadata": {
    "collapsed": true
   },
   "outputs": [],
   "source": [
    "Y_train = data_train['Cancer_type'].reset_index(drop=True)\n",
    "X_train = data_train.drop('Cancer_type', axis=1).reset_index(drop=True)\n",
    "\n",
    "Y_test = data_test['Cancer_type'].reset_index(drop=True)\n",
    "X_test = data_test.drop('Cancer_type', axis=1).reset_index(drop=True)\n",
    "\n",
    "X_cols = X_train.columns"
   ]
  },
  {
   "cell_type": "code",
   "execution_count": 5,
   "metadata": {
    "collapsed": true
   },
   "outputs": [],
   "source": [
    "from sklearn.preprocessing import MinMaxScaler"
   ]
  },
  {
   "cell_type": "code",
   "execution_count": 6,
   "metadata": {
    "collapsed": true
   },
   "outputs": [],
   "source": [
    "scaler = MinMaxScaler((0, 1))\n",
    "\n",
    "X_train = pd.DataFrame(scaler.fit_transform(X_train), columns=X_cols)\n",
    "X_test = pd.DataFrame(scaler.fit_transform(X_test), columns=X_cols)"
   ]
  },
  {
   "cell_type": "code",
   "execution_count": 7,
   "metadata": {},
   "outputs": [
    {
     "data": {
      "text/html": [
       "<div>\n",
       "<style>\n",
       "    .dataframe thead tr:only-child th {\n",
       "        text-align: right;\n",
       "    }\n",
       "\n",
       "    .dataframe thead th {\n",
       "        text-align: left;\n",
       "    }\n",
       "\n",
       "    .dataframe tbody tr th {\n",
       "        vertical-align: top;\n",
       "    }\n",
       "</style>\n",
       "<table border=\"1\" class=\"dataframe\">\n",
       "  <thead>\n",
       "    <tr style=\"text-align: right;\">\n",
       "      <th></th>\n",
       "      <th>AFFX-BioB-5_at</th>\n",
       "      <th>AFFX-BioB-M_at</th>\n",
       "      <th>AFFX-BioB-3_at</th>\n",
       "      <th>AFFX-BioC-5_at</th>\n",
       "      <th>AFFX-BioC-3_at</th>\n",
       "      <th>AFFX-BioDn-5_at</th>\n",
       "      <th>AFFX-BioDn-3_at</th>\n",
       "      <th>AFFX-CreX-5_at</th>\n",
       "      <th>AFFX-CreX-3_at</th>\n",
       "      <th>AFFX-BioB-5_st</th>\n",
       "      <th>...</th>\n",
       "      <th>U48730_at</th>\n",
       "      <th>U58516_at</th>\n",
       "      <th>U73738_at</th>\n",
       "      <th>X06956_at</th>\n",
       "      <th>X16699_at</th>\n",
       "      <th>X83863_at</th>\n",
       "      <th>Z17240_at</th>\n",
       "      <th>L49218_f_at</th>\n",
       "      <th>M71243_f_at</th>\n",
       "      <th>Z78285_f_at</th>\n",
       "    </tr>\n",
       "  </thead>\n",
       "  <tbody>\n",
       "    <tr>\n",
       "      <th>count</th>\n",
       "      <td>32.000000</td>\n",
       "      <td>32.000000</td>\n",
       "      <td>32.000000</td>\n",
       "      <td>32.000000</td>\n",
       "      <td>32.000000</td>\n",
       "      <td>32.000000</td>\n",
       "      <td>32.000000</td>\n",
       "      <td>32.000000</td>\n",
       "      <td>32.000000</td>\n",
       "      <td>32.000000</td>\n",
       "      <td>...</td>\n",
       "      <td>32.000000</td>\n",
       "      <td>32.000000</td>\n",
       "      <td>32.000000</td>\n",
       "      <td>32.000000</td>\n",
       "      <td>32.000000</td>\n",
       "      <td>32.000000</td>\n",
       "      <td>32.000000</td>\n",
       "      <td>32.000000</td>\n",
       "      <td>32.000000</td>\n",
       "      <td>32.000000</td>\n",
       "    </tr>\n",
       "    <tr>\n",
       "      <th>mean</th>\n",
       "      <td>0.624055</td>\n",
       "      <td>0.554310</td>\n",
       "      <td>0.574792</td>\n",
       "      <td>0.566406</td>\n",
       "      <td>0.419684</td>\n",
       "      <td>0.593750</td>\n",
       "      <td>0.455662</td>\n",
       "      <td>0.583820</td>\n",
       "      <td>0.542561</td>\n",
       "      <td>0.540228</td>\n",
       "      <td>...</td>\n",
       "      <td>0.378586</td>\n",
       "      <td>0.392435</td>\n",
       "      <td>0.636270</td>\n",
       "      <td>0.288934</td>\n",
       "      <td>0.637384</td>\n",
       "      <td>0.358404</td>\n",
       "      <td>0.300761</td>\n",
       "      <td>0.722114</td>\n",
       "      <td>0.193695</td>\n",
       "      <td>0.561800</td>\n",
       "    </tr>\n",
       "    <tr>\n",
       "      <th>std</th>\n",
       "      <td>0.202594</td>\n",
       "      <td>0.255539</td>\n",
       "      <td>0.198218</td>\n",
       "      <td>0.298191</td>\n",
       "      <td>0.205918</td>\n",
       "      <td>0.226106</td>\n",
       "      <td>0.220498</td>\n",
       "      <td>0.212797</td>\n",
       "      <td>0.234644</td>\n",
       "      <td>0.217127</td>\n",
       "      <td>...</td>\n",
       "      <td>0.239203</td>\n",
       "      <td>0.239999</td>\n",
       "      <td>0.218186</td>\n",
       "      <td>0.191286</td>\n",
       "      <td>0.214031</td>\n",
       "      <td>0.232741</td>\n",
       "      <td>0.225406</td>\n",
       "      <td>0.192814</td>\n",
       "      <td>0.231173</td>\n",
       "      <td>0.182029</td>\n",
       "    </tr>\n",
       "    <tr>\n",
       "      <th>min</th>\n",
       "      <td>0.000000</td>\n",
       "      <td>0.000000</td>\n",
       "      <td>0.000000</td>\n",
       "      <td>0.000000</td>\n",
       "      <td>0.000000</td>\n",
       "      <td>0.000000</td>\n",
       "      <td>0.000000</td>\n",
       "      <td>0.000000</td>\n",
       "      <td>0.000000</td>\n",
       "      <td>0.000000</td>\n",
       "      <td>...</td>\n",
       "      <td>0.000000</td>\n",
       "      <td>0.000000</td>\n",
       "      <td>0.000000</td>\n",
       "      <td>0.000000</td>\n",
       "      <td>0.000000</td>\n",
       "      <td>0.000000</td>\n",
       "      <td>0.000000</td>\n",
       "      <td>0.000000</td>\n",
       "      <td>0.000000</td>\n",
       "      <td>0.000000</td>\n",
       "    </tr>\n",
       "    <tr>\n",
       "      <th>25%</th>\n",
       "      <td>0.528915</td>\n",
       "      <td>0.386207</td>\n",
       "      <td>0.460873</td>\n",
       "      <td>0.333097</td>\n",
       "      <td>0.257704</td>\n",
       "      <td>0.455305</td>\n",
       "      <td>0.291638</td>\n",
       "      <td>0.457944</td>\n",
       "      <td>0.352668</td>\n",
       "      <td>0.395665</td>\n",
       "      <td>...</td>\n",
       "      <td>0.186066</td>\n",
       "      <td>0.226173</td>\n",
       "      <td>0.508197</td>\n",
       "      <td>0.193369</td>\n",
       "      <td>0.537037</td>\n",
       "      <td>0.196229</td>\n",
       "      <td>0.122391</td>\n",
       "      <td>0.638889</td>\n",
       "      <td>0.078367</td>\n",
       "      <td>0.456157</td>\n",
       "    </tr>\n",
       "    <tr>\n",
       "      <th>50%</th>\n",
       "      <td>0.642349</td>\n",
       "      <td>0.563793</td>\n",
       "      <td>0.577562</td>\n",
       "      <td>0.559659</td>\n",
       "      <td>0.425270</td>\n",
       "      <td>0.598837</td>\n",
       "      <td>0.452265</td>\n",
       "      <td>0.620327</td>\n",
       "      <td>0.558005</td>\n",
       "      <td>0.535282</td>\n",
       "      <td>...</td>\n",
       "      <td>0.378689</td>\n",
       "      <td>0.360704</td>\n",
       "      <td>0.685012</td>\n",
       "      <td>0.233301</td>\n",
       "      <td>0.622222</td>\n",
       "      <td>0.314657</td>\n",
       "      <td>0.279565</td>\n",
       "      <td>0.741319</td>\n",
       "      <td>0.099325</td>\n",
       "      <td>0.563433</td>\n",
       "    </tr>\n",
       "    <tr>\n",
       "      <th>75%</th>\n",
       "      <td>0.738434</td>\n",
       "      <td>0.781034</td>\n",
       "      <td>0.660665</td>\n",
       "      <td>0.803267</td>\n",
       "      <td>0.516179</td>\n",
       "      <td>0.726381</td>\n",
       "      <td>0.570906</td>\n",
       "      <td>0.731308</td>\n",
       "      <td>0.726798</td>\n",
       "      <td>0.669607</td>\n",
       "      <td>...</td>\n",
       "      <td>0.529508</td>\n",
       "      <td>0.481488</td>\n",
       "      <td>0.800937</td>\n",
       "      <td>0.358180</td>\n",
       "      <td>0.790741</td>\n",
       "      <td>0.503983</td>\n",
       "      <td>0.380870</td>\n",
       "      <td>0.821181</td>\n",
       "      <td>0.222487</td>\n",
       "      <td>0.695896</td>\n",
       "    </tr>\n",
       "    <tr>\n",
       "      <th>max</th>\n",
       "      <td>1.000000</td>\n",
       "      <td>1.000000</td>\n",
       "      <td>1.000000</td>\n",
       "      <td>1.000000</td>\n",
       "      <td>1.000000</td>\n",
       "      <td>1.000000</td>\n",
       "      <td>1.000000</td>\n",
       "      <td>1.000000</td>\n",
       "      <td>1.000000</td>\n",
       "      <td>1.000000</td>\n",
       "      <td>...</td>\n",
       "      <td>1.000000</td>\n",
       "      <td>1.000000</td>\n",
       "      <td>1.000000</td>\n",
       "      <td>1.000000</td>\n",
       "      <td>1.000000</td>\n",
       "      <td>1.000000</td>\n",
       "      <td>1.000000</td>\n",
       "      <td>1.000000</td>\n",
       "      <td>1.000000</td>\n",
       "      <td>1.000000</td>\n",
       "    </tr>\n",
       "  </tbody>\n",
       "</table>\n",
       "<p>8 rows × 7129 columns</p>\n",
       "</div>"
      ],
      "text/plain": [
       "       AFFX-BioB-5_at  AFFX-BioB-M_at  AFFX-BioB-3_at  AFFX-BioC-5_at  \\\n",
       "count       32.000000       32.000000       32.000000       32.000000   \n",
       "mean         0.624055        0.554310        0.574792        0.566406   \n",
       "std          0.202594        0.255539        0.198218        0.298191   \n",
       "min          0.000000        0.000000        0.000000        0.000000   \n",
       "25%          0.528915        0.386207        0.460873        0.333097   \n",
       "50%          0.642349        0.563793        0.577562        0.559659   \n",
       "75%          0.738434        0.781034        0.660665        0.803267   \n",
       "max          1.000000        1.000000        1.000000        1.000000   \n",
       "\n",
       "       AFFX-BioC-3_at  AFFX-BioDn-5_at  AFFX-BioDn-3_at  AFFX-CreX-5_at  \\\n",
       "count       32.000000        32.000000        32.000000       32.000000   \n",
       "mean         0.419684         0.593750         0.455662        0.583820   \n",
       "std          0.205918         0.226106         0.220498        0.212797   \n",
       "min          0.000000         0.000000         0.000000        0.000000   \n",
       "25%          0.257704         0.455305         0.291638        0.457944   \n",
       "50%          0.425270         0.598837         0.452265        0.620327   \n",
       "75%          0.516179         0.726381         0.570906        0.731308   \n",
       "max          1.000000         1.000000         1.000000        1.000000   \n",
       "\n",
       "       AFFX-CreX-3_at  AFFX-BioB-5_st     ...       U48730_at  U58516_at  \\\n",
       "count       32.000000       32.000000     ...       32.000000  32.000000   \n",
       "mean         0.542561        0.540228     ...        0.378586   0.392435   \n",
       "std          0.234644        0.217127     ...        0.239203   0.239999   \n",
       "min          0.000000        0.000000     ...        0.000000   0.000000   \n",
       "25%          0.352668        0.395665     ...        0.186066   0.226173   \n",
       "50%          0.558005        0.535282     ...        0.378689   0.360704   \n",
       "75%          0.726798        0.669607     ...        0.529508   0.481488   \n",
       "max          1.000000        1.000000     ...        1.000000   1.000000   \n",
       "\n",
       "       U73738_at  X06956_at  X16699_at  X83863_at  Z17240_at  L49218_f_at  \\\n",
       "count  32.000000  32.000000  32.000000  32.000000  32.000000    32.000000   \n",
       "mean    0.636270   0.288934   0.637384   0.358404   0.300761     0.722114   \n",
       "std     0.218186   0.191286   0.214031   0.232741   0.225406     0.192814   \n",
       "min     0.000000   0.000000   0.000000   0.000000   0.000000     0.000000   \n",
       "25%     0.508197   0.193369   0.537037   0.196229   0.122391     0.638889   \n",
       "50%     0.685012   0.233301   0.622222   0.314657   0.279565     0.741319   \n",
       "75%     0.800937   0.358180   0.790741   0.503983   0.380870     0.821181   \n",
       "max     1.000000   1.000000   1.000000   1.000000   1.000000     1.000000   \n",
       "\n",
       "       M71243_f_at  Z78285_f_at  \n",
       "count    32.000000    32.000000  \n",
       "mean      0.193695     0.561800  \n",
       "std       0.231173     0.182029  \n",
       "min       0.000000     0.000000  \n",
       "25%       0.078367     0.456157  \n",
       "50%       0.099325     0.563433  \n",
       "75%       0.222487     0.695896  \n",
       "max       1.000000     1.000000  \n",
       "\n",
       "[8 rows x 7129 columns]"
      ]
     },
     "execution_count": 7,
     "metadata": {},
     "output_type": "execute_result"
    }
   ],
   "source": [
    "X_train.describe()"
   ]
  },
  {
   "cell_type": "code",
   "execution_count": 8,
   "metadata": {
    "collapsed": true
   },
   "outputs": [],
   "source": [
    "X_train_ALL = X_train[Y_train==0]\n",
    "X_train_AML = X_train[Y_train==1]"
   ]
  },
  {
   "cell_type": "code",
   "execution_count": 9,
   "metadata": {
    "collapsed": true
   },
   "outputs": [],
   "source": [
    "heatmap_cols = [\"D49818_at\", \"M23161_at\", \"hum_alu_at\", \"AFFX-PheX-5_at\", \"M15990_at\"]"
   ]
  },
  {
   "cell_type": "code",
   "execution_count": 10,
   "metadata": {},
   "outputs": [
    {
     "data": {
      "image/png": "[encoded data removed]",
      "text/plain": [
       "<matplotlib.figure.Figure at 0x2064480df60>"
      ]
     },
     "metadata": {},
     "output_type": "display_data"
    }
   ],
   "source": [
    "sns.set_context('poster')\n",
    "sns.heatmap(X_train_ALL[heatmap_cols], cmap='bwr')\n",
    "plt.title('ALL Patient Gene Expressions')\n",
    "plt.show()"
   ]
  },
  {
   "cell_type": "code",
   "execution_count": 11,
   "metadata": {},
   "outputs": [
    {
     "data": {
      "image/png": "[encoded data removed]",
      "text/plain": [
       "<matplotlib.figure.Figure at 0x2064480dba8>"
      ]
     },
     "metadata": {},
     "output_type": "display_data"
    }
   ],
   "source": [
    "sns.set_context('poster')\n",
    "sns.heatmap(X_train_AML[heatmap_cols], cmap='bwr')\n",
    "plt.title('AML Patient Gene Expressions')\n",
    "plt.show()"
   ]
  },
  {
   "cell_type": "code",
   "execution_count": 12,
   "metadata": {
    "collapsed": true
   },
   "outputs": [],
   "source": [
    "pca = PCA(n_components=2)\n",
    "Z_train_PCA = pca.fit_transform(X_train)"
   ]
  },
  {
   "cell_type": "code",
   "execution_count": 13,
   "metadata": {},
   "outputs": [
    {
     "data": {
      "image/png": "[encoded data removed]",
      "text/plain": [
       "<matplotlib.figure.Figure at 0x20644eb4e48>"
      ]
     },
     "metadata": {},
     "output_type": "display_data"
    }
   ],
   "source": [
    "plt.scatter(Z_train_PCA[Y_train == 0, 0], Z_train_PCA[Y_train == 0, 1], label='ALL')\n",
    "plt.scatter(Z_train_PCA[Y_train == 1, 0], Z_train_PCA[Y_train == 1, 1], label='AML')\n",
    "plt.legend(loc='best')\n",
    "plt.title('First two PCA components')\n",
    "plt.xlabel('$Z_0$')\n",
    "plt.ylabel('$Z_1$')\n",
    "plt.show()"
   ]
  },
  {
   "cell_type": "markdown",
   "metadata": {},
   "source": [
    "Notice that the results training set contains more predictors than observations. Do you foresee a problem in fitting a classification model to such a data set?\n",
    "> The coefficients of the model will not be unique if there are more predictors than observations.\n",
    "\n",
    "By observing the heat map, comment on which of these genes are useful in discriminating between the two classes.\n",
    "> These five genes' expressions are very similar in both ALL and AML cases - None of them can be used alone to discriminate between ALL and AML.\n",
    "\n",
    "How well do the top two principal components discriminate between the two classes?\n",
    "> The top two principal components provide minimum information on discriminating between ALL and AML."
   ]
  },
  {
   "cell_type": "markdown",
   "metadata": {},
   "source": [
    "## Part (b): Linear Regression vs. Logistic Regression\n",
    "\n",
    "Begin by analyzing the differences between using linear regression and logistic regression for classification. For this part, you shall work with a single gene predictor: `D29963_at`.\n",
    "\n",
    "1. Fit a simple linear regression model to the training set using the single gene predictor `D29963_at`. We could interpret the scores predicted by regression model interpreted for a patient as an estimate of the probability that the patient has the `ALL` type cancer (class 1). Is there a problem with this interpretation?\n",
    "\n",
    "2. The fitted linear regression model can be converted to a classification model (i.e. a model that predicts one of two binary labels 0 or 1) by classifying patients with predicted score greater than 0.5 into the `ALL` type (class 1), and the others into the `AML` type (class 0). Evaluate the classification accuracy (1 - misclassification rate) of the obtained classification model on both the training and test sets.\n",
    "\n",
    "3. Next, fit a simple logistic regression model to the training set. How does the training and test calssification accuracy of this model compare with the linear regression model?  Remember, you need to set the regularization parameter for sklearn's logistic regression function to be a very large value in order not to regularize (use 'C=100000').\n",
    "\n",
    "4. Plot the quantitative output from linear regression model and the probabilistic output from the logistic regression model (on the training set points) as a function of the gene predictor. Also, display the true binary response for the training set points in the same plot.\n",
    "Based on these plots, does one of the models appear better suited for binary classification than the other? Explain.\n",
    "\n"
   ]
  },
  {
   "cell_type": "code",
   "execution_count": 14,
   "metadata": {
    "collapsed": true
   },
   "outputs": [],
   "source": [
    "Linear_model = OLS(Y_train, sm.add_constant(X_train['D29963_at']))\n",
    "Linear_result = Linear_model.fit()\n",
    "Y_train_pred = Linear_result.predict(sm.add_constant(X_train['D29963_at']))"
   ]
  },
  {
   "cell_type": "code",
   "execution_count": 15,
   "metadata": {},
   "outputs": [
    {
     "data": {
      "text/plain": [
       "0.10034487947411241"
      ]
     },
     "execution_count": 15,
     "metadata": {},
     "output_type": "execute_result"
    }
   ],
   "source": [
    "Linear_result.rsquared"
   ]
  },
  {
   "cell_type": "code",
   "execution_count": 16,
   "metadata": {},
   "outputs": [
    {
     "data": {
      "text/plain": [
       "0.71875"
      ]
     },
     "execution_count": 16,
     "metadata": {},
     "output_type": "execute_result"
    }
   ],
   "source": [
    "Y_train_pred_class = Y_train_pred.apply(lambda y: 1 if y > 0.5 else 0)\n",
    "(Y_train_pred_class == Y_train).mean() # Accuracy"
   ]
  },
  {
   "cell_type": "code",
   "execution_count": 17,
   "metadata": {},
   "outputs": [
    {
     "data": {
      "text/plain": [
       "0.85365853658536583"
      ]
     },
     "execution_count": 17,
     "metadata": {},
     "output_type": "execute_result"
    }
   ],
   "source": [
    "Y_test_pred = Linear_result.predict(sm.add_constant(X_test['D29963_at']))\n",
    "Y_test_pred_class = Y_test_pred.apply(lambda y: 1 if y > 0.5 else 0)\n",
    "(Y_test_pred_class == Y_test).mean() # Accuracy"
   ]
  },
  {
   "cell_type": "code",
   "execution_count": 18,
   "metadata": {},
   "outputs": [],
   "source": [
    "Logistic_model = LogisticRegression(C=1000000)\n",
    "Logistic_result = Logistic_model.fit(X_train['D29963_at'].values.reshape(-1, 1), Y_train)"
   ]
  },
  {
   "cell_type": "code",
   "execution_count": 19,
   "metadata": {},
   "outputs": [
    {
     "data": {
      "text/plain": [
       "0.71875"
      ]
     },
     "execution_count": 19,
     "metadata": {},
     "output_type": "execute_result"
    }
   ],
   "source": [
    "Logistic_result.score(X_train['D29963_at'].values.reshape(-1, 1), Y_train)"
   ]
  },
  {
   "cell_type": "code",
   "execution_count": 20,
   "metadata": {},
   "outputs": [
    {
     "data": {
      "text/plain": [
       "0.82926829268292679"
      ]
     },
     "execution_count": 20,
     "metadata": {},
     "output_type": "execute_result"
    }
   ],
   "source": [
    "Logistic_result.score(X_test['D29963_at'].values.reshape(-1, 1), Y_test)"
   ]
  },
  {
   "cell_type": "code",
   "execution_count": 21,
   "metadata": {},
   "outputs": [],
   "source": [
    "X = np.linspace(0, 1, 20)\n",
    "Y = Logistic_result.predict_proba(X.reshape(-1, 1))"
   ]
  },
  {
   "cell_type": "code",
   "execution_count": 22,
   "metadata": {},
   "outputs": [
    {
     "data": {
      "image/png": "[encoded data removed]",
      "text/plain": [
       "<matplotlib.figure.Figure at 0x20644f1c860>"
      ]
     },
     "metadata": {},
     "output_type": "display_data"
    }
   ],
   "source": [
    "plt.scatter(X_train['D29963_at'], Y_train, label='Training', color='r')\n",
    "plt.plot(X_train['D29963_at'], Y_train_pred, label='Linear')\n",
    "plt.plot(X, Y[:, 1], label='Logistic')\n",
    "plt.legend(loc='best')\n",
    "plt.show()"
   ]
  },
  {
   "cell_type": "markdown",
   "metadata": {},
   "source": [
    "Based on the plots and the accuracy, the performance of the linear model and the logistic model are similar to each other"
   ]
  },
  {
   "cell_type": "markdown",
   "metadata": {},
   "source": [
    "## Part (c): Multiple Logistic Regression\n",
    "\n",
    "1. Next, fit a multiple logistic regression model with all the gene predictors from the data set.  How does the classification accuracy of this model compare with the models fitted in Part (b) with a single gene (on both the training and test sets)?  \n",
    "\n",
    "2. \"Use the `visualize_prob` from `HW5_functions.py` to visualize the probabilties predicted by the fitted multiple logistic regression model on both the training and test data sets. The function creates a visualization that places the data points on a vertical line based on the predicted probabilities, with the `ALL` and `AML` classes shown in different colors, and with the 0.5 threshold highlighted using a dotted horizontal line.  Is there a difference in the spread of probabilities in the training and test plots? Are there data points for which the predicted probability is close to 0.5? If so, what can you say about these points?\""
   ]
  },
  {
   "cell_type": "code",
   "execution_count": 23,
   "metadata": {
    "collapsed": true
   },
   "outputs": [],
   "source": [
    "# starter code\n",
    "from HW5_functions import visualize_prob"
   ]
  },
  {
   "cell_type": "code",
   "execution_count": 24,
   "metadata": {
    "collapsed": true
   },
   "outputs": [],
   "source": [
    "#--------  visualize_prob\n",
    "# A function to visualize the probabilities predicted by a Logistic Regression model\n",
    "# Input: \n",
    "#      model (Logistic regression model)\n",
    "#      x (n x d array of predictors in training data)\n",
    "#      y (n x 1 array of response variable vals in training data: 0 or 1)\n",
    "#      ax (an axis object to generate the plot)\n",
    "\n",
    "def visualize_prob(model, x, y, ax):\n",
    "    # Use the model to predict probabilities for\n",
    "    y_pred = model.predict_proba(x)\n",
    "    \n",
    "    # Separate the predictions on the label 1 and label 0 points\n",
    "    ypos = y_pred[y==1]\n",
    "    yneg = y_pred[y==0]\n",
    "    \n",
    "    # Count the number of label 1 and label 0 points\n",
    "    npos = ypos.shape[0]\n",
    "    nneg = yneg.shape[0]\n",
    "    \n",
    "    # Plot the probabilities on a vertical line at x = 0, \n",
    "    # with the positive points in blue and negative points in red\n",
    "    pos_handle = ax.plot(np.zeros((npos,1))+0.1, ypos[:,1], 'bx', label = 'ALL')\n",
    "    neg_handle = ax.plot(np.zeros((nneg,1))-0.1, yneg[:,1], 'rx', label = 'AML')\n",
    "    \n",
    "    # Line to mark prob 0.5\n",
    "    ax.axhline(y = 0.5, color = 'k', linestyle = '--')\n",
    "    \n",
    "    # Add y-label and legend, do not display x-axis, set y-axis limit\n",
    "    ax.set_ylabel('Probability of AML class')\n",
    "    ax.legend(loc = 'best')\n",
    "    ax.get_xaxis().set_visible(False)\n",
    "    ax.set_ylim([0,1])\n",
    "    ax.set_xlim([-0.5, 0.5])"
   ]
  },
  {
   "cell_type": "code",
   "execution_count": 25,
   "metadata": {
    "collapsed": true
   },
   "outputs": [],
   "source": [
    "MLG_model = LogisticRegression(C=100000)\n",
    "MLG_results = MLG_model.fit(X_train, Y_train)"
   ]
  },
  {
   "cell_type": "code",
   "execution_count": 26,
   "metadata": {},
   "outputs": [
    {
     "data": {
      "text/plain": [
       "1.0"
      ]
     },
     "execution_count": 26,
     "metadata": {},
     "output_type": "execute_result"
    }
   ],
   "source": [
    "MLG_results.score(X_train, Y_train)"
   ]
  },
  {
   "cell_type": "code",
   "execution_count": 27,
   "metadata": {},
   "outputs": [
    {
     "data": {
      "text/plain": [
       "0.92682926829268297"
      ]
     },
     "execution_count": 27,
     "metadata": {},
     "output_type": "execute_result"
    }
   ],
   "source": [
    "MLG_results.score(X_test, Y_test)"
   ]
  },
  {
   "cell_type": "code",
   "execution_count": 28,
   "metadata": {},
   "outputs": [
    {
     "data": {
      "image/png": "[encoded data removed]",
      "text/plain": [
       "<matplotlib.figure.Figure at 0x206449de668>"
      ]
     },
     "metadata": {},
     "output_type": "display_data"
    }
   ],
   "source": [
    "sns.reset_defaults()\n",
    "fig, (ax1, ax2) = plt.subplots(1, 2, figsize=(12, 6))\n",
    "visualize_prob(MLG_results, X_train.values, Y_train.values, ax1)\n",
    "visualize_prob(MLG_results, X_test.values, Y_test.values, ax2)"
   ]
  },
  {
   "cell_type": "markdown",
   "metadata": {},
   "source": [
    "How does the classification accuracy of this model compare with the models fitted in Part (b) with a single gene (on both the training and test sets)?\n",
    "> The training accuracy is 100% and the testing accuracy is 92.7%, both much higher than the single gene model.\n",
    "\n",
    "Is there a difference in the spread of probabilities in the training and test plots? Are there data points for which the predicted probability is close to 0.5? If so, what can you say about these points?\n",
    "> The testing set is more spread then the training set. There are some points in the testing set whose probability is close to 0.5, which indicate less conclusive prediction as they can easily be categorized into the other group if a threshold other than 0.5 was used."
   ]
  },
  {
   "cell_type": "markdown",
   "metadata": {},
   "source": [
    "## Part (d): Analyzing Significance of Coefficients\n",
    "\n",
    "How many of the coefficients estimated by the multiple logistic regression in the previous problem are significantly different from zero at a *significance level of 95%*? \n",
    "\n",
    "Hint: To answer this question, use *bootstrapping* with 100 boostrap samples/iterations.  \n",
    "\n"
   ]
  },
  {
   "cell_type": "code",
   "execution_count": 29,
   "metadata": {},
   "outputs": [],
   "source": [
    "n_iter = 100\n",
    "coefs = np.zeros((n_iter, X_train.shape[1]+1)) # all coefficients and a intercept\n",
    "for i in range(n_iter):\n",
    "    index = np.random.choice(len(X_train), replace=True, size=100)\n",
    "    X_train_bt = X_train.iloc[index]\n",
    "    Y_train_bt = Y_train.iloc[index]\n",
    "    \n",
    "    MLG_model = LogisticRegression(C=100000)\n",
    "    MLG_results = MLG_model.fit(X_train_bt, Y_train_bt)\n",
    "    \n",
    "    coefs[i, 0] = MLG_results.intercept_[0]\n",
    "    coefs[i, 1:] = MLG_results.coef_[0]"
   ]
  },
  {
   "cell_type": "markdown",
   "metadata": {},
   "source": [
    "#### Method 1: Use percentile ####"
   ]
  },
  {
   "cell_type": "code",
   "execution_count": 30,
   "metadata": {},
   "outputs": [
    {
     "name": "stdout",
     "output_type": "stream",
     "text": [
      "Number of coefficients that are significantly not 0: 2088\n",
      "Percentage of coefficients that are significantly not 0: 70.7%\n"
     ]
    }
   ],
   "source": [
    "coefs_quantiles = np.percentile(coefs, [2.5, 97.5], axis=0).T\n",
    "coef_has_0 = (coefs_quantiles[:,0] < 0) & (coefs_quantiles[:,1] > 0)\n",
    "print('Number of coefficients that are significantly not 0: %d' % \n",
    "      coef_has_0.sum())\n",
    "print('Percentage of coefficients that are significantly not 0: %.1f%%' % \n",
    "      ((1-coef_has_0.mean())*100))\n"
   ]
  },
  {
   "cell_type": "code",
   "execution_count": 31,
   "metadata": {},
   "outputs": [
    {
     "data": {
      "image/png": "[encoded data removed]",
      "text/plain": [
       "<matplotlib.figure.Figure at 0x206449683c8>"
      ]
     },
     "metadata": {},
     "output_type": "display_data"
    }
   ],
   "source": [
    "fig, (ax1, ax2) = plt.subplots(1, 2, figsize=(12, 6))\n",
    "ax1.hist(coefs[:, np.where(np.invert(coef_has_0))[0][-1]], bins=12)\n",
    "ax1.set_title('Coef significantly non-zero')\n",
    "ax2.hist(coefs[:, np.where(coef_has_0)[0][-1]], bins=12)\n",
    "ax2.set_title('Coef possibly zero')\n",
    "plt.show()"
   ]
  },
  {
   "cell_type": "markdown",
   "metadata": {},
   "source": [
    "#### Method 2: Use t-test ####"
   ]
  },
  {
   "cell_type": "code",
   "execution_count": 32,
   "metadata": {
    "collapsed": true
   },
   "outputs": [],
   "source": [
    "# A two-sided test for the null hypothesis that \n",
    "# the expected value (mean) of a sample of \n",
    "# independent observations a is equal to the given population mean, popmean\n",
    "# e.g. t, p = ttest_1samp(a, popmean)\n",
    "from scipy.stats import ttest_1samp"
   ]
  },
  {
   "cell_type": "code",
   "execution_count": 33,
   "metadata": {
    "collapsed": true
   },
   "outputs": [],
   "source": [
    "pvalues = np.ones(X_train.shape[1]+1)"
   ]
  },
  {
   "cell_type": "code",
   "execution_count": 34,
   "metadata": {},
   "outputs": [],
   "source": [
    "# Test if any of the coefficient is 0\n",
    "for i in range(len(pvalues)):\n",
    "    pvalues[i] = ttest_1samp(coefs[:, i], 0)[1]"
   ]
  },
  {
   "cell_type": "code",
   "execution_count": 35,
   "metadata": {},
   "outputs": [
    {
     "name": "stdout",
     "output_type": "stream",
     "text": [
      "Number of coefficients that are significantly not 0: 6939\n",
      "Percentage of coefficients that are significantly not 0: 97.3%\n"
     ]
    }
   ],
   "source": [
    "print('Number of coefficients that are significantly not 0: %d' % \n",
    "      (pvalues < 0.05).sum())\n",
    "print('Percentage of coefficients that are significantly not 0: %.1f%%' % \n",
    "      (((pvalues < 0.05).sum()/len(pvalues))*100))"
   ]
  },
  {
   "cell_type": "code",
   "execution_count": 36,
   "metadata": {},
   "outputs": [
    {
     "data": {
      "image/png": "[encoded data removed]",
      "text/plain": [
       "<matplotlib.figure.Figure at 0x20645cfe198>"
      ]
     },
     "metadata": {},
     "output_type": "display_data"
    }
   ],
   "source": [
    "fig, (ax1, ax2) = plt.subplots(1, 2, figsize=(12, 6))\n",
    "ax1.hist(coefs[:, np.where(pvalues < 0.05)[0][-1]], bins=12)\n",
    "ax1.set_title('Coef significantly non-zero')\n",
    "ax2.hist(coefs[:, np.where(pvalues > 0.05)[0][-1]], bins=12)\n",
    "ax2.set_title('Coef possibly zero')\n",
    "plt.show()"
   ]
  },
  {
   "cell_type": "markdown",
   "metadata": {},
   "source": [
    "## Part (e): Dimensionality Reduction using PCA\n",
    "\n",
    "A reasonable approach to reduce the dimensionality of the data is to use PCA and fit a logistic regression model on the first set of principal components contributing to 90% of the variance in the predictors.\n",
    "\n",
    "1. How do the classification accuracy values on both the training and tests sets compare with the models fitted in Parts (c) and (d)?  \n",
    "\n",
    "2. Re-fit a logistic regression model using 5-fold cross-validation to choose the number of principal components, and comment on whether you get better test performance than the model fitted above (explain your observations). \n",
    "\n",
    "3. Use the code provided in Part (c) to visualize the probabilities predicted by the fitted models on both the training and test sets. How does the spread of probabilities in these plots compare to those for the models in Part (c) and (d)? \n"
   ]
  },
  {
   "cell_type": "markdown",
   "metadata": {},
   "source": [
    "#### Part 1 ####"
   ]
  },
  {
   "cell_type": "code",
   "execution_count": 37,
   "metadata": {
    "collapsed": true
   },
   "outputs": [],
   "source": [
    "pca = PCA()\n",
    "Z_train_all = pca.fit_transform(X_train)\n",
    "Z_test_all = pca.transform(X_test)"
   ]
  },
  {
   "cell_type": "code",
   "execution_count": 38,
   "metadata": {},
   "outputs": [
    {
     "data": {
      "text/plain": [
       "24"
      ]
     },
     "execution_count": 38,
     "metadata": {},
     "output_type": "execute_result"
    }
   ],
   "source": [
    "n_comp = np.where(np.cumsum(pca.explained_variance_ratio_) >= 0.9)[0][0] + 1\n",
    "n_comp"
   ]
  },
  {
   "cell_type": "code",
   "execution_count": 39,
   "metadata": {
    "collapsed": true
   },
   "outputs": [],
   "source": [
    "pca = PCA(n_components=n_comp)\n",
    "Z_train = pca.fit_transform(X_train)\n",
    "\n",
    "MLG_model_PCA = LogisticRegression(C=100000)\n",
    "MLG_results_PCA = MLG_model_PCA.fit(Z_train, Y_train)"
   ]
  },
  {
   "cell_type": "code",
   "execution_count": 40,
   "metadata": {},
   "outputs": [
    {
     "name": "stdout",
     "output_type": "stream",
     "text": [
      "PCA fisrt 24 components training scores: 1.000\n"
     ]
    }
   ],
   "source": [
    "print('PCA fisrt %d components training scores: %.3f' % (n_comp, MLG_results_PCA.score(Z_train, Y_train)))"
   ]
  },
  {
   "cell_type": "code",
   "execution_count": 41,
   "metadata": {},
   "outputs": [
    {
     "name": "stdout",
     "output_type": "stream",
     "text": [
      "PCA fisrt 24 components testing scores: 0.92683\n"
     ]
    }
   ],
   "source": [
    "Z_test = pca.transform(X_test)\n",
    "print('PCA fisrt %d components testing scores: %.5f' % (n_comp, MLG_results_PCA.score(Z_test, Y_test)))"
   ]
  },
  {
   "cell_type": "code",
   "execution_count": 42,
   "metadata": {},
   "outputs": [
    {
     "data": {
      "image/png": "[encoded data removed]",
      "text/plain": [
       "<matplotlib.figure.Figure at 0x206449b5470>"
      ]
     },
     "metadata": {},
     "output_type": "display_data"
    }
   ],
   "source": [
    "sns.reset_defaults()\n",
    "fig, (ax1, ax2) = plt.subplots(1, 2, figsize=(12, 6))\n",
    "visualize_prob(MLG_results_PCA, Z_train, Y_train.values, ax1)\n",
    "visualize_prob(MLG_results_PCA, Z_test, Y_test.values, ax2)"
   ]
  },
  {
   "cell_type": "markdown",
   "metadata": {},
   "source": [
    "#### Part 2 ####"
   ]
  },
  {
   "cell_type": "code",
   "execution_count": 43,
   "metadata": {},
   "outputs": [],
   "source": [
    "scores = []\n",
    "for i in range(Z_train_all.shape[1]):\n",
    "    MLG_model_PCA_CV = LogisticRegressionCV(Cs=[100000], cv=5)\n",
    "    MLG_results_PCA_CV = MLG_model_PCA_CV.fit(Z_train_all[:, 0:i+1], Y_train)\n",
    "    scores.append(MLG_results_PCA_CV.score(Z_train_all[:, 0:i+1], Y_train))"
   ]
  },
  {
   "cell_type": "code",
   "execution_count": 44,
   "metadata": {},
   "outputs": [],
   "source": [
    "n_comp_CV = np.array(scores).argmax()+1"
   ]
  },
  {
   "cell_type": "code",
   "execution_count": 45,
   "metadata": {
    "collapsed": true
   },
   "outputs": [],
   "source": [
    "pca_CV = PCA(n_components=n_comp_CV)\n",
    "Z_train_CV = pca_CV.fit_transform(X_train)\n",
    "\n",
    "MLG_model_PCA_CV = LogisticRegressionCV(Cs=[100000], cv=5)\n",
    "MLG_results_PCA_CV = MLG_model_PCA_CV.fit(Z_train_CV, Y_train)"
   ]
  },
  {
   "cell_type": "code",
   "execution_count": 46,
   "metadata": {},
   "outputs": [
    {
     "name": "stdout",
     "output_type": "stream",
     "text": [
      "PCA fisrt 5 components training scores (CV): 1.000\n"
     ]
    }
   ],
   "source": [
    "print('PCA fisrt %d components training scores (CV): %.3f' % (n_comp_CV, MLG_results_PCA_CV.score(Z_train_CV, Y_train)))"
   ]
  },
  {
   "cell_type": "code",
   "execution_count": 47,
   "metadata": {},
   "outputs": [
    {
     "name": "stdout",
     "output_type": "stream",
     "text": [
      "PCA fisrt 5 components testing scores (CV): 0.78049\n"
     ]
    }
   ],
   "source": [
    "Z_test_CV = pca_CV.transform(X_test)\n",
    "print('PCA fisrt %d components testing scores (CV): %.5f' % (n_comp_CV, MLG_results_PCA_CV.score(Z_test_CV, Y_test)))"
   ]
  },
  {
   "cell_type": "code",
   "execution_count": 48,
   "metadata": {},
   "outputs": [
    {
     "name": "stderr",
     "output_type": "stream",
     "text": [
      "D:\\ProgramData\\Anaconda3\\envs\\py36\\lib\\site-packages\\sklearn\\linear_model\\base.py:352: RuntimeWarning: overflow encountered in exp\n",
      "  np.exp(prob, prob)\n"
     ]
    },
    {
     "data": {
      "image/png": "[encoded data removed]",
      "text/plain": [
       "<matplotlib.figure.Figure at 0x20644fcd5f8>"
      ]
     },
     "metadata": {},
     "output_type": "display_data"
    }
   ],
   "source": [
    "sns.reset_defaults()\n",
    "fig, (ax1, ax2) = plt.subplots(1, 2, figsize=(12, 6))\n",
    "visualize_prob(MLG_results_PCA_CV, Z_train_CV, Y_train.values, ax1)\n",
    "visualize_prob(MLG_results_PCA_CV, Z_test_CV, Y_test.values, ax2)"
   ]
  },
  {
   "cell_type": "markdown",
   "metadata": {},
   "source": [
    "---\n",
    " "
   ]
  },
  {
   "cell_type": "markdown",
   "metadata": {},
   "source": [
    "1. How do the classification accuracy values on both the training and tests sets compare with the models fitted in Parts (c) and (d)?\n",
    "> They are identical\n",
    "\n",
    "2. Re-fit a logistic regression model using 5-fold cross-validation to choose the number of principal components, and comment on whether you get better test performance than the model fitted above (explain your observations). \n",
    "> Through cross-validation we can find that we only need 5 principle components to achieve a training score of 1.0. However, if only 5 principle components are used, the testing set accuracy drops to 0.78 instead of 0.927 when 24 components are used.\n",
    "\n",
    "3. Use the code provided in Part (c) to visualize the probabilities predicted by the fitted models on both the training and test sets. How does the spread of probabilities in these plots compare to those for the models in Part (c) and (d)? \n",
    "> The plots in part 1 (24 principle components) are very similar to the models in Part (c), in which the false predictions in the testing set have probabilities close to 0.5. However, the plots in part 2 are completely different, where the false predictions of AML have probabilities to be almost 0."
   ]
  },
  {
   "cell_type": "markdown",
   "metadata": {},
   "source": [
    "# APCOMP209a - Homework Question"
   ]
  },
  {
   "cell_type": "markdown",
   "metadata": {},
   "source": [
    "Suppose we want to conduct PCA on the model matrix $X \\in \\Re^{n×p}$, where the columns have been suitably set to zero mean. In this question, we consider the squared reconstruction error:\n",
    "\n",
    "$$  \\parallel XQ- XQ_m \\parallel ^2 $$\n",
    "\n",
    "for a suitable set of eigenvectors forming the matrix $Q_m$, as discussed below. Suppose that we conduct eigendecomposition of $X^T X$ and obtain eigenvalues $\\lambda_1, \\ldots , \\lambda_p$ and principal components $Q$, i.e.\n",
    "\n",
    "$$ X^T X = Q \\Lambda Q ^T $$\n",
    "\n",
    "(1) Suppose that the matrix norm is simply the squared dot product, namely\n",
    "\n",
    "$$ \\parallel A \\parallel ^2 = A^T A $$\n",
    "\n",
    "Then, express the reconstruction error as a sum of matrix products.\n",
    "\n",
    "(2) Simplify your result from (1) based on properties of the matrices $Q$.\n",
    "\n",
    "(3) Now let $Q_m$ be the matrix of the first $m < p$ eigenvectors, namely\n",
    "\n",
    "$$ Q_m = (q_1, \\ldots, q_m, 0, \\ldots, 0) \\in \\Re^{p \\times p} $$\n",
    "\n",
    "Thus, $X Q_m$ is the PCA projection of the data into the space spanned by the first $m$ principal components. Express the products $Q^T_m Q$ and $Q^T Q_m$, again using properties of the eigenbasis $q_1, \\ldots, q_p$.\n",
    "\n",
    "(4) Use your results from (3) to finally fully simplify your expression from (2).\n",
    "\n",
    "(5) Note that the result you obtain should still be a matrix, i.e. this does not define a proper norm on the space of matrices (since the value should be a scalar). Consequently, the true matrix norm is actually the trace of the\n",
    "above result, namely\n",
    "\n",
    "$$ \\parallel A \\parallel ^2  = {\\rm trace} (A^T A) $$\n",
    "Use your result from (4) and this new definition to find a simple expression\n",
    "for the reconstruction error in terms of the eigenvalues.\n",
    "\n",
    "(6) Interpret your result from (5). In light of your results, does our procedure for PCA (selecting the $m$ substantially larger eigenvalues) make sense? Why or why not?"
   ]
  },
  {
   "cell_type": "markdown",
   "metadata": {
    "collapsed": true
   },
   "source": [
    "(1)\n",
    "\\begin{align}\n",
    "\\parallel XQ- XQ_m \\parallel ^2 &= (XQ-XQ_m)^T(XQ- XQ_m)\\\\  \n",
    "&= (Q^TX^T-{Q_m}^TX^T)(XQ- XQ_m) \\\\\n",
    "&= Q^TX^TXQ-{Q_m}^TX^TXQ - Q^TX^T XQ_m-{Q_m}^TX^T XQ_m \\\\\n",
    "\\end{align}\n"
   ]
  },
  {
   "cell_type": "markdown",
   "metadata": {},
   "source": [
    "(2)\n",
    "Since\n",
    "\\begin{align}\n",
    "Q^TQ = 1\\\\\n",
    "\\\\\n",
    "\\parallel XQ- XQ_m \\parallel ^2 &= Q^TX^TXQ-{Q_m}^TX^TXQ - Q^TX^T XQ_m-{Q_m}^TX^T XQ_m\\\\\n",
    "&= Q^T Q \\Lambda Q^TQ-{Q_m}^TQ \\Lambda Q^TQ - Q^TQ \\Lambda Q^TQ_m-{Q_m}^TQ \\Lambda Q ^TQ_m\\\\\n",
    "&= \\Lambda -{Q_m}^TQ \\Lambda  - \\Lambda Q ^TQ_m+{Q_m}^TQ \\Lambda Q ^TQ_m \n",
    "\\end{align}"
   ]
  },
  {
   "cell_type": "markdown",
   "metadata": {},
   "source": [
    "(3)\n",
    "$${Q_m}^TQ = Q^T Q_m = \\left[ \\begin{array}{cccc}\n",
    "x_{11}=1 & 0 &  0 &  0 & 0 & 0 &\\ldots & 0\\\\\n",
    "0 & x_{22}=1 &  0 &  0 & 0 & 0 &\\ldots & 0\\\\\n",
    "0 & 0 &  x_{33}=1 &  0 & 0 & 0 &\\ldots & 0\\\\\n",
    "0 & 0 &  0 &  \\ldots & 0 & 0 &\\ldots & 0\\\\\n",
    "0 & 0 &  0 &  0 & x_{mm}=1 & 0 & \\ldots&0 \\\\\n",
    "0 & 0 &  0 &  0 & 0 & 0 &\\ldots & 0\\\\\n",
    "\\vdots & \\vdots &  \\vdots &  \\vdots & \\vdots & \\vdots &\\ldots & 0\\\\\n",
    "0 & 0 &  0 &  0 & 0 & 0 &\\ldots & 0\\end{array} \\right]$$"
   ]
  },
  {
   "cell_type": "markdown",
   "metadata": {},
   "source": [
    "(4)\n",
    "$$\\Lambda -{Q_m}^TQ \\Lambda  - \\Lambda Q ^TQ_m-{Q_m}^TQ \\Lambda Q ^TQ_m = \\\\ \n",
    "\\left[ \\begin{array}{cccc}\n",
    "\\lambda_1 & 0 &  0 &  0 & 0 & 0 &\\ldots & 0\\\\\n",
    "0 & \\lambda_2 &  0 &  0 & 0 & 0 &\\ldots & 0\\\\\n",
    "0 & 0 &  \\lambda_3 &  0 & 0 & 0 &\\ldots & 0\\\\\n",
    "0 & 0 &  0 &  \\lambda_4 & 0 & 0 &\\ldots & 0\\\\\n",
    "0 & 0 &  0 &  0 & \\lambda_5 & 0 & \\ldots&0 \\\\\n",
    "0 & 0 &  0 &  0 & 0 & \\lambda_6 &\\ldots & 0\\\\\n",
    "\\vdots & \\vdots &  \\vdots &  \\vdots & \\vdots & \\vdots &\\ldots & 0\\\\\n",
    "0 & 0 &  0 &  0 & 0 & 0 &\\ldots & \\lambda_p\\end{array} \\right] - \\left[ \\begin{array}{cccc}\n",
    "\\lambda_1 & 0 &  0 &  0 & 0 & 0 &\\ldots & 0\\\\\n",
    "0 & \\lambda_2 &  0 &  0 & 0 & 0 &\\ldots & 0\\\\\n",
    "0 & 0 &  \\lambda_3 &  0 & 0 & 0 &\\ldots & 0\\\\\n",
    "0 & 0 &  0 &  \\lambda_4 & 0 & 0 &\\ldots & 0\\\\\n",
    "0 & 0 &  0 &  0 & \\ddots & 0 & \\ldots&0 \\\\\n",
    "0 & 0 &  0 &  0 & 0 & \\lambda_m &\\ldots & 0\\\\\n",
    "\\vdots & \\vdots &  \\vdots &  \\vdots & \\vdots & \\vdots &\\ldots & 0\\\\\n",
    "0 & 0 &  0 &  0 & 0 & 0 &\\ldots & 0\\end{array} \\right]  =  \\left[ \\begin{array}{cccc}\n",
    "0 & 0 &  0 &  0 & 0 & 0 &\\ldots & 0\\\\\n",
    "0 & 0 &  0 &  0 & 0 & 0 &\\ldots & 0\\\\\n",
    "0 & 0 &  \\ddots &  0 & 0 & 0 &\\ldots & 0\\\\\n",
    "0 & 0 &  0 & 0  & 0 & 0 &\\ldots & 0\\\\\n",
    "0 & 0 &  0 &  0 & \\lambda_{m+1}=1 & 0 & \\ldots&0 \\\\\n",
    "0 & 0 &  0 &  0 & 0 & \\lambda_{m+2}=1  &\\ldots & 0\\\\\n",
    "\\vdots & \\vdots &  \\vdots &  \\vdots & \\vdots & \\vdots &\\ldots & 0\\\\\n",
    "0 & 0 &  0 &  0 & 0 & 0 &\\ldots & \\lambda_{p}=1\\end{array} \\right]$$"
   ]
  },
  {
   "cell_type": "markdown",
   "metadata": {},
   "source": [
    "(5)\n",
    "$$ \\parallel XQ- {XQ_m}\\parallel ^2  = {\\rm trace} (A^T A) = \\sum_{i=m+1}^{p}{\\lambda_i}$$"
   ]
  },
  {
   "cell_type": "markdown",
   "metadata": {},
   "source": [
    "(6)\n",
    "The results from (5) essentially tell us that the total squared reconstruction error is just the sum of the smallest (p-m) eigenvalues, given p the number of features and m the number of components selected. Thus, minimizing the total squared reconstruction error is equivalent of maximizing the sum of the selected eigenvalues. Hence, selecting the m components with highest eigenvalues in the PCA procedure makes sense."
   ]
  },
  {
   "cell_type": "code",
   "execution_count": null,
   "metadata": {
    "collapsed": true
   },
   "outputs": [],
   "source": []
  }
 ],
 "metadata": {
  "anaconda-cloud": {},
  "kernelspec": {
   "display_name": "Python 3",
   "language": "python",
   "name": "python3"
  },
  "language_info": {
   "codemirror_mode": {
    "name": "ipython",
    "version": 3
   },
   "file_extension": ".py",
   "mimetype": "text/x-python",
   "name": "python",
   "nbconvert_exporter": "python",
   "pygments_lexer": "ipython3",
   "version": "3.6.1"
  }
 },
 "nbformat": 4,
 "nbformat_minor": 1
}
