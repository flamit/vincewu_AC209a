{
 "cells": [
  {
   "cell_type": "markdown",
   "metadata": {},
   "source": [
    "# CS 109A/STAT 121A/AC 209A/CSCI E-109A: Homework 4\n",
    "# Regularization, High Dimensionality, PCA\n",
    "\n",
    "\n",
    "**Harvard University**<br/>\n",
    "**Fall 2017**<br/>\n",
    "**Instructors**: Pavlos Protopapas, Kevin Rader, Rahul Dave, Margo Levine\n",
    "\n",
    "---\n",
    "\n",
    "### INSTRUCTIONS\n",
    "\n",
    "- To submit your assignment follow the instructions given in canvas.\n",
    "- Restart the kernel and run the whole notebook again before you submit. \n",
    "- Do not include your name(s) in the notebook even if you are submitting as a group. \n",
    "- If you submit individually and you have worked with someone, please include the name of your [one] partner below. \n",
    "\n",
    "---"
   ]
  },
  {
   "cell_type": "markdown",
   "metadata": {},
   "source": [
    "Your partner's name (if you submit separately):\n",
    "\n",
    "Enrollment Status (109A, 121A, 209A, or E109A): AC209"
   ]
  },
  {
   "cell_type": "markdown",
   "metadata": {},
   "source": [
    "Import libraries:"
   ]
  },
  {
   "cell_type": "code",
   "execution_count": 1,
   "metadata": {},
   "outputs": [
    {
     "name": "stderr",
     "output_type": "stream",
     "text": [
      "D:\\ProgramData\\Anaconda3\\envs\\py36\\lib\\site-packages\\statsmodels\\compat\\pandas.py:56: FutureWarning: The pandas.core.datetools module is deprecated and will be removed in a future version. Please use the pandas.tseries module instead.\n",
      "  from pandas.core import datetools\n"
     ]
    }
   ],
   "source": [
    "import numpy as np\n",
    "import pandas as pd\n",
    "import matplotlib\n",
    "import matplotlib.pyplot as plt\n",
    "from sklearn.metrics import r2_score\n",
    "import statsmodels.api as sm\n",
    "from statsmodels.api import OLS\n",
    "from sklearn.preprocessing import PolynomialFeatures\n",
    "from sklearn.linear_model import Ridge\n",
    "from sklearn.linear_model import Lasso\n",
    "from sklearn.linear_model import RidgeCV\n",
    "from sklearn.linear_model import LassoCV\n",
    "import seaborn as sns\n",
    "%matplotlib inline"
   ]
  },
  {
   "cell_type": "markdown",
   "metadata": {},
   "source": [
    "# Continuing Bike Sharing Usage Data\n",
    "\n",
    "In this homework, we will focus on multiple linear regression, regularization, dealing with high dimensionality, and PCA. We will continue to build regression models for the Capital Bikeshare program in Washington D.C.  See Homework 3 for more information about the data.\n",
    "\n",
    "*Note: please make sure you use all the processed data from HW 3 Part (a)...you make want to save the data set on your computer and reread the csv/json file here.\n"
   ]
  },
  {
   "cell_type": "code",
   "execution_count": 2,
   "metadata": {
    "collapsed": true
   },
   "outputs": [],
   "source": [
    "dtype_dict = {\"season\":int, \"month\":int, \"holiday\":int, \"day_of_week\": int, \"workingday\":int, \"weather\":int, \\\n",
    "             \"temp\":float, \"atemp\":float, \"humidity\":float, \"windspeed\": float, \"count\":int}"
   ]
  },
  {
   "cell_type": "code",
   "execution_count": 3,
   "metadata": {},
   "outputs": [
    {
     "data": {
      "text/html": [
       "<div>\n",
       "<style>\n",
       "    .dataframe thead tr:only-child th {\n",
       "        text-align: right;\n",
       "    }\n",
       "\n",
       "    .dataframe thead th {\n",
       "        text-align: left;\n",
       "    }\n",
       "\n",
       "    .dataframe tbody tr th {\n",
       "        vertical-align: top;\n",
       "    }\n",
       "</style>\n",
       "<table border=\"1\" class=\"dataframe\">\n",
       "  <thead>\n",
       "    <tr style=\"text-align: right;\">\n",
       "      <th></th>\n",
       "      <th>holiday</th>\n",
       "      <th>workingday</th>\n",
       "      <th>temp</th>\n",
       "      <th>atemp</th>\n",
       "      <th>humidity</th>\n",
       "      <th>windspeed</th>\n",
       "      <th>count</th>\n",
       "      <th>season_1</th>\n",
       "      <th>season_2</th>\n",
       "      <th>season_3</th>\n",
       "      <th>...</th>\n",
       "      <th>month_11</th>\n",
       "      <th>day_of_week_1</th>\n",
       "      <th>day_of_week_2</th>\n",
       "      <th>day_of_week_3</th>\n",
       "      <th>day_of_week_4</th>\n",
       "      <th>day_of_week_5</th>\n",
       "      <th>day_of_week_6</th>\n",
       "      <th>weather_1</th>\n",
       "      <th>weather_2</th>\n",
       "      <th>weather_3</th>\n",
       "    </tr>\n",
       "  </thead>\n",
       "  <tbody>\n",
       "    <tr>\n",
       "      <th>0</th>\n",
       "      <td>0</td>\n",
       "      <td>1</td>\n",
       "      <td>0.624743</td>\n",
       "      <td>0.651090</td>\n",
       "      <td>0.922058</td>\n",
       "      <td>-0.930164</td>\n",
       "      <td>6073</td>\n",
       "      <td>0</td>\n",
       "      <td>1</td>\n",
       "      <td>0</td>\n",
       "      <td>...</td>\n",
       "      <td>0</td>\n",
       "      <td>0</td>\n",
       "      <td>1</td>\n",
       "      <td>0</td>\n",
       "      <td>0</td>\n",
       "      <td>0</td>\n",
       "      <td>0</td>\n",
       "      <td>0</td>\n",
       "      <td>1</td>\n",
       "      <td>0</td>\n",
       "    </tr>\n",
       "    <tr>\n",
       "      <th>1</th>\n",
       "      <td>0</td>\n",
       "      <td>1</td>\n",
       "      <td>-0.180583</td>\n",
       "      <td>-0.054841</td>\n",
       "      <td>0.697907</td>\n",
       "      <td>-0.213825</td>\n",
       "      <td>6606</td>\n",
       "      <td>0</td>\n",
       "      <td>0</td>\n",
       "      <td>0</td>\n",
       "      <td>...</td>\n",
       "      <td>0</td>\n",
       "      <td>0</td>\n",
       "      <td>1</td>\n",
       "      <td>0</td>\n",
       "      <td>0</td>\n",
       "      <td>0</td>\n",
       "      <td>0</td>\n",
       "      <td>1</td>\n",
       "      <td>0</td>\n",
       "      <td>0</td>\n",
       "    </tr>\n",
       "    <tr>\n",
       "      <th>2</th>\n",
       "      <td>0</td>\n",
       "      <td>1</td>\n",
       "      <td>0.803704</td>\n",
       "      <td>0.852785</td>\n",
       "      <td>-0.449062</td>\n",
       "      <td>0.805143</td>\n",
       "      <td>7363</td>\n",
       "      <td>0</td>\n",
       "      <td>1</td>\n",
       "      <td>0</td>\n",
       "      <td>...</td>\n",
       "      <td>0</td>\n",
       "      <td>0</td>\n",
       "      <td>0</td>\n",
       "      <td>0</td>\n",
       "      <td>1</td>\n",
       "      <td>0</td>\n",
       "      <td>0</td>\n",
       "      <td>1</td>\n",
       "      <td>0</td>\n",
       "      <td>0</td>\n",
       "    </tr>\n",
       "    <tr>\n",
       "      <th>3</th>\n",
       "      <td>0</td>\n",
       "      <td>0</td>\n",
       "      <td>-1.522794</td>\n",
       "      <td>-1.567551</td>\n",
       "      <td>-0.332616</td>\n",
       "      <td>-0.269507</td>\n",
       "      <td>2431</td>\n",
       "      <td>0</td>\n",
       "      <td>0</td>\n",
       "      <td>0</td>\n",
       "      <td>...</td>\n",
       "      <td>0</td>\n",
       "      <td>0</td>\n",
       "      <td>0</td>\n",
       "      <td>0</td>\n",
       "      <td>0</td>\n",
       "      <td>0</td>\n",
       "      <td>0</td>\n",
       "      <td>1</td>\n",
       "      <td>0</td>\n",
       "      <td>0</td>\n",
       "    </tr>\n",
       "    <tr>\n",
       "      <th>4</th>\n",
       "      <td>0</td>\n",
       "      <td>1</td>\n",
       "      <td>0.535262</td>\n",
       "      <td>0.348548</td>\n",
       "      <td>1.978781</td>\n",
       "      <td>-1.200843</td>\n",
       "      <td>1996</td>\n",
       "      <td>0</td>\n",
       "      <td>0</td>\n",
       "      <td>1</td>\n",
       "      <td>...</td>\n",
       "      <td>0</td>\n",
       "      <td>0</td>\n",
       "      <td>0</td>\n",
       "      <td>1</td>\n",
       "      <td>0</td>\n",
       "      <td>0</td>\n",
       "      <td>0</td>\n",
       "      <td>0</td>\n",
       "      <td>0</td>\n",
       "      <td>1</td>\n",
       "    </tr>\n",
       "  </tbody>\n",
       "</table>\n",
       "<p>5 rows × 30 columns</p>\n",
       "</div>"
      ],
      "text/plain": [
       "   holiday  workingday      temp     atemp  humidity  windspeed  count  \\\n",
       "0        0           1  0.624743  0.651090  0.922058  -0.930164   6073   \n",
       "1        0           1 -0.180583 -0.054841  0.697907  -0.213825   6606   \n",
       "2        0           1  0.803704  0.852785 -0.449062   0.805143   7363   \n",
       "3        0           0 -1.522794 -1.567551 -0.332616  -0.269507   2431   \n",
       "4        0           1  0.535262  0.348548  1.978781  -1.200843   1996   \n",
       "\n",
       "   season_1  season_2  season_3    ...      month_11  day_of_week_1  \\\n",
       "0         0         1         0    ...             0              0   \n",
       "1         0         0         0    ...             0              0   \n",
       "2         0         1         0    ...             0              0   \n",
       "3         0         0         0    ...             0              0   \n",
       "4         0         0         1    ...             0              0   \n",
       "\n",
       "   day_of_week_2  day_of_week_3  day_of_week_4  day_of_week_5  day_of_week_6  \\\n",
       "0              1              0              0              0              0   \n",
       "1              1              0              0              0              0   \n",
       "2              0              0              1              0              0   \n",
       "3              0              0              0              0              0   \n",
       "4              0              1              0              0              0   \n",
       "\n",
       "   weather_1  weather_2  weather_3  \n",
       "0          0          1          0  \n",
       "1          1          0          0  \n",
       "2          1          0          0  \n",
       "3          1          0          0  \n",
       "4          0          0          1  \n",
       "\n",
       "[5 rows x 30 columns]"
      ]
     },
     "execution_count": 3,
     "metadata": {},
     "output_type": "execute_result"
    }
   ],
   "source": [
    "# Load data from HW3\n",
    "bike_train_df = pd.read_csv('data/bike_train.csv', index_col=0, low_memory=False)\n",
    "bike_test_df = pd.read_csv('data/bike_test.csv', index_col=0, low_memory=False)\n",
    "bike_train_df.head()"
   ]
  },
  {
   "cell_type": "markdown",
   "metadata": {},
   "source": [
    "## Part (f): Regularization/Penalization Methods\n",
    "\n",
    "As an alternative to selecting a subset of predictors and fitting a regression model on the subset, one can fit a linear regression model on all predictors, but shrink or regularize the coefficient estimates to make sure that the model does not \"overfit\" the training set. \n",
    "\n",
    "Use the following regularization techniques to fit linear models to the training set:\n",
    "- Ridge regression\n",
    "- Lasso regression\n",
    "    \n",
    "You may choose the shrikage parameter $\\lambda$ from the set $\\{10^{-5}, 10^{-4},...,10^{4},10^{5}\\}$ using cross-validation. In each case, \n",
    "\n",
    "- How do the estimated coefficients compare to or differ from the coefficients estimated by a plain linear regression (without shrikage penalty) in Part (b) fropm HW 3? Is there a difference between coefficients estimated by the two shrinkage methods? If so, give an explantion for the difference.\n",
    "- List the predictors that are assigned a coefficient value close to 0 (say < 1e-10) by the two methods. How closely do these predictors match the redundant predictors (if any) identified in Part (c) from HW 3?\n",
    "- Is there a difference in the way Ridge and Lasso regression assign coefficients to the predictors `temp` and `atemp`? If so, explain the reason for the difference.\n",
    "\n",
    "We next analyze the performance of the two shrinkage methods for different training sample sizes:\n",
    "- Generate random samples of sizes 100, 150, ..., 400 from the training set. You may use the following code to draw a random sample of a specified size from the training set:"
   ]
  },
  {
   "cell_type": "code",
   "execution_count": 4,
   "metadata": {
    "collapsed": true
   },
   "outputs": [],
   "source": [
    "X_train = bike_train_df.drop('count', axis=1).copy()\n",
    "Y_train = bike_train_df['count']\n",
    "\n",
    "X_test = bike_test_df.drop('count', axis=1).copy()\n",
    "Y_test = bike_test_df['count']"
   ]
  },
  {
   "cell_type": "code",
   "execution_count": 5,
   "metadata": {
    "collapsed": true
   },
   "outputs": [],
   "source": [
    "MLR_result = OLS(Y_train, sm.add_constant(X_train)).fit()\n",
    "coef_ind = MLR_result.params.index.tolist()"
   ]
  },
  {
   "cell_type": "code",
   "execution_count": 6,
   "metadata": {
    "collapsed": true
   },
   "outputs": [],
   "source": [
    "shrikage = 10.**np.arange(-5, 6)"
   ]
  },
  {
   "cell_type": "code",
   "execution_count": 7,
   "metadata": {
    "scrolled": true
   },
   "outputs": [
    {
     "name": "stderr",
     "output_type": "stream",
     "text": [
      "D:\\ProgramData\\Anaconda3\\envs\\py36\\lib\\site-packages\\sklearn\\linear_model\\coordinate_descent.py:484: ConvergenceWarning: Objective did not converge. You might want to increase the number of iterations. Fitting data with very small alpha may cause precision problems.\n",
      "  ConvergenceWarning)\n",
      "D:\\ProgramData\\Anaconda3\\envs\\py36\\lib\\site-packages\\sklearn\\linear_model\\coordinate_descent.py:484: ConvergenceWarning: Objective did not converge. You might want to increase the number of iterations. Fitting data with very small alpha may cause precision problems.\n",
      "  ConvergenceWarning)\n"
     ]
    }
   ],
   "source": [
    "coef_dict = dict()\n",
    "for s in shrikage:\n",
    "    \n",
    "    ridge_cv_model = RidgeCV(alphas=[s])\n",
    "    ridge_cv_result = ridge_cv_model.fit(X_train, Y_train)\n",
    "    ridge_params = np.hstack((ridge_cv_result.intercept_, ridge_cv_result.coef_))\n",
    "    ridge_series = pd.Series(data=ridge_params, index=coef_ind)\n",
    "    \n",
    "    lasso_cv_model = LassoCV(alphas=[s], max_iter=1e5)\n",
    "    lasso_cv_result = lasso_cv_model.fit(X_train, Y_train)\n",
    "    lasso_params = np.hstack((lasso_cv_result.intercept_, lasso_cv_result.coef_))\n",
    "    lasso_series = pd.Series(data=lasso_params, index=coef_ind)\n",
    "    \n",
    "    all_params_df = pd.concat({'All':MLR_result.params, 'Ridge':ridge_series, 'Lasso':lasso_series}, axis=1)\n",
    "    coef_dict[str(s)] = all_params_df"
   ]
  },
  {
   "cell_type": "code",
   "execution_count": 8,
   "metadata": {},
   "outputs": [
    {
     "data": {
      "text/plain": [
       "dict_keys(['1e-05', '0.0001', '0.001', '0.01', '0.1', '1.0', '10.0', '100.0', '1000.0', '10000.0', '100000.0'])"
      ]
     },
     "execution_count": 8,
     "metadata": {},
     "output_type": "execute_result"
    }
   ],
   "source": [
    "coef_dict.keys()"
   ]
  },
  {
   "cell_type": "code",
   "execution_count": 9,
   "metadata": {},
   "outputs": [
    {
     "data": {
      "text/html": [
       "<div>\n",
       "<style>\n",
       "    .dataframe thead tr:only-child th {\n",
       "        text-align: right;\n",
       "    }\n",
       "\n",
       "    .dataframe thead th {\n",
       "        text-align: left;\n",
       "    }\n",
       "\n",
       "    .dataframe tbody tr th {\n",
       "        vertical-align: top;\n",
       "    }\n",
       "</style>\n",
       "<table border=\"1\" class=\"dataframe\">\n",
       "  <thead>\n",
       "    <tr style=\"text-align: right;\">\n",
       "      <th></th>\n",
       "      <th>All</th>\n",
       "      <th>Lasso</th>\n",
       "      <th>Ridge</th>\n",
       "    </tr>\n",
       "  </thead>\n",
       "  <tbody>\n",
       "    <tr>\n",
       "      <th>const</th>\n",
       "      <td>3192.209225</td>\n",
       "      <td>4747.892483</td>\n",
       "      <td>4204.708320</td>\n",
       "    </tr>\n",
       "    <tr>\n",
       "      <th>holiday</th>\n",
       "      <td>-284.356275</td>\n",
       "      <td>-185.908268</td>\n",
       "      <td>-244.125575</td>\n",
       "    </tr>\n",
       "    <tr>\n",
       "      <th>workingday</th>\n",
       "      <td>308.153142</td>\n",
       "      <td>367.097850</td>\n",
       "      <td>296.816742</td>\n",
       "    </tr>\n",
       "    <tr>\n",
       "      <th>temp</th>\n",
       "      <td>924.334403</td>\n",
       "      <td>892.793640</td>\n",
       "      <td>809.380072</td>\n",
       "    </tr>\n",
       "    <tr>\n",
       "      <th>atemp</th>\n",
       "      <td>311.961760</td>\n",
       "      <td>320.899770</td>\n",
       "      <td>381.424635</td>\n",
       "    </tr>\n",
       "    <tr>\n",
       "      <th>humidity</th>\n",
       "      <td>-547.663783</td>\n",
       "      <td>-545.623270</td>\n",
       "      <td>-544.331033</td>\n",
       "    </tr>\n",
       "    <tr>\n",
       "      <th>windspeed</th>\n",
       "      <td>-254.736916</td>\n",
       "      <td>-252.605100</td>\n",
       "      <td>-253.325313</td>\n",
       "    </tr>\n",
       "    <tr>\n",
       "      <th>season_1</th>\n",
       "      <td>-1226.186543</td>\n",
       "      <td>-1117.607718</td>\n",
       "      <td>-1059.725202</td>\n",
       "    </tr>\n",
       "    <tr>\n",
       "      <th>season_2</th>\n",
       "      <td>-327.357503</td>\n",
       "      <td>-231.522796</td>\n",
       "      <td>-228.539407</td>\n",
       "    </tr>\n",
       "    <tr>\n",
       "      <th>season_3</th>\n",
       "      <td>-193.304968</td>\n",
       "      <td>-166.721222</td>\n",
       "      <td>-221.729595</td>\n",
       "    </tr>\n",
       "    <tr>\n",
       "      <th>month_1</th>\n",
       "      <td>118.835819</td>\n",
       "      <td>0.000000</td>\n",
       "      <td>-23.756080</td>\n",
       "    </tr>\n",
       "    <tr>\n",
       "      <th>month_2</th>\n",
       "      <td>207.775911</td>\n",
       "      <td>89.033153</td>\n",
       "      <td>87.763838</td>\n",
       "    </tr>\n",
       "    <tr>\n",
       "      <th>month_3</th>\n",
       "      <td>358.016717</td>\n",
       "      <td>251.858672</td>\n",
       "      <td>266.633863</td>\n",
       "    </tr>\n",
       "    <tr>\n",
       "      <th>month_4</th>\n",
       "      <td>452.184905</td>\n",
       "      <td>363.970248</td>\n",
       "      <td>416.380937</td>\n",
       "    </tr>\n",
       "    <tr>\n",
       "      <th>month_5</th>\n",
       "      <td>53.023319</td>\n",
       "      <td>-0.000000</td>\n",
       "      <td>67.809242</td>\n",
       "    </tr>\n",
       "    <tr>\n",
       "      <th>month_6</th>\n",
       "      <td>-673.427080</td>\n",
       "      <td>-684.921111</td>\n",
       "      <td>-570.845620</td>\n",
       "    </tr>\n",
       "    <tr>\n",
       "      <th>month_7</th>\n",
       "      <td>-1161.151188</td>\n",
       "      <td>-1117.544788</td>\n",
       "      <td>-944.411268</td>\n",
       "    </tr>\n",
       "    <tr>\n",
       "      <th>month_8</th>\n",
       "      <td>-657.639671</td>\n",
       "      <td>-614.590506</td>\n",
       "      <td>-452.577697</td>\n",
       "    </tr>\n",
       "    <tr>\n",
       "      <th>month_9</th>\n",
       "      <td>523.980385</td>\n",
       "      <td>536.791951</td>\n",
       "      <td>645.226625</td>\n",
       "    </tr>\n",
       "    <tr>\n",
       "      <th>month_10</th>\n",
       "      <td>605.086722</td>\n",
       "      <td>618.304629</td>\n",
       "      <td>668.880786</td>\n",
       "    </tr>\n",
       "    <tr>\n",
       "      <th>month_11</th>\n",
       "      <td>231.517464</td>\n",
       "      <td>225.768431</td>\n",
       "      <td>268.391564</td>\n",
       "    </tr>\n",
       "    <tr>\n",
       "      <th>day_of_week_1</th>\n",
       "      <td>-123.751476</td>\n",
       "      <td>-193.015018</td>\n",
       "      <td>-133.416808</td>\n",
       "    </tr>\n",
       "    <tr>\n",
       "      <th>day_of_week_2</th>\n",
       "      <td>-195.285933</td>\n",
       "      <td>-244.056441</td>\n",
       "      <td>-175.661560</td>\n",
       "    </tr>\n",
       "    <tr>\n",
       "      <th>day_of_week_3</th>\n",
       "      <td>170.511347</td>\n",
       "      <td>99.470067</td>\n",
       "      <td>167.800956</td>\n",
       "    </tr>\n",
       "    <tr>\n",
       "      <th>day_of_week_4</th>\n",
       "      <td>61.256030</td>\n",
       "      <td>0.000000</td>\n",
       "      <td>70.861404</td>\n",
       "    </tr>\n",
       "    <tr>\n",
       "      <th>day_of_week_5</th>\n",
       "      <td>111.066899</td>\n",
       "      <td>44.222639</td>\n",
       "      <td>123.107175</td>\n",
       "    </tr>\n",
       "    <tr>\n",
       "      <th>day_of_week_6</th>\n",
       "      <td>465.145010</td>\n",
       "      <td>449.197520</td>\n",
       "      <td>438.207932</td>\n",
       "    </tr>\n",
       "    <tr>\n",
       "      <th>weather_1</th>\n",
       "      <td>1596.918031</td>\n",
       "      <td>18.028718</td>\n",
       "      <td>496.786237</td>\n",
       "    </tr>\n",
       "    <tr>\n",
       "      <th>weather_2</th>\n",
       "      <td>1580.351447</td>\n",
       "      <td>0.000000</td>\n",
       "      <td>473.455308</td>\n",
       "    </tr>\n",
       "    <tr>\n",
       "      <th>weather_3</th>\n",
       "      <td>14.939747</td>\n",
       "      <td>-1523.106354</td>\n",
       "      <td>-970.241545</td>\n",
       "    </tr>\n",
       "  </tbody>\n",
       "</table>\n",
       "</div>"
      ],
      "text/plain": [
       "                       All        Lasso        Ridge\n",
       "const          3192.209225  4747.892483  4204.708320\n",
       "holiday        -284.356275  -185.908268  -244.125575\n",
       "workingday      308.153142   367.097850   296.816742\n",
       "temp            924.334403   892.793640   809.380072\n",
       "atemp           311.961760   320.899770   381.424635\n",
       "humidity       -547.663783  -545.623270  -544.331033\n",
       "windspeed      -254.736916  -252.605100  -253.325313\n",
       "season_1      -1226.186543 -1117.607718 -1059.725202\n",
       "season_2       -327.357503  -231.522796  -228.539407\n",
       "season_3       -193.304968  -166.721222  -221.729595\n",
       "month_1         118.835819     0.000000   -23.756080\n",
       "month_2         207.775911    89.033153    87.763838\n",
       "month_3         358.016717   251.858672   266.633863\n",
       "month_4         452.184905   363.970248   416.380937\n",
       "month_5          53.023319    -0.000000    67.809242\n",
       "month_6        -673.427080  -684.921111  -570.845620\n",
       "month_7       -1161.151188 -1117.544788  -944.411268\n",
       "month_8        -657.639671  -614.590506  -452.577697\n",
       "month_9         523.980385   536.791951   645.226625\n",
       "month_10        605.086722   618.304629   668.880786\n",
       "month_11        231.517464   225.768431   268.391564\n",
       "day_of_week_1  -123.751476  -193.015018  -133.416808\n",
       "day_of_week_2  -195.285933  -244.056441  -175.661560\n",
       "day_of_week_3   170.511347    99.470067   167.800956\n",
       "day_of_week_4    61.256030     0.000000    70.861404\n",
       "day_of_week_5   111.066899    44.222639   123.107175\n",
       "day_of_week_6   465.145010   449.197520   438.207932\n",
       "weather_1      1596.918031    18.028718   496.786237\n",
       "weather_2      1580.351447     0.000000   473.455308\n",
       "weather_3        14.939747 -1523.106354  -970.241545"
      ]
     },
     "execution_count": 9,
     "metadata": {},
     "output_type": "execute_result"
    }
   ],
   "source": [
    "coef_dict['1.0']"
   ]
  },
  {
   "cell_type": "code",
   "execution_count": 10,
   "metadata": {},
   "outputs": [
    {
     "name": "stdout",
     "output_type": "stream",
     "text": [
      "With alpah = 1e-05: The coefficients of the following predictors goes to 0:\n",
      "\t['day_of_week_4']\n",
      "\n",
      "With alpah = 0.0001: The coefficients of the following predictors goes to 0:\n",
      "\t['day_of_week_4']\n",
      "\n",
      "With alpah = 0.001: The coefficients of the following predictors goes to 0:\n",
      "\t['day_of_week_4']\n",
      "\n",
      "With alpah = 0.01: The coefficients of the following predictors goes to 0:\n",
      "\t['day_of_week_4']\n",
      "\n",
      "With alpah = 0.1: The coefficients of the following predictors goes to 0:\n",
      "\t['day_of_week_4', 'weather_2']\n",
      "\n",
      "With alpah = 1.0: The coefficients of the following predictors goes to 0:\n",
      "\t['month_1', 'month_5', 'day_of_week_4', 'weather_2']\n",
      "\n",
      "With alpah = 10.0: The coefficients of the following predictors goes to 0:\n",
      "\t['holiday', 'season_2', 'month_2', 'month_5', 'day_of_week_4', 'weather_2']\n",
      "\n",
      "With alpah = 100.0: The coefficients of the following predictors goes to 0:\n",
      "\t['holiday', 'workingday', 'season_2', 'season_3', 'month_1', 'month_2', 'month_3', 'month_4', 'month_5', 'month_6', 'month_7', 'month_8', 'month_9', 'month_10', 'month_11', 'day_of_week_1', 'day_of_week_2', 'day_of_week_3', 'day_of_week_4', 'day_of_week_5', 'day_of_week_6', 'weather_1', 'weather_2', 'weather_3']\n",
      "\n",
      "With alpah = 1000.0: The coefficients of the following predictors goes to 0:\n",
      "\t['holiday', 'workingday', 'temp', 'humidity', 'windspeed', 'season_1', 'season_2', 'season_3', 'month_1', 'month_2', 'month_3', 'month_4', 'month_5', 'month_6', 'month_7', 'month_8', 'month_9', 'month_10', 'month_11', 'day_of_week_1', 'day_of_week_2', 'day_of_week_3', 'day_of_week_4', 'day_of_week_5', 'day_of_week_6', 'weather_1', 'weather_2', 'weather_3']\n",
      "\n",
      "With alpah = 10000.0: The coefficients of the following predictors goes to 0:\n",
      "\t['holiday', 'workingday', 'temp', 'atemp', 'humidity', 'windspeed', 'season_1', 'season_2', 'season_3', 'month_1', 'month_2', 'month_3', 'month_4', 'month_5', 'month_6', 'month_7', 'month_8', 'month_9', 'month_10', 'month_11', 'day_of_week_1', 'day_of_week_2', 'day_of_week_3', 'day_of_week_4', 'day_of_week_5', 'day_of_week_6', 'weather_1', 'weather_2', 'weather_3']\n",
      "\n",
      "With alpah = 100000.0: The coefficients of the following predictors goes to 0:\n",
      "\t['holiday', 'workingday', 'temp', 'atemp', 'humidity', 'windspeed', 'season_1', 'season_2', 'season_3', 'month_1', 'month_2', 'month_3', 'month_4', 'month_5', 'month_6', 'month_7', 'month_8', 'month_9', 'month_10', 'month_11', 'day_of_week_1', 'day_of_week_2', 'day_of_week_3', 'day_of_week_4', 'day_of_week_5', 'day_of_week_6', 'weather_1', 'weather_2', 'weather_3']\n",
      "\n"
     ]
    }
   ],
   "source": [
    "for s in shrikage:\n",
    "    zero_coef = coef_dict[str(s)]['Lasso'].index[np.abs(coef_dict[str(s)]['Lasso']) < 1e-10].tolist()\n",
    "    print(\"With alpah = %s: The coefficients of the following predictors goes to 0:\\n\\t%s\\n\" % (s, zero_coef))"
   ]
  },
  {
   "cell_type": "markdown",
   "metadata": {},
   "source": [
    "For shrikage = 1e-5 to 1e-1\n",
    "> Both Lasso and Ridge give very similar coefficients compared to the plain linear regression method without penalty, except for some terms. The main difference is in the intercept, holiday, day_of_week_3 and 4 and the weathers. In particular, most of Ridge's coefficients are almost identical. This makes sense since alpha, which can be thought of as the \"amplification\" of the penalizing term, is small. Thus not much penalty is added.\n",
    "\n",
    "For shrikage = 1 to 1e5 \n",
    "> Both Lasso and Ridge diverge from the original model. As the shrikage parameter alpha keey increasing, more coefficients in the LASSO regularization model go to zero. At the extreme case alpha = 1e5, all coefficients go to 0 as the penalty term dominate the linear regression term. However, the coefficients in Ridge model never go to 0 but shrink together\n",
    "\n",
    "At shrikage = 10, only the coefficients for \"temp\", \"atemp\", \"humidity\", \"windspeed\" and \"season_1\" has non-zero coefficients, which are included in the Forward and Backward selection (redundancy removal) performed in HW3\n",
    "\n",
    "For smaller shrikage alpha (< 1), the coefficients for \"temp\" and \"atemp\" predicted from Lasso and Ridge are similar to each other and to the original method. For large alpha, Lasso and Ridge predictions give a decreasing coefficients for \"temp\" and an increasing one for \"atemp\", where Lasso has a more drastic change."
   ]
  },
  {
   "cell_type": "code",
   "execution_count": 11,
   "metadata": {
    "collapsed": true
   },
   "outputs": [],
   "source": [
    "#--------  sample\n",
    "# A function to select a random sample of size k from the training set\n",
    "# Input: \n",
    "#      x (n x d Dataframe)\n",
    "#      y (n x 1 Dataframe)\n",
    "#      k (size of sample) \n",
    "# Return: \n",
    "#      chosen sample of predictors and responses\n",
    "\n",
    "def sample(x, y, k):\n",
    "    n = x.shape[0] # No. of training points\n",
    "    \n",
    "    # Choose random indices of size 'k'\n",
    "    subset_ind = np.random.choice(np.arange(n), k)\n",
    "    \n",
    "    # Get predictors and reponses with the indices\n",
    "    x_subset = x.loc[subset_ind, :]\n",
    "    y_subset = y.loc[subset_ind]\n",
    "    \n",
    "    return (x_subset, y_subset)"
   ]
  },
  {
   "cell_type": "markdown",
   "metadata": {},
   "source": [
    "- Fit linear, Ridge and Lasso regression models to each of the generated sample. In each case, compute the $R^2$ score for the model on the training sample on which it was fitted, and on the test set.\n",
    "- Repeat the above experiment for 10 random trials/splits, and compute the average train and test $R^2$ across the trials for each training sample size. Also, compute the standard deviation (SD) in each case.\n",
    "- Make a plot of the mean training $R^2$ scores for the linear, Ridge and Lasso regression methods as a function of the training sample size. Also, show a confidence interval for the mean scores extending from **mean - SD** to **mean + SD**. Make a similar plot for the test $R^2$ scores.\n",
    "\n",
    "How do the training and test $R^2$ scores compare for the three methods? Give an explanation for your observations. How do the confidence intervals for the estimated $R^2$ change with training sample size? Based on the plots, which of the three methods would you recommend when one needs to fit a regression model using a small training sample?\n",
    "\n",
    "*Hint:* You may use `sklearn`'s `RidgeCV` and `LassoCV` classes to implement Ridge and Lasso regression. These classes automatically perform cross-validation to tune the parameter $\\lambda$ from a given range of values. You may use the `plt.errorbar` function to plot confidence bars for the average $R^2$ scores."
   ]
  },
  {
   "cell_type": "code",
   "execution_count": 12,
   "metadata": {},
   "outputs": [
    {
     "data": {
      "text/plain": [
       "array([100, 150, 200, 250, 300, 350])"
      ]
     },
     "execution_count": 12,
     "metadata": {},
     "output_type": "execute_result"
    }
   ],
   "source": [
    "sample_sizes = np.arange(100, 400, 50)\n",
    "sample_sizes"
   ]
  },
  {
   "cell_type": "code",
   "execution_count": 13,
   "metadata": {},
   "outputs": [],
   "source": [
    "linear_R2_train = []\n",
    "linear_R2_test = []\n",
    "ridge_R2_train = []\n",
    "ridge_R2_test = []\n",
    "lasso_R2_train = []\n",
    "lasso_R2_test = []\n",
    "trials = 10\n",
    "\n",
    "for s in sample_sizes:\n",
    "    for i in range(trials):\n",
    "        X_train_sub, Y_train_sub = sample(X_train, Y_train, s)\n",
    "        \n",
    "        MLR_result = OLS(Y_train_sub, X_train_sub).fit()\n",
    "        linear_R2_train.append(r2_score(Y_train_sub, MLR_result.predict(X_train_sub)))\n",
    "        linear_R2_test.append(r2_score(Y_test, MLR_result.predict(X_test)))              \n",
    "        \n",
    "        ridge_cv_model = RidgeCV(alphas=shrikage)\n",
    "        ridge_cv_result = ridge_cv_model.fit(X_train_sub, Y_train_sub)\n",
    "        ridge_R2_train.append(r2_score(Y_train_sub, ridge_cv_result.predict(X_train_sub)))\n",
    "        ridge_R2_test.append(r2_score(Y_test, ridge_cv_result.predict(X_test)))\n",
    "        \n",
    "        lasso_cv_model = LassoCV(alphas=shrikage, max_iter=1e5)\n",
    "        lasso_cv_result = lasso_cv_model.fit(X_train_sub, Y_train_sub)\n",
    "        lasso_R2_train.append(r2_score(Y_train_sub, lasso_cv_result.predict(X_train_sub)))\n",
    "        lasso_R2_test.append(r2_score(Y_test, lasso_cv_result.predict(X_test)))\n",
    "\n",
    "linear_R2_train = np.array(linear_R2_train).reshape((len(sample_sizes), trials))\n",
    "linear_R2_test = np.array(linear_R2_test).reshape((len(sample_sizes), trials))\n",
    "ridge_R2_train = np.array(ridge_R2_train).reshape((len(sample_sizes), trials))\n",
    "ridge_R2_test = np.array(ridge_R2_test).reshape((len(sample_sizes), trials))\n",
    "lasso_R2_train = np.array(lasso_R2_train).reshape((len(sample_sizes), trials))\n",
    "lasso_R2_test = np.array(lasso_R2_test).reshape((len(sample_sizes), trials))"
   ]
  },
  {
   "cell_type": "code",
   "execution_count": 14,
   "metadata": {},
   "outputs": [
    {
     "data": {
      "image/png": "[encoded data removed]",
      "text/plain": [
       "<matplotlib.figure.Figure at 0x1f2e585c048>"
      ]
     },
     "metadata": {},
     "output_type": "display_data"
    }
   ],
   "source": [
    "sns.set_context('poster')\n",
    "plt.errorbar(x=sample_sizes, y=np.mean(linear_R2_train, axis=1), yerr=np.std(linear_R2_train, axis=1), label='Linear Train')\n",
    "plt.errorbar(x=sample_sizes, y=np.mean(linear_R2_test, axis=1), yerr=np.std(linear_R2_test, axis=1), label='Linear Test')\n",
    "plt.errorbar(x=sample_sizes, y=np.mean(ridge_R2_train, axis=1), yerr=np.std(ridge_R2_train, axis=1), label='Ridge Train')\n",
    "plt.errorbar(x=sample_sizes, y=np.mean(ridge_R2_test, axis=1), yerr=np.std(ridge_R2_test, axis=1), label='Ridge Test')\n",
    "plt.errorbar(x=sample_sizes, y=np.mean(lasso_R2_train, axis=1), yerr=np.std(lasso_R2_train, axis=1), label='Lasso Train')\n",
    "plt.errorbar(x=sample_sizes, y=np.mean(lasso_R2_test, axis=1), yerr=np.std(lasso_R2_test, axis=1), label='Lasso Test')\n",
    "plt.legend(loc='best')\n",
    "plt.title('$R^2$ vs Sample Size')\n",
    "plt.xlabel('Sample Sizes')\n",
    "plt.ylabel('$R^2$')\n",
    "plt.show()"
   ]
  },
  {
   "cell_type": "markdown",
   "metadata": {},
   "source": [
    "With smaller sample sizes, plain linear regression gives the best $R^2$ score in the training set but the worst in the testing set. This can be explained by over-fitting of the simple linear regression model. Although Ridge model has better training $R^2$ score than Lasso for smaller sample sizes, their performance for testing set are really close to each other, except that Ridge has smaller STD (confidence interval). Hence, for small sample size, I would recommend Ridge model for fitting."
   ]
  },
  {
   "cell_type": "markdown",
   "metadata": {},
   "source": [
    "## Part (g): Polynomial & Interaction Terms\n",
    "\n",
    "Moving beyond linear models, we will now try to improve the performance of the regression model in Part (b) from HW 3 by including higher-order polynomial and interaction terms. \n",
    "\n",
    "- For each continuous predictor $X_j$, include additional polynomial terms $X^2_j$, $X^3_j$, and $X^4_j$, and fit a multiple regression model to the expanded training set. How does the $R^2$ of this model on the test set compare with that of the linear model fitted in Part (b) from HW 3? Using a t-test, find out which of estimated coefficients for the polynomial terms are statistically significant at a significance level of 5%. \n",
    "\n",
    "- Fit a multiple linear regression model with additional interaction terms $\\mathbb{I}_{month = 12} \\times temp$ and $\\mathbb{I}_{workingday = 1} \\times \\mathbb{I}_{weathersit = 1}$ and report the test $R^2$ for the fitted model. How does this compare with the $R^2$ obtained using linear model in Part (b) from HW 3? Are the estimated coefficients for the interaction terms statistically significant at a significance level of 5%?"
   ]
  },
  {
   "cell_type": "markdown",
   "metadata": {},
   "source": [
    "#### Polynomial Terms ####"
   ]
  },
  {
   "cell_type": "code",
   "execution_count": 15,
   "metadata": {
    "collapsed": true
   },
   "outputs": [],
   "source": [
    "# Expand the selected column with their polynomials\n",
    "# X: Dataframe\n",
    "# col: List of column names\n",
    "# order: the orders of polynomials\n",
    "\n",
    "def expand_poly(X, col, order):\n",
    "    X_temp = X.copy()\n",
    "    for c in col:\n",
    "        for o in range(2, order+1):\n",
    "            X_temp[c+'_'+str(o)] = X_temp[c]**o\n",
    "    \n",
    "    return X_temp"
   ]
  },
  {
   "cell_type": "code",
   "execution_count": 16,
   "metadata": {
    "collapsed": true
   },
   "outputs": [],
   "source": [
    "X_train_poly = expand_poly(X_train, ['temp', 'atemp', 'humidity', 'windspeed'], 4)"
   ]
  },
  {
   "cell_type": "code",
   "execution_count": 17,
   "metadata": {},
   "outputs": [
    {
     "data": {
      "text/html": [
       "<div>\n",
       "<style>\n",
       "    .dataframe thead tr:only-child th {\n",
       "        text-align: right;\n",
       "    }\n",
       "\n",
       "    .dataframe thead th {\n",
       "        text-align: left;\n",
       "    }\n",
       "\n",
       "    .dataframe tbody tr th {\n",
       "        vertical-align: top;\n",
       "    }\n",
       "</style>\n",
       "<table border=\"1\" class=\"dataframe\">\n",
       "  <thead>\n",
       "    <tr style=\"text-align: right;\">\n",
       "      <th></th>\n",
       "      <th>holiday</th>\n",
       "      <th>workingday</th>\n",
       "      <th>temp</th>\n",
       "      <th>atemp</th>\n",
       "      <th>humidity</th>\n",
       "      <th>windspeed</th>\n",
       "      <th>season_1</th>\n",
       "      <th>season_2</th>\n",
       "      <th>season_3</th>\n",
       "      <th>month_1</th>\n",
       "      <th>...</th>\n",
       "      <th>temp_4</th>\n",
       "      <th>atemp_2</th>\n",
       "      <th>atemp_3</th>\n",
       "      <th>atemp_4</th>\n",
       "      <th>humidity_2</th>\n",
       "      <th>humidity_3</th>\n",
       "      <th>humidity_4</th>\n",
       "      <th>windspeed_2</th>\n",
       "      <th>windspeed_3</th>\n",
       "      <th>windspeed_4</th>\n",
       "    </tr>\n",
       "  </thead>\n",
       "  <tbody>\n",
       "    <tr>\n",
       "      <th>0</th>\n",
       "      <td>0</td>\n",
       "      <td>1</td>\n",
       "      <td>0.624743</td>\n",
       "      <td>0.651090</td>\n",
       "      <td>0.922058</td>\n",
       "      <td>-0.930164</td>\n",
       "      <td>0</td>\n",
       "      <td>1</td>\n",
       "      <td>0</td>\n",
       "      <td>0</td>\n",
       "      <td>...</td>\n",
       "      <td>0.152337</td>\n",
       "      <td>0.423918</td>\n",
       "      <td>0.276009</td>\n",
       "      <td>0.179707</td>\n",
       "      <td>0.850191</td>\n",
       "      <td>0.783925</td>\n",
       "      <td>0.722824</td>\n",
       "      <td>0.865205</td>\n",
       "      <td>-0.804783</td>\n",
       "      <td>0.748580</td>\n",
       "    </tr>\n",
       "    <tr>\n",
       "      <th>1</th>\n",
       "      <td>0</td>\n",
       "      <td>1</td>\n",
       "      <td>-0.180583</td>\n",
       "      <td>-0.054841</td>\n",
       "      <td>0.697907</td>\n",
       "      <td>-0.213825</td>\n",
       "      <td>0</td>\n",
       "      <td>0</td>\n",
       "      <td>0</td>\n",
       "      <td>0</td>\n",
       "      <td>...</td>\n",
       "      <td>0.001063</td>\n",
       "      <td>0.003008</td>\n",
       "      <td>-0.000165</td>\n",
       "      <td>0.000009</td>\n",
       "      <td>0.487074</td>\n",
       "      <td>0.339932</td>\n",
       "      <td>0.237241</td>\n",
       "      <td>0.045721</td>\n",
       "      <td>-0.009776</td>\n",
       "      <td>0.002090</td>\n",
       "    </tr>\n",
       "    <tr>\n",
       "      <th>2</th>\n",
       "      <td>0</td>\n",
       "      <td>1</td>\n",
       "      <td>0.803704</td>\n",
       "      <td>0.852785</td>\n",
       "      <td>-0.449062</td>\n",
       "      <td>0.805143</td>\n",
       "      <td>0</td>\n",
       "      <td>1</td>\n",
       "      <td>0</td>\n",
       "      <td>0</td>\n",
       "      <td>...</td>\n",
       "      <td>0.417239</td>\n",
       "      <td>0.727241</td>\n",
       "      <td>0.620180</td>\n",
       "      <td>0.528880</td>\n",
       "      <td>0.201657</td>\n",
       "      <td>-0.090556</td>\n",
       "      <td>0.040665</td>\n",
       "      <td>0.648255</td>\n",
       "      <td>0.521938</td>\n",
       "      <td>0.420235</td>\n",
       "    </tr>\n",
       "    <tr>\n",
       "      <th>3</th>\n",
       "      <td>0</td>\n",
       "      <td>0</td>\n",
       "      <td>-1.522794</td>\n",
       "      <td>-1.567551</td>\n",
       "      <td>-0.332616</td>\n",
       "      <td>-0.269507</td>\n",
       "      <td>0</td>\n",
       "      <td>0</td>\n",
       "      <td>0</td>\n",
       "      <td>0</td>\n",
       "      <td>...</td>\n",
       "      <td>5.377301</td>\n",
       "      <td>2.457218</td>\n",
       "      <td>-3.851815</td>\n",
       "      <td>6.037918</td>\n",
       "      <td>0.110634</td>\n",
       "      <td>-0.036799</td>\n",
       "      <td>0.012240</td>\n",
       "      <td>0.072634</td>\n",
       "      <td>-0.019575</td>\n",
       "      <td>0.005276</td>\n",
       "    </tr>\n",
       "    <tr>\n",
       "      <th>4</th>\n",
       "      <td>0</td>\n",
       "      <td>1</td>\n",
       "      <td>0.535262</td>\n",
       "      <td>0.348548</td>\n",
       "      <td>1.978781</td>\n",
       "      <td>-1.200843</td>\n",
       "      <td>0</td>\n",
       "      <td>0</td>\n",
       "      <td>1</td>\n",
       "      <td>0</td>\n",
       "      <td>...</td>\n",
       "      <td>0.082085</td>\n",
       "      <td>0.121486</td>\n",
       "      <td>0.042344</td>\n",
       "      <td>0.014759</td>\n",
       "      <td>3.915574</td>\n",
       "      <td>7.748062</td>\n",
       "      <td>15.331716</td>\n",
       "      <td>1.442023</td>\n",
       "      <td>-1.731643</td>\n",
       "      <td>2.079430</td>\n",
       "    </tr>\n",
       "  </tbody>\n",
       "</table>\n",
       "<p>5 rows × 41 columns</p>\n",
       "</div>"
      ],
      "text/plain": [
       "   holiday  workingday      temp     atemp  humidity  windspeed  season_1  \\\n",
       "0        0           1  0.624743  0.651090  0.922058  -0.930164         0   \n",
       "1        0           1 -0.180583 -0.054841  0.697907  -0.213825         0   \n",
       "2        0           1  0.803704  0.852785 -0.449062   0.805143         0   \n",
       "3        0           0 -1.522794 -1.567551 -0.332616  -0.269507         0   \n",
       "4        0           1  0.535262  0.348548  1.978781  -1.200843         0   \n",
       "\n",
       "   season_2  season_3  month_1     ...         temp_4   atemp_2   atemp_3  \\\n",
       "0         1         0        0     ...       0.152337  0.423918  0.276009   \n",
       "1         0         0        0     ...       0.001063  0.003008 -0.000165   \n",
       "2         1         0        0     ...       0.417239  0.727241  0.620180   \n",
       "3         0         0        0     ...       5.377301  2.457218 -3.851815   \n",
       "4         0         1        0     ...       0.082085  0.121486  0.042344   \n",
       "\n",
       "    atemp_4  humidity_2  humidity_3  humidity_4  windspeed_2  windspeed_3  \\\n",
       "0  0.179707    0.850191    0.783925    0.722824     0.865205    -0.804783   \n",
       "1  0.000009    0.487074    0.339932    0.237241     0.045721    -0.009776   \n",
       "2  0.528880    0.201657   -0.090556    0.040665     0.648255     0.521938   \n",
       "3  6.037918    0.110634   -0.036799    0.012240     0.072634    -0.019575   \n",
       "4  0.014759    3.915574    7.748062   15.331716     1.442023    -1.731643   \n",
       "\n",
       "   windspeed_4  \n",
       "0     0.748580  \n",
       "1     0.002090  \n",
       "2     0.420235  \n",
       "3     0.005276  \n",
       "4     2.079430  \n",
       "\n",
       "[5 rows x 41 columns]"
      ]
     },
     "execution_count": 17,
     "metadata": {},
     "output_type": "execute_result"
    }
   ],
   "source": [
    "X_train_poly.head()"
   ]
  },
  {
   "cell_type": "code",
   "execution_count": 18,
   "metadata": {
    "collapsed": true
   },
   "outputs": [],
   "source": [
    "MLR_result = OLS(Y_train, sm.add_constant(X_train)).fit()\n",
    "MLR_result_poly = OLS(Y_train, sm.add_constant(X_train_poly)).fit()"
   ]
  },
  {
   "cell_type": "code",
   "execution_count": 19,
   "metadata": {},
   "outputs": [
    {
     "data": {
      "text/html": [
       "<table class=\"simpletable\">\n",
       "<caption>OLS Regression Results</caption>\n",
       "<tr>\n",
       "  <th>Dep. Variable:</th>          <td>count</td>      <th>  R-squared:         </th> <td>   0.670</td>\n",
       "</tr>\n",
       "<tr>\n",
       "  <th>Model:</th>                   <td>OLS</td>       <th>  Adj. R-squared:    </th> <td>   0.625</td>\n",
       "</tr>\n",
       "<tr>\n",
       "  <th>Method:</th>             <td>Least Squares</td>  <th>  F-statistic:       </th> <td>   15.13</td>\n",
       "</tr>\n",
       "<tr>\n",
       "  <th>Date:</th>             <td>Wed, 11 Oct 2017</td> <th>  Prob (F-statistic):</th> <td>7.98e-50</td>\n",
       "</tr>\n",
       "<tr>\n",
       "  <th>Time:</th>                 <td>21:14:37</td>     <th>  Log-Likelihood:    </th> <td> -2790.9</td>\n",
       "</tr>\n",
       "<tr>\n",
       "  <th>No. Observations:</th>      <td>   331</td>      <th>  AIC:               </th> <td>   5662.</td>\n",
       "</tr>\n",
       "<tr>\n",
       "  <th>Df Residuals:</th>          <td>   291</td>      <th>  BIC:               </th> <td>   5814.</td>\n",
       "</tr>\n",
       "<tr>\n",
       "  <th>Df Model:</th>              <td>    39</td>      <th>                     </th>     <td> </td>   \n",
       "</tr>\n",
       "<tr>\n",
       "  <th>Covariance Type:</th>      <td>nonrobust</td>    <th>                     </th>     <td> </td>   \n",
       "</tr>\n",
       "</table>\n",
       "<table class=\"simpletable\">\n",
       "<tr>\n",
       "        <td></td>           <th>coef</th>     <th>std err</th>      <th>t</th>      <th>P>|t|</th>  <th>[0.025</th>    <th>0.975]</th>  \n",
       "</tr>\n",
       "<tr>\n",
       "  <th>const</th>         <td> 4255.8774</td> <td>  360.286</td> <td>   11.812</td> <td> 0.000</td> <td> 3546.780</td> <td> 4964.975</td>\n",
       "</tr>\n",
       "<tr>\n",
       "  <th>holiday</th>       <td> -189.7675</td> <td>  365.157</td> <td>   -0.520</td> <td> 0.604</td> <td> -908.451</td> <td>  528.916</td>\n",
       "</tr>\n",
       "<tr>\n",
       "  <th>workingday</th>    <td>  351.2739</td> <td>  150.615</td> <td>    2.332</td> <td> 0.020</td> <td>   54.841</td> <td>  647.707</td>\n",
       "</tr>\n",
       "<tr>\n",
       "  <th>temp</th>          <td>  770.3204</td> <td>  758.967</td> <td>    1.015</td> <td> 0.311</td> <td> -723.441</td> <td> 2264.082</td>\n",
       "</tr>\n",
       "<tr>\n",
       "  <th>atemp</th>         <td>  895.9192</td> <td>  712.094</td> <td>    1.258</td> <td> 0.209</td> <td> -505.588</td> <td> 2297.426</td>\n",
       "</tr>\n",
       "<tr>\n",
       "  <th>humidity</th>      <td> -667.9033</td> <td>  157.118</td> <td>   -4.251</td> <td> 0.000</td> <td> -977.136</td> <td> -358.671</td>\n",
       "</tr>\n",
       "<tr>\n",
       "  <th>windspeed</th>     <td> -445.8335</td> <td>  148.704</td> <td>   -2.998</td> <td> 0.003</td> <td> -738.505</td> <td> -153.162</td>\n",
       "</tr>\n",
       "<tr>\n",
       "  <th>season_1</th>      <td>-1523.2288</td> <td>  467.580</td> <td>   -3.258</td> <td> 0.001</td> <td>-2443.496</td> <td> -602.961</td>\n",
       "</tr>\n",
       "<tr>\n",
       "  <th>season_2</th>      <td> -756.7981</td> <td>  536.808</td> <td>   -1.410</td> <td> 0.160</td> <td>-1813.316</td> <td>  299.720</td>\n",
       "</tr>\n",
       "<tr>\n",
       "  <th>season_3</th>      <td>   55.5255</td> <td>  419.974</td> <td>    0.132</td> <td> 0.895</td> <td> -771.046</td> <td>  882.097</td>\n",
       "</tr>\n",
       "<tr>\n",
       "  <th>month_1</th>       <td>  555.6676</td> <td>  479.543</td> <td>    1.159</td> <td> 0.248</td> <td> -388.146</td> <td> 1499.481</td>\n",
       "</tr>\n",
       "<tr>\n",
       "  <th>month_2</th>       <td>  230.5990</td> <td>  478.558</td> <td>    0.482</td> <td> 0.630</td> <td> -711.275</td> <td> 1172.473</td>\n",
       "</tr>\n",
       "<tr>\n",
       "  <th>month_3</th>       <td>  250.8185</td> <td>  472.431</td> <td>    0.531</td> <td> 0.596</td> <td> -678.997</td> <td> 1180.634</td>\n",
       "</tr>\n",
       "<tr>\n",
       "  <th>month_4</th>       <td>  137.6431</td> <td>  605.236</td> <td>    0.227</td> <td> 0.820</td> <td>-1053.552</td> <td> 1328.838</td>\n",
       "</tr>\n",
       "<tr>\n",
       "  <th>month_5</th>       <td> -481.5367</td> <td>  647.272</td> <td>   -0.744</td> <td> 0.458</td> <td>-1755.466</td> <td>  792.392</td>\n",
       "</tr>\n",
       "<tr>\n",
       "  <th>month_6</th>       <td> -900.5181</td> <td>  648.671</td> <td>   -1.388</td> <td> 0.166</td> <td>-2177.201</td> <td>  376.164</td>\n",
       "</tr>\n",
       "<tr>\n",
       "  <th>month_7</th>       <td> -861.3206</td> <td>  653.672</td> <td>   -1.318</td> <td> 0.189</td> <td>-2147.844</td> <td>  425.203</td>\n",
       "</tr>\n",
       "<tr>\n",
       "  <th>month_8</th>       <td>-1160.2713</td> <td>  644.832</td> <td>   -1.799</td> <td> 0.073</td> <td>-2429.397</td> <td>  108.854</td>\n",
       "</tr>\n",
       "<tr>\n",
       "  <th>month_9</th>       <td> -517.7332</td> <td>  527.018</td> <td>   -0.982</td> <td> 0.327</td> <td>-1554.984</td> <td>  519.518</td>\n",
       "</tr>\n",
       "<tr>\n",
       "  <th>month_10</th>      <td> -370.2035</td> <td>  420.771</td> <td>   -0.880</td> <td> 0.380</td> <td>-1198.343</td> <td>  457.936</td>\n",
       "</tr>\n",
       "<tr>\n",
       "  <th>month_11</th>      <td> -269.8653</td> <td>  380.406</td> <td>   -0.709</td> <td> 0.479</td> <td>-1018.560</td> <td>  478.830</td>\n",
       "</tr>\n",
       "<tr>\n",
       "  <th>day_of_week_1</th> <td>  -93.3265</td> <td>  156.015</td> <td>   -0.598</td> <td> 0.550</td> <td> -400.387</td> <td>  213.734</td>\n",
       "</tr>\n",
       "<tr>\n",
       "  <th>day_of_week_2</th> <td> -133.4279</td> <td>  184.734</td> <td>   -0.722</td> <td> 0.471</td> <td> -497.012</td> <td>  230.156</td>\n",
       "</tr>\n",
       "<tr>\n",
       "  <th>day_of_week_3</th> <td>  147.7313</td> <td>  195.071</td> <td>    0.757</td> <td> 0.449</td> <td> -236.197</td> <td>  531.660</td>\n",
       "</tr>\n",
       "<tr>\n",
       "  <th>day_of_week_4</th> <td>   30.5924</td> <td>  187.547</td> <td>    0.163</td> <td> 0.871</td> <td> -338.528</td> <td>  399.713</td>\n",
       "</tr>\n",
       "<tr>\n",
       "  <th>day_of_week_5</th> <td>  209.9371</td> <td>  182.024</td> <td>    1.153</td> <td> 0.250</td> <td> -148.313</td> <td>  568.187</td>\n",
       "</tr>\n",
       "<tr>\n",
       "  <th>day_of_week_6</th> <td>  471.0834</td> <td>  246.557</td> <td>    1.911</td> <td> 0.057</td> <td>  -14.178</td> <td>  956.345</td>\n",
       "</tr>\n",
       "<tr>\n",
       "  <th>weather_1</th>     <td> 1746.9551</td> <td>  190.401</td> <td>    9.175</td> <td> 0.000</td> <td> 1372.217</td> <td> 2121.693</td>\n",
       "</tr>\n",
       "<tr>\n",
       "  <th>weather_2</th>     <td> 1805.9670</td> <td>  177.651</td> <td>   10.166</td> <td> 0.000</td> <td> 1456.324</td> <td> 2155.610</td>\n",
       "</tr>\n",
       "<tr>\n",
       "  <th>weather_3</th>     <td>  702.9554</td> <td>  413.144</td> <td>    1.701</td> <td> 0.090</td> <td> -110.173</td> <td> 1516.084</td>\n",
       "</tr>\n",
       "<tr>\n",
       "  <th>temp_2</th>        <td>-1805.5466</td> <td>  814.442</td> <td>   -2.217</td> <td> 0.027</td> <td>-3408.491</td> <td> -202.602</td>\n",
       "</tr>\n",
       "<tr>\n",
       "  <th>temp_3</th>        <td>    8.5688</td> <td>  274.482</td> <td>    0.031</td> <td> 0.975</td> <td> -531.653</td> <td>  548.790</td>\n",
       "</tr>\n",
       "<tr>\n",
       "  <th>temp_4</th>        <td>  -44.9184</td> <td>  170.385</td> <td>   -0.264</td> <td> 0.792</td> <td> -380.261</td> <td>  290.425</td>\n",
       "</tr>\n",
       "<tr>\n",
       "  <th>atemp_2</th>       <td> 1171.9491</td> <td>  786.481</td> <td>    1.490</td> <td> 0.137</td> <td> -375.962</td> <td> 2719.861</td>\n",
       "</tr>\n",
       "<tr>\n",
       "  <th>atemp_3</th>       <td> -302.5595</td> <td>  244.983</td> <td>   -1.235</td> <td> 0.218</td> <td> -784.722</td> <td>  179.603</td>\n",
       "</tr>\n",
       "<tr>\n",
       "  <th>atemp_4</th>       <td>  -20.6433</td> <td>  146.714</td> <td>   -0.141</td> <td> 0.888</td> <td> -309.398</td> <td>  268.112</td>\n",
       "</tr>\n",
       "<tr>\n",
       "  <th>humidity_2</th>    <td>  -53.5087</td> <td>  154.914</td> <td>   -0.345</td> <td> 0.730</td> <td> -358.402</td> <td>  251.384</td>\n",
       "</tr>\n",
       "<tr>\n",
       "  <th>humidity_3</th>    <td>  -15.9849</td> <td>   44.689</td> <td>   -0.358</td> <td> 0.721</td> <td> -103.940</td> <td>   71.970</td>\n",
       "</tr>\n",
       "<tr>\n",
       "  <th>humidity_4</th>    <td>  -24.6869</td> <td>   31.291</td> <td>   -0.789</td> <td> 0.431</td> <td>  -86.272</td> <td>   36.898</td>\n",
       "</tr>\n",
       "<tr>\n",
       "  <th>windspeed_2</th>   <td>  -34.0621</td> <td>  126.569</td> <td>   -0.269</td> <td> 0.788</td> <td> -283.168</td> <td>  215.044</td>\n",
       "</tr>\n",
       "<tr>\n",
       "  <th>windspeed_3</th>   <td>   44.6309</td> <td>   65.163</td> <td>    0.685</td> <td> 0.494</td> <td>  -83.619</td> <td>  172.881</td>\n",
       "</tr>\n",
       "<tr>\n",
       "  <th>windspeed_4</th>   <td>  -20.0552</td> <td>   30.144</td> <td>   -0.665</td> <td> 0.506</td> <td>  -79.382</td> <td>   39.272</td>\n",
       "</tr>\n",
       "</table>\n",
       "<table class=\"simpletable\">\n",
       "<tr>\n",
       "  <th>Omnibus:</th>       <td>29.995</td> <th>  Durbin-Watson:     </th> <td>   1.959</td>\n",
       "</tr>\n",
       "<tr>\n",
       "  <th>Prob(Omnibus):</th> <td> 0.000</td> <th>  Jarque-Bera (JB):  </th> <td>  10.202</td>\n",
       "</tr>\n",
       "<tr>\n",
       "  <th>Skew:</th>          <td>-0.094</td> <th>  Prob(JB):          </th> <td> 0.00609</td>\n",
       "</tr>\n",
       "<tr>\n",
       "  <th>Kurtosis:</th>      <td> 2.161</td> <th>  Cond. No.          </th> <td>1.36e+16</td>\n",
       "</tr>\n",
       "</table>"
      ],
      "text/plain": [
       "<class 'statsmodels.iolib.summary.Summary'>\n",
       "\"\"\"\n",
       "                            OLS Regression Results                            \n",
       "==============================================================================\n",
       "Dep. Variable:                  count   R-squared:                       0.670\n",
       "Model:                            OLS   Adj. R-squared:                  0.625\n",
       "Method:                 Least Squares   F-statistic:                     15.13\n",
       "Date:                Wed, 11 Oct 2017   Prob (F-statistic):           7.98e-50\n",
       "Time:                        21:14:37   Log-Likelihood:                -2790.9\n",
       "No. Observations:                 331   AIC:                             5662.\n",
       "Df Residuals:                     291   BIC:                             5814.\n",
       "Df Model:                          39                                         \n",
       "Covariance Type:            nonrobust                                         \n",
       "=================================================================================\n",
       "                    coef    std err          t      P>|t|      [0.025      0.975]\n",
       "---------------------------------------------------------------------------------\n",
       "const          4255.8774    360.286     11.812      0.000    3546.780    4964.975\n",
       "holiday        -189.7675    365.157     -0.520      0.604    -908.451     528.916\n",
       "workingday      351.2739    150.615      2.332      0.020      54.841     647.707\n",
       "temp            770.3204    758.967      1.015      0.311    -723.441    2264.082\n",
       "atemp           895.9192    712.094      1.258      0.209    -505.588    2297.426\n",
       "humidity       -667.9033    157.118     -4.251      0.000    -977.136    -358.671\n",
       "windspeed      -445.8335    148.704     -2.998      0.003    -738.505    -153.162\n",
       "season_1      -1523.2288    467.580     -3.258      0.001   -2443.496    -602.961\n",
       "season_2       -756.7981    536.808     -1.410      0.160   -1813.316     299.720\n",
       "season_3         55.5255    419.974      0.132      0.895    -771.046     882.097\n",
       "month_1         555.6676    479.543      1.159      0.248    -388.146    1499.481\n",
       "month_2         230.5990    478.558      0.482      0.630    -711.275    1172.473\n",
       "month_3         250.8185    472.431      0.531      0.596    -678.997    1180.634\n",
       "month_4         137.6431    605.236      0.227      0.820   -1053.552    1328.838\n",
       "month_5        -481.5367    647.272     -0.744      0.458   -1755.466     792.392\n",
       "month_6        -900.5181    648.671     -1.388      0.166   -2177.201     376.164\n",
       "month_7        -861.3206    653.672     -1.318      0.189   -2147.844     425.203\n",
       "month_8       -1160.2713    644.832     -1.799      0.073   -2429.397     108.854\n",
       "month_9        -517.7332    527.018     -0.982      0.327   -1554.984     519.518\n",
       "month_10       -370.2035    420.771     -0.880      0.380   -1198.343     457.936\n",
       "month_11       -269.8653    380.406     -0.709      0.479   -1018.560     478.830\n",
       "day_of_week_1   -93.3265    156.015     -0.598      0.550    -400.387     213.734\n",
       "day_of_week_2  -133.4279    184.734     -0.722      0.471    -497.012     230.156\n",
       "day_of_week_3   147.7313    195.071      0.757      0.449    -236.197     531.660\n",
       "day_of_week_4    30.5924    187.547      0.163      0.871    -338.528     399.713\n",
       "day_of_week_5   209.9371    182.024      1.153      0.250    -148.313     568.187\n",
       "day_of_week_6   471.0834    246.557      1.911      0.057     -14.178     956.345\n",
       "weather_1      1746.9551    190.401      9.175      0.000    1372.217    2121.693\n",
       "weather_2      1805.9670    177.651     10.166      0.000    1456.324    2155.610\n",
       "weather_3       702.9554    413.144      1.701      0.090    -110.173    1516.084\n",
       "temp_2        -1805.5466    814.442     -2.217      0.027   -3408.491    -202.602\n",
       "temp_3            8.5688    274.482      0.031      0.975    -531.653     548.790\n",
       "temp_4          -44.9184    170.385     -0.264      0.792    -380.261     290.425\n",
       "atemp_2        1171.9491    786.481      1.490      0.137    -375.962    2719.861\n",
       "atemp_3        -302.5595    244.983     -1.235      0.218    -784.722     179.603\n",
       "atemp_4         -20.6433    146.714     -0.141      0.888    -309.398     268.112\n",
       "humidity_2      -53.5087    154.914     -0.345      0.730    -358.402     251.384\n",
       "humidity_3      -15.9849     44.689     -0.358      0.721    -103.940      71.970\n",
       "humidity_4      -24.6869     31.291     -0.789      0.431     -86.272      36.898\n",
       "windspeed_2     -34.0621    126.569     -0.269      0.788    -283.168     215.044\n",
       "windspeed_3      44.6309     65.163      0.685      0.494     -83.619     172.881\n",
       "windspeed_4     -20.0552     30.144     -0.665      0.506     -79.382      39.272\n",
       "==============================================================================\n",
       "Omnibus:                       29.995   Durbin-Watson:                   1.959\n",
       "Prob(Omnibus):                  0.000   Jarque-Bera (JB):               10.202\n",
       "Skew:                          -0.094   Prob(JB):                      0.00609\n",
       "Kurtosis:                       2.161   Cond. No.                     1.36e+16\n",
       "==============================================================================\n",
       "\n",
       "Warnings:\n",
       "[1] Standard Errors assume that the covariance matrix of the errors is correctly specified.\n",
       "[2] The smallest eigenvalue is 2.1e-28. This might indicate that there are\n",
       "strong multicollinearity problems or that the design matrix is singular.\n",
       "\"\"\""
      ]
     },
     "execution_count": 19,
     "metadata": {},
     "output_type": "execute_result"
    }
   ],
   "source": [
    "MLR_result_poly.summary()"
   ]
  },
  {
   "cell_type": "code",
   "execution_count": 20,
   "metadata": {
    "collapsed": true
   },
   "outputs": [],
   "source": [
    "X_test_poly = expand_poly(X_test, ['temp', 'atemp', 'humidity', 'windspeed'], 4)"
   ]
  },
  {
   "cell_type": "code",
   "execution_count": 21,
   "metadata": {},
   "outputs": [
    {
     "name": "stdout",
     "output_type": "stream",
     "text": [
      "Linear R^2: 0.24934\n",
      "Polynomial R^2: 0.27724\n"
     ]
    }
   ],
   "source": [
    "r2_MLR = r2_score(Y_test, MLR_result.predict(sm.add_constant(X_test)))\n",
    "r2_MLR_poly = r2_score(Y_test, MLR_result_poly.predict(sm.add_constant(X_test_poly)))\n",
    "\n",
    "print(\"Linear R^2: %.5f\\nPolynomial R^2: %.5f\" % (r2_MLR, r2_MLR_poly))"
   ]
  },
  {
   "cell_type": "code",
   "execution_count": 22,
   "metadata": {},
   "outputs": [
    {
     "data": {
      "text/plain": [
       "const         1.443714e-26\n",
       "workingday    2.036885e-02\n",
       "humidity      2.870343e-05\n",
       "windspeed     2.950904e-03\n",
       "season_1      1.256241e-03\n",
       "weather_1     8.573877e-18\n",
       "weather_2     5.660778e-21\n",
       "temp_2        2.740200e-02\n",
       "dtype: float64"
      ]
     },
     "execution_count": 22,
     "metadata": {},
     "output_type": "execute_result"
    }
   ],
   "source": [
    "MLR_result_poly.pvalues[MLR_result_poly.pvalues < 0.05]"
   ]
  },
  {
   "cell_type": "markdown",
   "metadata": {},
   "source": [
    "$R^2$ for the polynomial fitting is slightly better than that of the plain linear regression model. According to the p values information, two more terms' coefficients (workingday and $temp^2$) become significant in the polynomial fitting model."
   ]
  },
  {
   "cell_type": "markdown",
   "metadata": {},
   "source": [
    "#### Interaction Terms ####"
   ]
  },
  {
   "cell_type": "code",
   "execution_count": 23,
   "metadata": {
    "collapsed": true
   },
   "outputs": [],
   "source": [
    "# Expand the selected two columns with their interaction term\n",
    "# X: Dataframe\n",
    "# cols: List of column pairs e.g. cols = [(col1, col2), (col3, col4)]\n",
    "\n",
    "def expand_inter(X, cols):\n",
    "    X_temp = X.copy()\n",
    "    for c in cols:\n",
    "        col1 = c[0]\n",
    "        col2 = c[1]\n",
    "        X_temp[col1+'_X_'+col2] = X_temp[col1]*X_temp[col2]\n",
    "    return X_temp"
   ]
  },
  {
   "cell_type": "code",
   "execution_count": 24,
   "metadata": {
    "collapsed": true
   },
   "outputs": [],
   "source": [
    "X_train_inter = X_train.copy()\n",
    "X_test_inter = X_test.copy()\n",
    "\n",
    "X_train_inter['month_12_X_temp'] = (1 - X_train_inter.loc[:, 'month_1':'month_11'].sum(axis=1)) * X_train_inter['temp']\n",
    "X_test_inter['month_12_X_temp'] = (1 - X_test_inter.loc[:, 'month_1':'month_11'].sum(axis=1)) * X_test_inter['temp'] "
   ]
  },
  {
   "cell_type": "code",
   "execution_count": 25,
   "metadata": {
    "collapsed": true
   },
   "outputs": [],
   "source": [
    "X_train_inter = expand_inter(X_train_inter, [('workingday', 'weather_1')])\n",
    "X_test_inter = expand_inter(X_test_inter, [('workingday', 'weather_1')])"
   ]
  },
  {
   "cell_type": "code",
   "execution_count": 26,
   "metadata": {},
   "outputs": [
    {
     "data": {
      "text/html": [
       "<div>\n",
       "<style>\n",
       "    .dataframe thead tr:only-child th {\n",
       "        text-align: right;\n",
       "    }\n",
       "\n",
       "    .dataframe thead th {\n",
       "        text-align: left;\n",
       "    }\n",
       "\n",
       "    .dataframe tbody tr th {\n",
       "        vertical-align: top;\n",
       "    }\n",
       "</style>\n",
       "<table border=\"1\" class=\"dataframe\">\n",
       "  <thead>\n",
       "    <tr style=\"text-align: right;\">\n",
       "      <th></th>\n",
       "      <th>holiday</th>\n",
       "      <th>workingday</th>\n",
       "      <th>temp</th>\n",
       "      <th>atemp</th>\n",
       "      <th>humidity</th>\n",
       "      <th>windspeed</th>\n",
       "      <th>season_1</th>\n",
       "      <th>season_2</th>\n",
       "      <th>season_3</th>\n",
       "      <th>month_1</th>\n",
       "      <th>...</th>\n",
       "      <th>day_of_week_2</th>\n",
       "      <th>day_of_week_3</th>\n",
       "      <th>day_of_week_4</th>\n",
       "      <th>day_of_week_5</th>\n",
       "      <th>day_of_week_6</th>\n",
       "      <th>weather_1</th>\n",
       "      <th>weather_2</th>\n",
       "      <th>weather_3</th>\n",
       "      <th>month_12_X_temp</th>\n",
       "      <th>workingday_X_weather_1</th>\n",
       "    </tr>\n",
       "  </thead>\n",
       "  <tbody>\n",
       "    <tr>\n",
       "      <th>0</th>\n",
       "      <td>0</td>\n",
       "      <td>1</td>\n",
       "      <td>0.624743</td>\n",
       "      <td>0.651090</td>\n",
       "      <td>0.922058</td>\n",
       "      <td>-0.930164</td>\n",
       "      <td>0</td>\n",
       "      <td>1</td>\n",
       "      <td>0</td>\n",
       "      <td>0</td>\n",
       "      <td>...</td>\n",
       "      <td>1</td>\n",
       "      <td>0</td>\n",
       "      <td>0</td>\n",
       "      <td>0</td>\n",
       "      <td>0</td>\n",
       "      <td>0</td>\n",
       "      <td>1</td>\n",
       "      <td>0</td>\n",
       "      <td>0.000000</td>\n",
       "      <td>0</td>\n",
       "    </tr>\n",
       "    <tr>\n",
       "      <th>1</th>\n",
       "      <td>0</td>\n",
       "      <td>1</td>\n",
       "      <td>-0.180583</td>\n",
       "      <td>-0.054841</td>\n",
       "      <td>0.697907</td>\n",
       "      <td>-0.213825</td>\n",
       "      <td>0</td>\n",
       "      <td>0</td>\n",
       "      <td>0</td>\n",
       "      <td>0</td>\n",
       "      <td>...</td>\n",
       "      <td>1</td>\n",
       "      <td>0</td>\n",
       "      <td>0</td>\n",
       "      <td>0</td>\n",
       "      <td>0</td>\n",
       "      <td>1</td>\n",
       "      <td>0</td>\n",
       "      <td>0</td>\n",
       "      <td>-0.180583</td>\n",
       "      <td>1</td>\n",
       "    </tr>\n",
       "    <tr>\n",
       "      <th>2</th>\n",
       "      <td>0</td>\n",
       "      <td>1</td>\n",
       "      <td>0.803704</td>\n",
       "      <td>0.852785</td>\n",
       "      <td>-0.449062</td>\n",
       "      <td>0.805143</td>\n",
       "      <td>0</td>\n",
       "      <td>1</td>\n",
       "      <td>0</td>\n",
       "      <td>0</td>\n",
       "      <td>...</td>\n",
       "      <td>0</td>\n",
       "      <td>0</td>\n",
       "      <td>1</td>\n",
       "      <td>0</td>\n",
       "      <td>0</td>\n",
       "      <td>1</td>\n",
       "      <td>0</td>\n",
       "      <td>0</td>\n",
       "      <td>0.000000</td>\n",
       "      <td>1</td>\n",
       "    </tr>\n",
       "    <tr>\n",
       "      <th>3</th>\n",
       "      <td>0</td>\n",
       "      <td>0</td>\n",
       "      <td>-1.522794</td>\n",
       "      <td>-1.567551</td>\n",
       "      <td>-0.332616</td>\n",
       "      <td>-0.269507</td>\n",
       "      <td>0</td>\n",
       "      <td>0</td>\n",
       "      <td>0</td>\n",
       "      <td>0</td>\n",
       "      <td>...</td>\n",
       "      <td>0</td>\n",
       "      <td>0</td>\n",
       "      <td>0</td>\n",
       "      <td>0</td>\n",
       "      <td>0</td>\n",
       "      <td>1</td>\n",
       "      <td>0</td>\n",
       "      <td>0</td>\n",
       "      <td>-1.522794</td>\n",
       "      <td>0</td>\n",
       "    </tr>\n",
       "    <tr>\n",
       "      <th>4</th>\n",
       "      <td>0</td>\n",
       "      <td>1</td>\n",
       "      <td>0.535262</td>\n",
       "      <td>0.348548</td>\n",
       "      <td>1.978781</td>\n",
       "      <td>-1.200843</td>\n",
       "      <td>0</td>\n",
       "      <td>0</td>\n",
       "      <td>1</td>\n",
       "      <td>0</td>\n",
       "      <td>...</td>\n",
       "      <td>0</td>\n",
       "      <td>1</td>\n",
       "      <td>0</td>\n",
       "      <td>0</td>\n",
       "      <td>0</td>\n",
       "      <td>0</td>\n",
       "      <td>0</td>\n",
       "      <td>1</td>\n",
       "      <td>0.000000</td>\n",
       "      <td>0</td>\n",
       "    </tr>\n",
       "  </tbody>\n",
       "</table>\n",
       "<p>5 rows × 31 columns</p>\n",
       "</div>"
      ],
      "text/plain": [
       "   holiday  workingday      temp     atemp  humidity  windspeed  season_1  \\\n",
       "0        0           1  0.624743  0.651090  0.922058  -0.930164         0   \n",
       "1        0           1 -0.180583 -0.054841  0.697907  -0.213825         0   \n",
       "2        0           1  0.803704  0.852785 -0.449062   0.805143         0   \n",
       "3        0           0 -1.522794 -1.567551 -0.332616  -0.269507         0   \n",
       "4        0           1  0.535262  0.348548  1.978781  -1.200843         0   \n",
       "\n",
       "   season_2  season_3  month_1           ...            day_of_week_2  \\\n",
       "0         1         0        0           ...                        1   \n",
       "1         0         0        0           ...                        1   \n",
       "2         1         0        0           ...                        0   \n",
       "3         0         0        0           ...                        0   \n",
       "4         0         1        0           ...                        0   \n",
       "\n",
       "   day_of_week_3  day_of_week_4  day_of_week_5  day_of_week_6  weather_1  \\\n",
       "0              0              0              0              0          0   \n",
       "1              0              0              0              0          1   \n",
       "2              0              1              0              0          1   \n",
       "3              0              0              0              0          1   \n",
       "4              1              0              0              0          0   \n",
       "\n",
       "   weather_2  weather_3  month_12_X_temp  workingday_X_weather_1  \n",
       "0          1          0         0.000000                       0  \n",
       "1          0          0        -0.180583                       1  \n",
       "2          0          0         0.000000                       1  \n",
       "3          0          0        -1.522794                       0  \n",
       "4          0          1         0.000000                       0  \n",
       "\n",
       "[5 rows x 31 columns]"
      ]
     },
     "execution_count": 26,
     "metadata": {},
     "output_type": "execute_result"
    }
   ],
   "source": [
    "X_train_inter.head()"
   ]
  },
  {
   "cell_type": "code",
   "execution_count": 27,
   "metadata": {
    "collapsed": true
   },
   "outputs": [],
   "source": [
    "MLR_result_inter = OLS(Y_train, sm.add_constant(X_train_inter)).fit()"
   ]
  },
  {
   "cell_type": "code",
   "execution_count": 28,
   "metadata": {},
   "outputs": [
    {
     "data": {
      "text/html": [
       "<table class=\"simpletable\">\n",
       "<caption>OLS Regression Results</caption>\n",
       "<tr>\n",
       "  <th>Dep. Variable:</th>          <td>count</td>      <th>  R-squared:         </th> <td>   0.580</td>\n",
       "</tr>\n",
       "<tr>\n",
       "  <th>Model:</th>                   <td>OLS</td>       <th>  Adj. R-squared:    </th> <td>   0.540</td>\n",
       "</tr>\n",
       "<tr>\n",
       "  <th>Method:</th>             <td>Least Squares</td>  <th>  F-statistic:       </th> <td>   14.36</td>\n",
       "</tr>\n",
       "<tr>\n",
       "  <th>Date:</th>             <td>Wed, 11 Oct 2017</td> <th>  Prob (F-statistic):</th> <td>2.43e-41</td>\n",
       "</tr>\n",
       "<tr>\n",
       "  <th>Time:</th>                 <td>21:14:37</td>     <th>  Log-Likelihood:    </th> <td> -2830.5</td>\n",
       "</tr>\n",
       "<tr>\n",
       "  <th>No. Observations:</th>      <td>   331</td>      <th>  AIC:               </th> <td>   5721.</td>\n",
       "</tr>\n",
       "<tr>\n",
       "  <th>Df Residuals:</th>          <td>   301</td>      <th>  BIC:               </th> <td>   5835.</td>\n",
       "</tr>\n",
       "<tr>\n",
       "  <th>Df Model:</th>              <td>    29</td>      <th>                     </th>     <td> </td>   \n",
       "</tr>\n",
       "<tr>\n",
       "  <th>Covariance Type:</th>      <td>nonrobust</td>    <th>                     </th>     <td> </td>   \n",
       "</tr>\n",
       "</table>\n",
       "<table class=\"simpletable\">\n",
       "<tr>\n",
       "             <td></td>               <th>coef</th>     <th>std err</th>      <th>t</th>      <th>P>|t|</th>  <th>[0.025</th>    <th>0.975]</th>  \n",
       "</tr>\n",
       "<tr>\n",
       "  <th>const</th>                  <td> 3958.9074</td> <td>  587.527</td> <td>    6.738</td> <td> 0.000</td> <td> 2802.727</td> <td> 5115.088</td>\n",
       "</tr>\n",
       "<tr>\n",
       "  <th>holiday</th>                <td> -268.7464</td> <td>  400.237</td> <td>   -0.671</td> <td> 0.502</td> <td>-1056.364</td> <td>  518.871</td>\n",
       "</tr>\n",
       "<tr>\n",
       "  <th>workingday</th>             <td>  102.9274</td> <td>  266.927</td> <td>    0.386</td> <td> 0.700</td> <td> -422.353</td> <td>  628.207</td>\n",
       "</tr>\n",
       "<tr>\n",
       "  <th>temp</th>                   <td>  905.5879</td> <td>  474.450</td> <td>    1.909</td> <td> 0.057</td> <td>  -28.072</td> <td> 1839.247</td>\n",
       "</tr>\n",
       "<tr>\n",
       "  <th>atemp</th>                  <td>  274.3553</td> <td>  429.137</td> <td>    0.639</td> <td> 0.523</td> <td> -570.134</td> <td> 1118.844</td>\n",
       "</tr>\n",
       "<tr>\n",
       "  <th>humidity</th>               <td> -573.2500</td> <td>  113.820</td> <td>   -5.036</td> <td> 0.000</td> <td> -797.234</td> <td> -349.266</td>\n",
       "</tr>\n",
       "<tr>\n",
       "  <th>windspeed</th>              <td> -275.3288</td> <td>   81.613</td> <td>   -3.374</td> <td> 0.001</td> <td> -435.933</td> <td> -114.724</td>\n",
       "</tr>\n",
       "<tr>\n",
       "  <th>season_1</th>               <td> -884.3187</td> <td>  550.763</td> <td>   -1.606</td> <td> 0.109</td> <td>-1968.152</td> <td>  199.515</td>\n",
       "</tr>\n",
       "<tr>\n",
       "  <th>season_2</th>               <td> -110.9431</td> <td>  587.150</td> <td>   -0.189</td> <td> 0.850</td> <td>-1266.381</td> <td> 1044.495</td>\n",
       "</tr>\n",
       "<tr>\n",
       "  <th>season_3</th>               <td>  -75.5976</td> <td>  453.682</td> <td>   -0.167</td> <td> 0.868</td> <td> -968.388</td> <td>  817.193</td>\n",
       "</tr>\n",
       "<tr>\n",
       "  <th>month_1</th>                <td>-1211.6733</td> <td> 1040.400</td> <td>   -1.165</td> <td> 0.245</td> <td>-3259.052</td> <td>  835.706</td>\n",
       "</tr>\n",
       "<tr>\n",
       "  <th>month_2</th>                <td>-1095.9921</td> <td> 1020.067</td> <td>   -1.074</td> <td> 0.283</td> <td>-3103.357</td> <td>  911.373</td>\n",
       "</tr>\n",
       "<tr>\n",
       "  <th>month_3</th>                <td> -896.4352</td> <td>  975.450</td> <td>   -0.919</td> <td> 0.359</td> <td>-2816.000</td> <td> 1023.129</td>\n",
       "</tr>\n",
       "<tr>\n",
       "  <th>month_4</th>                <td> -705.5649</td> <td>  997.870</td> <td>   -0.707</td> <td> 0.480</td> <td>-2669.249</td> <td> 1258.119</td>\n",
       "</tr>\n",
       "<tr>\n",
       "  <th>month_5</th>                <td>-1011.9024</td> <td> 1004.051</td> <td>   -1.008</td> <td> 0.314</td> <td>-2987.750</td> <td>  963.945</td>\n",
       "</tr>\n",
       "<tr>\n",
       "  <th>month_6</th>                <td>-1737.2977</td> <td>  980.173</td> <td>   -1.772</td> <td> 0.077</td> <td>-3666.157</td> <td>  191.562</td>\n",
       "</tr>\n",
       "<tr>\n",
       "  <th>month_7</th>                <td>-2140.0440</td> <td>  941.775</td> <td>   -2.272</td> <td> 0.024</td> <td>-3993.341</td> <td> -286.747</td>\n",
       "</tr>\n",
       "<tr>\n",
       "  <th>month_8</th>                <td>-1640.2677</td> <td>  934.999</td> <td>   -1.754</td> <td> 0.080</td> <td>-3480.230</td> <td>  199.695</td>\n",
       "</tr>\n",
       "<tr>\n",
       "  <th>month_9</th>                <td> -421.5095</td> <td>  838.850</td> <td>   -0.502</td> <td> 0.616</td> <td>-2072.263</td> <td> 1229.244</td>\n",
       "</tr>\n",
       "<tr>\n",
       "  <th>month_10</th>               <td> -290.2825</td> <td>  766.708</td> <td>   -0.379</td> <td> 0.705</td> <td>-1799.069</td> <td> 1218.504</td>\n",
       "</tr>\n",
       "<tr>\n",
       "  <th>month_11</th>               <td> -681.9367</td> <td>  777.020</td> <td>   -0.878</td> <td> 0.381</td> <td>-2211.016</td> <td>  847.142</td>\n",
       "</tr>\n",
       "<tr>\n",
       "  <th>day_of_week_1</th>          <td> -151.6213</td> <td>  173.066</td> <td>   -0.876</td> <td> 0.382</td> <td> -492.193</td> <td>  188.950</td>\n",
       "</tr>\n",
       "<tr>\n",
       "  <th>day_of_week_2</th>          <td> -236.3003</td> <td>  205.676</td> <td>   -1.149</td> <td> 0.252</td> <td> -641.045</td> <td>  168.444</td>\n",
       "</tr>\n",
       "<tr>\n",
       "  <th>day_of_week_3</th>          <td>  113.1613</td> <td>  217.128</td> <td>    0.521</td> <td> 0.603</td> <td> -314.119</td> <td>  540.442</td>\n",
       "</tr>\n",
       "<tr>\n",
       "  <th>day_of_week_4</th>          <td>   31.0892</td> <td>  209.658</td> <td>    0.148</td> <td> 0.882</td> <td> -381.491</td> <td>  443.670</td>\n",
       "</tr>\n",
       "<tr>\n",
       "  <th>day_of_week_5</th>          <td>   77.8521</td> <td>  202.159</td> <td>    0.385</td> <td> 0.700</td> <td> -319.972</td> <td>  475.676</td>\n",
       "</tr>\n",
       "<tr>\n",
       "  <th>day_of_week_6</th>          <td>  423.1840</td> <td>  269.763</td> <td>    1.569</td> <td> 0.118</td> <td> -107.676</td> <td>  954.044</td>\n",
       "</tr>\n",
       "<tr>\n",
       "  <th>weather_1</th>              <td> 1691.8385</td> <td>  296.339</td> <td>    5.709</td> <td> 0.000</td> <td> 1108.679</td> <td> 2274.998</td>\n",
       "</tr>\n",
       "<tr>\n",
       "  <th>weather_2</th>              <td> 1915.1451</td> <td>  264.936</td> <td>    7.229</td> <td> 0.000</td> <td> 1393.784</td> <td> 2436.507</td>\n",
       "</tr>\n",
       "<tr>\n",
       "  <th>weather_3</th>              <td>  351.9238</td> <td>  431.980</td> <td>    0.815</td> <td> 0.416</td> <td> -498.160</td> <td> 1202.008</td>\n",
       "</tr>\n",
       "<tr>\n",
       "  <th>month_12_X_temp</th>        <td> 1043.5538</td> <td>  728.600</td> <td>    1.432</td> <td> 0.153</td> <td> -390.241</td> <td> 2477.349</td>\n",
       "</tr>\n",
       "<tr>\n",
       "  <th>workingday_X_weather_1</th> <td>  313.2194</td> <td>  352.789</td> <td>    0.888</td> <td> 0.375</td> <td> -381.025</td> <td> 1007.464</td>\n",
       "</tr>\n",
       "</table>\n",
       "<table class=\"simpletable\">\n",
       "<tr>\n",
       "  <th>Omnibus:</th>       <td>33.048</td> <th>  Durbin-Watson:     </th> <td>   1.921</td>\n",
       "</tr>\n",
       "<tr>\n",
       "  <th>Prob(Omnibus):</th> <td> 0.000</td> <th>  Jarque-Bera (JB):  </th> <td>  10.362</td>\n",
       "</tr>\n",
       "<tr>\n",
       "  <th>Skew:</th>          <td> 0.037</td> <th>  Prob(JB):          </th> <td> 0.00562</td>\n",
       "</tr>\n",
       "<tr>\n",
       "  <th>Kurtosis:</th>      <td> 2.136</td> <th>  Cond. No.          </th> <td>1.33e+16</td>\n",
       "</tr>\n",
       "</table>"
      ],
      "text/plain": [
       "<class 'statsmodels.iolib.summary.Summary'>\n",
       "\"\"\"\n",
       "                            OLS Regression Results                            \n",
       "==============================================================================\n",
       "Dep. Variable:                  count   R-squared:                       0.580\n",
       "Model:                            OLS   Adj. R-squared:                  0.540\n",
       "Method:                 Least Squares   F-statistic:                     14.36\n",
       "Date:                Wed, 11 Oct 2017   Prob (F-statistic):           2.43e-41\n",
       "Time:                        21:14:37   Log-Likelihood:                -2830.5\n",
       "No. Observations:                 331   AIC:                             5721.\n",
       "Df Residuals:                     301   BIC:                             5835.\n",
       "Df Model:                          29                                         \n",
       "Covariance Type:            nonrobust                                         \n",
       "==========================================================================================\n",
       "                             coef    std err          t      P>|t|      [0.025      0.975]\n",
       "------------------------------------------------------------------------------------------\n",
       "const                   3958.9074    587.527      6.738      0.000    2802.727    5115.088\n",
       "holiday                 -268.7464    400.237     -0.671      0.502   -1056.364     518.871\n",
       "workingday               102.9274    266.927      0.386      0.700    -422.353     628.207\n",
       "temp                     905.5879    474.450      1.909      0.057     -28.072    1839.247\n",
       "atemp                    274.3553    429.137      0.639      0.523    -570.134    1118.844\n",
       "humidity                -573.2500    113.820     -5.036      0.000    -797.234    -349.266\n",
       "windspeed               -275.3288     81.613     -3.374      0.001    -435.933    -114.724\n",
       "season_1                -884.3187    550.763     -1.606      0.109   -1968.152     199.515\n",
       "season_2                -110.9431    587.150     -0.189      0.850   -1266.381    1044.495\n",
       "season_3                 -75.5976    453.682     -0.167      0.868    -968.388     817.193\n",
       "month_1                -1211.6733   1040.400     -1.165      0.245   -3259.052     835.706\n",
       "month_2                -1095.9921   1020.067     -1.074      0.283   -3103.357     911.373\n",
       "month_3                 -896.4352    975.450     -0.919      0.359   -2816.000    1023.129\n",
       "month_4                 -705.5649    997.870     -0.707      0.480   -2669.249    1258.119\n",
       "month_5                -1011.9024   1004.051     -1.008      0.314   -2987.750     963.945\n",
       "month_6                -1737.2977    980.173     -1.772      0.077   -3666.157     191.562\n",
       "month_7                -2140.0440    941.775     -2.272      0.024   -3993.341    -286.747\n",
       "month_8                -1640.2677    934.999     -1.754      0.080   -3480.230     199.695\n",
       "month_9                 -421.5095    838.850     -0.502      0.616   -2072.263    1229.244\n",
       "month_10                -290.2825    766.708     -0.379      0.705   -1799.069    1218.504\n",
       "month_11                -681.9367    777.020     -0.878      0.381   -2211.016     847.142\n",
       "day_of_week_1           -151.6213    173.066     -0.876      0.382    -492.193     188.950\n",
       "day_of_week_2           -236.3003    205.676     -1.149      0.252    -641.045     168.444\n",
       "day_of_week_3            113.1613    217.128      0.521      0.603    -314.119     540.442\n",
       "day_of_week_4             31.0892    209.658      0.148      0.882    -381.491     443.670\n",
       "day_of_week_5             77.8521    202.159      0.385      0.700    -319.972     475.676\n",
       "day_of_week_6            423.1840    269.763      1.569      0.118    -107.676     954.044\n",
       "weather_1               1691.8385    296.339      5.709      0.000    1108.679    2274.998\n",
       "weather_2               1915.1451    264.936      7.229      0.000    1393.784    2436.507\n",
       "weather_3                351.9238    431.980      0.815      0.416    -498.160    1202.008\n",
       "month_12_X_temp         1043.5538    728.600      1.432      0.153    -390.241    2477.349\n",
       "workingday_X_weather_1   313.2194    352.789      0.888      0.375    -381.025    1007.464\n",
       "==============================================================================\n",
       "Omnibus:                       33.048   Durbin-Watson:                   1.921\n",
       "Prob(Omnibus):                  0.000   Jarque-Bera (JB):               10.362\n",
       "Skew:                           0.037   Prob(JB):                      0.00562\n",
       "Kurtosis:                       2.136   Cond. No.                     1.33e+16\n",
       "==============================================================================\n",
       "\n",
       "Warnings:\n",
       "[1] Standard Errors assume that the covariance matrix of the errors is correctly specified.\n",
       "[2] The smallest eigenvalue is 5.04e-30. This might indicate that there are\n",
       "strong multicollinearity problems or that the design matrix is singular.\n",
       "\"\"\""
      ]
     },
     "execution_count": 28,
     "metadata": {},
     "output_type": "execute_result"
    }
   ],
   "source": [
    "MLR_result_inter.summary()"
   ]
  },
  {
   "cell_type": "code",
   "execution_count": 29,
   "metadata": {},
   "outputs": [
    {
     "name": "stdout",
     "output_type": "stream",
     "text": [
      "Linear R^2: 0.24934\n",
      "Interaction R^2: 0.26852\n"
     ]
    }
   ],
   "source": [
    "r2_MLR_inter = r2_score(Y_test, MLR_result_inter.predict(sm.add_constant(X_test_inter)))\n",
    "\n",
    "print(\"Linear R^2: %.5f\\nInteraction R^2: %.5f\" % (r2_MLR, r2_MLR_inter))"
   ]
  },
  {
   "cell_type": "code",
   "execution_count": 30,
   "metadata": {},
   "outputs": [
    {
     "data": {
      "text/plain": [
       "const        8.156785e-11\n",
       "humidity     8.186394e-07\n",
       "windspeed    8.390803e-04\n",
       "month_7      2.377039e-02\n",
       "weather_1    2.721882e-08\n",
       "weather_2    4.041032e-12\n",
       "dtype: float64"
      ]
     },
     "execution_count": 30,
     "metadata": {},
     "output_type": "execute_result"
    }
   ],
   "source": [
    "MLR_result_inter.pvalues[MLR_result_inter.pvalues < 0.05]"
   ]
  },
  {
   "cell_type": "markdown",
   "metadata": {},
   "source": [
    "$R^2$ for the interaction fitting is slightly better than that of the plain linear regression model. According to the p values information, the significant coefficients are exactly the same as the plain linear regression model."
   ]
  },
  {
   "cell_type": "markdown",
   "metadata": {},
   "source": [
    "## Part (h): PCA to deal with high dimensionality\n",
    "\n",
    "We would like to fit a model to include all main effects, polynomial terms up to the $4^{th}$ order, and all interactions between all possible predictors and polynomial terms (not including the interactions between $X^1_j$, $X^2_j$, $X^3_j$, and $X^4_j$ as they would just create higher order polynomial terms).  \n",
    "\n",
    "- Create an expanded training set including all the desired terms mentioned above.  What are the dimensions of this 'design matrix' of all the predictor variables?   What are the issues with attempting to fit a regression model using all of these predictors?\n",
    "\n",
    "- Instead of using the usual approaches for model selection, let's instead use principal components analysis (PCA) to fit the model.  First, create the principal component vectors in python (consider: should you normalize first?).  Then fit 5 different regression models: (1) using just the first PCA vector, (2) using the first two PCA vectors, (3) using the first three PCA vectors, etc...  Briefly summarize how these models compare in the training set.\n",
    "\n",
    "- Use the test set to decide which of the 5 models above is best to predict out of sample.  How does this model compare to the previous models you've fit?  What are the interpretations of this model's coefficients?"
   ]
  },
  {
   "cell_type": "code",
   "execution_count": 31,
   "metadata": {
    "collapsed": true
   },
   "outputs": [],
   "source": [
    "X_train_PCA = X_train_poly.copy()\n",
    "X_test_PCA = X_test_poly.copy()"
   ]
  },
  {
   "cell_type": "code",
   "execution_count": 32,
   "metadata": {
    "collapsed": true
   },
   "outputs": [],
   "source": [
    "col_all = X_train_PCA.columns.tolist()\n",
    "col_pairs = []\n",
    "for i in range(len(col_all)-1):\n",
    "    for j in range(i+1, len(col_all)):\n",
    "        # Check the two columns are not correlated\n",
    "        #     Situation 1: Polynomial terms\n",
    "        #     Situation 2: Same category terms (will be all 0s in interactive term)\n",
    "        if col_all[i].split('_')[0] != col_all[j].split('_')[0]:\n",
    "            col_pairs.append((col_all[i], col_all[j]))"
   ]
  },
  {
   "cell_type": "code",
   "execution_count": 33,
   "metadata": {},
   "outputs": [
    {
     "data": {
      "text/plain": [
       "(331, 761)"
      ]
     },
     "execution_count": 33,
     "metadata": {},
     "output_type": "execute_result"
    }
   ],
   "source": [
    "X_train_PCA = expand_inter(X_train_PCA, col_pairs)\n",
    "X_test_PCA = expand_inter(X_test_PCA, col_pairs)\n",
    "\n",
    "X_train_PCA.shape"
   ]
  },
  {
   "cell_type": "code",
   "execution_count": 34,
   "metadata": {
    "collapsed": true
   },
   "outputs": [],
   "source": [
    "MLR_PCA_all_result = OLS(Y_train, sm.add_constant(X_train_PCA)).fit()"
   ]
  },
  {
   "cell_type": "code",
   "execution_count": 35,
   "metadata": {},
   "outputs": [
    {
     "name": "stderr",
     "output_type": "stream",
     "text": [
      "D:\\ProgramData\\Anaconda3\\envs\\py36\\lib\\site-packages\\statsmodels\\regression\\linear_model.py:1353: RuntimeWarning: divide by zero encountered in double_scalars\n",
      "  return np.dot(wresid, wresid) / self.df_resid\n",
      "D:\\ProgramData\\Anaconda3\\envs\\py36\\lib\\site-packages\\statsmodels\\base\\model.py:1118: RuntimeWarning: invalid value encountered in multiply\n",
      "  cov_p = self.normalized_cov_params * scale\n",
      "D:\\ProgramData\\Anaconda3\\envs\\py36\\lib\\site-packages\\scipy\\stats\\_distn_infrastructure.py:879: RuntimeWarning: invalid value encountered in greater\n",
      "  return (self.a < x) & (x < self.b)\n",
      "D:\\ProgramData\\Anaconda3\\envs\\py36\\lib\\site-packages\\scipy\\stats\\_distn_infrastructure.py:879: RuntimeWarning: invalid value encountered in less\n",
      "  return (self.a < x) & (x < self.b)\n",
      "D:\\ProgramData\\Anaconda3\\envs\\py36\\lib\\site-packages\\scipy\\stats\\_distn_infrastructure.py:1818: RuntimeWarning: invalid value encountered in less_equal\n",
      "  cond2 = cond0 & (x <= self.a)\n"
     ]
    },
    {
     "data": {
      "text/plain": [
       "Series([], dtype: float64)"
      ]
     },
     "execution_count": 35,
     "metadata": {},
     "output_type": "execute_result"
    }
   ],
   "source": [
    "MLR_PCA_all_result.pvalues[MLR_PCA_all_result.pvalues < 0.05]"
   ]
  },
  {
   "cell_type": "markdown",
   "metadata": {},
   "source": [
    "With all predictors' interaction/polynomial terms, there are 761 predictors in total, which are more than twice of the sample size. Trying to fit a regression model using all of these predictors will generate non-unique parameters (since there are more coefficients than samples, the solution is not unique)"
   ]
  },
  {
   "cell_type": "code",
   "execution_count": 36,
   "metadata": {
    "collapsed": true
   },
   "outputs": [],
   "source": [
    "# Normalized the continous data before applying PCA\n",
    "# The test set should be normalized by the training set's parameters\n",
    "for col in X_train_PCA.columns.tolist():\n",
    "    if X_train_PCA[col].dtype == np.float64:\n",
    "        mean_val =  X_train_PCA[col].mean()\n",
    "        std_val = X_train_PCA[col].std()\n",
    "        \n",
    "        X_train_PCA[col] = (X_train_PCA[col] - mean_val)/std_val\n",
    "        X_test_PCA[col] = (X_test_PCA[col] - mean_val)/std_val"
   ]
  },
  {
   "cell_type": "code",
   "execution_count": 37,
   "metadata": {},
   "outputs": [
    {
     "data": {
      "text/html": [
       "<div>\n",
       "<style>\n",
       "    .dataframe thead tr:only-child th {\n",
       "        text-align: right;\n",
       "    }\n",
       "\n",
       "    .dataframe thead th {\n",
       "        text-align: left;\n",
       "    }\n",
       "\n",
       "    .dataframe tbody tr th {\n",
       "        vertical-align: top;\n",
       "    }\n",
       "</style>\n",
       "<table border=\"1\" class=\"dataframe\">\n",
       "  <thead>\n",
       "    <tr style=\"text-align: right;\">\n",
       "      <th></th>\n",
       "      <th>holiday</th>\n",
       "      <th>workingday</th>\n",
       "      <th>temp</th>\n",
       "      <th>atemp</th>\n",
       "      <th>humidity</th>\n",
       "      <th>windspeed</th>\n",
       "      <th>season_1</th>\n",
       "      <th>season_2</th>\n",
       "      <th>season_3</th>\n",
       "      <th>month_1</th>\n",
       "      <th>...</th>\n",
       "      <th>atemp_4_X_windspeed_4</th>\n",
       "      <th>humidity_2_X_windspeed_2</th>\n",
       "      <th>humidity_2_X_windspeed_3</th>\n",
       "      <th>humidity_2_X_windspeed_4</th>\n",
       "      <th>humidity_3_X_windspeed_2</th>\n",
       "      <th>humidity_3_X_windspeed_3</th>\n",
       "      <th>humidity_3_X_windspeed_4</th>\n",
       "      <th>humidity_4_X_windspeed_2</th>\n",
       "      <th>humidity_4_X_windspeed_3</th>\n",
       "      <th>humidity_4_X_windspeed_4</th>\n",
       "    </tr>\n",
       "  </thead>\n",
       "  <tbody>\n",
       "    <tr>\n",
       "      <th>0</th>\n",
       "      <td>0</td>\n",
       "      <td>1</td>\n",
       "      <td>0.623798</td>\n",
       "      <td>0.650106</td>\n",
       "      <td>0.920664</td>\n",
       "      <td>-0.928758</td>\n",
       "      <td>0</td>\n",
       "      <td>1</td>\n",
       "      <td>0</td>\n",
       "      <td>0</td>\n",
       "      <td>...</td>\n",
       "      <td>-0.096003</td>\n",
       "      <td>-0.170229</td>\n",
       "      <td>-0.259034</td>\n",
       "      <td>-0.194377</td>\n",
       "      <td>0.142066</td>\n",
       "      <td>0.085403</td>\n",
       "      <td>0.101868</td>\n",
       "      <td>-0.248270</td>\n",
       "      <td>-0.185767</td>\n",
       "      <td>-0.192337</td>\n",
       "    </tr>\n",
       "    <tr>\n",
       "      <th>1</th>\n",
       "      <td>0</td>\n",
       "      <td>1</td>\n",
       "      <td>-0.180310</td>\n",
       "      <td>-0.054759</td>\n",
       "      <td>0.696852</td>\n",
       "      <td>-0.213502</td>\n",
       "      <td>0</td>\n",
       "      <td>0</td>\n",
       "      <td>0</td>\n",
       "      <td>0</td>\n",
       "      <td>...</td>\n",
       "      <td>-0.097008</td>\n",
       "      <td>-0.378486</td>\n",
       "      <td>-0.180067</td>\n",
       "      <td>-0.222777</td>\n",
       "      <td>0.041328</td>\n",
       "      <td>0.127194</td>\n",
       "      <td>0.086796</td>\n",
       "      <td>-0.299328</td>\n",
       "      <td>-0.164285</td>\n",
       "      <td>-0.200401</td>\n",
       "    </tr>\n",
       "    <tr>\n",
       "      <th>2</th>\n",
       "      <td>0</td>\n",
       "      <td>1</td>\n",
       "      <td>0.802489</td>\n",
       "      <td>0.851495</td>\n",
       "      <td>-0.448383</td>\n",
       "      <td>0.803926</td>\n",
       "      <td>0</td>\n",
       "      <td>1</td>\n",
       "      <td>0</td>\n",
       "      <td>0</td>\n",
       "      <td>...</td>\n",
       "      <td>-0.095348</td>\n",
       "      <td>-0.346822</td>\n",
       "      <td>-0.167281</td>\n",
       "      <td>-0.219035</td>\n",
       "      <td>0.030042</td>\n",
       "      <td>0.124268</td>\n",
       "      <td>0.085799</td>\n",
       "      <td>-0.298039</td>\n",
       "      <td>-0.163412</td>\n",
       "      <td>-0.200153</td>\n",
       "    </tr>\n",
       "    <tr>\n",
       "      <th>3</th>\n",
       "      <td>0</td>\n",
       "      <td>0</td>\n",
       "      <td>-1.520492</td>\n",
       "      <td>-1.565182</td>\n",
       "      <td>-0.332113</td>\n",
       "      <td>-0.269099</td>\n",
       "      <td>0</td>\n",
       "      <td>0</td>\n",
       "      <td>0</td>\n",
       "      <td>0</td>\n",
       "      <td>...</td>\n",
       "      <td>-0.096770</td>\n",
       "      <td>-0.382641</td>\n",
       "      <td>-0.179765</td>\n",
       "      <td>-0.222797</td>\n",
       "      <td>0.038559</td>\n",
       "      <td>0.127463</td>\n",
       "      <td>0.086772</td>\n",
       "      <td>-0.300155</td>\n",
       "      <td>-0.164208</td>\n",
       "      <td>-0.200407</td>\n",
       "    </tr>\n",
       "    <tr>\n",
       "      <th>4</th>\n",
       "      <td>0</td>\n",
       "      <td>1</td>\n",
       "      <td>0.534453</td>\n",
       "      <td>0.348021</td>\n",
       "      <td>1.975789</td>\n",
       "      <td>-1.199027</td>\n",
       "      <td>0</td>\n",
       "      <td>0</td>\n",
       "      <td>1</td>\n",
       "      <td>0</td>\n",
       "      <td>...</td>\n",
       "      <td>-0.096779</td>\n",
       "      <td>1.263490</td>\n",
       "      <td>-0.967531</td>\n",
       "      <td>0.141097</td>\n",
       "      <td>1.737344</td>\n",
       "      <td>-0.766039</td>\n",
       "      <td>0.501086</td>\n",
       "      <td>1.536606</td>\n",
       "      <td>-1.148528</td>\n",
       "      <td>0.275149</td>\n",
       "    </tr>\n",
       "  </tbody>\n",
       "</table>\n",
       "<p>5 rows × 761 columns</p>\n",
       "</div>"
      ],
      "text/plain": [
       "   holiday  workingday      temp     atemp  humidity  windspeed  season_1  \\\n",
       "0        0           1  0.623798  0.650106  0.920664  -0.928758         0   \n",
       "1        0           1 -0.180310 -0.054759  0.696852  -0.213502         0   \n",
       "2        0           1  0.802489  0.851495 -0.448383   0.803926         0   \n",
       "3        0           0 -1.520492 -1.565182 -0.332113  -0.269099         0   \n",
       "4        0           1  0.534453  0.348021  1.975789  -1.199027         0   \n",
       "\n",
       "   season_2  season_3  month_1            ...             \\\n",
       "0         1         0        0            ...              \n",
       "1         0         0        0            ...              \n",
       "2         1         0        0            ...              \n",
       "3         0         0        0            ...              \n",
       "4         0         1        0            ...              \n",
       "\n",
       "   atemp_4_X_windspeed_4  humidity_2_X_windspeed_2  humidity_2_X_windspeed_3  \\\n",
       "0              -0.096003                 -0.170229                 -0.259034   \n",
       "1              -0.097008                 -0.378486                 -0.180067   \n",
       "2              -0.095348                 -0.346822                 -0.167281   \n",
       "3              -0.096770                 -0.382641                 -0.179765   \n",
       "4              -0.096779                  1.263490                 -0.967531   \n",
       "\n",
       "   humidity_2_X_windspeed_4  humidity_3_X_windspeed_2  \\\n",
       "0                 -0.194377                  0.142066   \n",
       "1                 -0.222777                  0.041328   \n",
       "2                 -0.219035                  0.030042   \n",
       "3                 -0.222797                  0.038559   \n",
       "4                  0.141097                  1.737344   \n",
       "\n",
       "   humidity_3_X_windspeed_3  humidity_3_X_windspeed_4  \\\n",
       "0                  0.085403                  0.101868   \n",
       "1                  0.127194                  0.086796   \n",
       "2                  0.124268                  0.085799   \n",
       "3                  0.127463                  0.086772   \n",
       "4                 -0.766039                  0.501086   \n",
       "\n",
       "   humidity_4_X_windspeed_2  humidity_4_X_windspeed_3  \\\n",
       "0                 -0.248270                 -0.185767   \n",
       "1                 -0.299328                 -0.164285   \n",
       "2                 -0.298039                 -0.163412   \n",
       "3                 -0.300155                 -0.164208   \n",
       "4                  1.536606                 -1.148528   \n",
       "\n",
       "   humidity_4_X_windspeed_4  \n",
       "0                 -0.192337  \n",
       "1                 -0.200401  \n",
       "2                 -0.200153  \n",
       "3                 -0.200407  \n",
       "4                  0.275149  \n",
       "\n",
       "[5 rows x 761 columns]"
      ]
     },
     "execution_count": 37,
     "metadata": {},
     "output_type": "execute_result"
    }
   ],
   "source": [
    "X_train_PCA.head()"
   ]
  },
  {
   "cell_type": "code",
   "execution_count": 38,
   "metadata": {
    "collapsed": true
   },
   "outputs": [],
   "source": [
    "from sklearn.decomposition import PCA"
   ]
  },
  {
   "cell_type": "code",
   "execution_count": 39,
   "metadata": {
    "collapsed": true
   },
   "outputs": [],
   "source": [
    "R2_train_PCA = []\n",
    "R2_test_PCA = []\n",
    "max_PCA_comp = 51\n",
    "for n in range(1, max_PCA_comp):\n",
    "    \n",
    "    pca = PCA(n_components=n)\n",
    "    Z_train_PCA = pca.fit_transform(X_train_PCA)\n",
    "    MLR_result_PCA = OLS(Y_train, sm.add_constant(Z_train_PCA)).fit()\n",
    "\n",
    "    Z_test_PCA = pca.transform(X_test_PCA)\n",
    "\n",
    "    R2_train_PCA.append(r2_score(Y_train, MLR_result_PCA.predict(sm.add_constant(Z_train_PCA))))\n",
    "    R2_test_PCA.append(r2_score(Y_test, MLR_result_PCA.predict(sm.add_constant(Z_test_PCA))))"
   ]
  },
  {
   "cell_type": "code",
   "execution_count": 40,
   "metadata": {},
   "outputs": [
    {
     "data": {
      "text/plain": [
       "(0.23463200887601854, 6)"
      ]
     },
     "execution_count": 40,
     "metadata": {},
     "output_type": "execute_result"
    }
   ],
   "source": [
    "np.max(R2_test_PCA), np.argmax(R2_test_PCA)"
   ]
  },
  {
   "cell_type": "code",
   "execution_count": 41,
   "metadata": {},
   "outputs": [
    {
     "data": {
      "image/png": "[encoded data removed]",
      "text/plain": [
       "<matplotlib.figure.Figure at 0x1f2e5d37358>"
      ]
     },
     "metadata": {},
     "output_type": "display_data"
    }
   ],
   "source": [
    "sns.set_context('poster')\n",
    "plt.plot(np.array(range(1, max_PCA_comp)), np.array(R2_train_PCA), label='PCA training')\n",
    "plt.plot(np.array(range(1, max_PCA_comp)), np.array(R2_test_PCA), label='PCA testing')\n",
    "plt.hlines(y=r2_MLR, xmin=0, xmax=max_PCA_comp-1, color='r', linestyles='dashed', label='Linear Testing')\n",
    "plt.hlines(y=r2_MLR_inter, xmin=0, xmax=max_PCA_comp-1, color='c', linestyles='dashed', label='Interactive Testing')\n",
    "plt.hlines(y=r2_MLR_poly, xmin=0, xmax=max_PCA_comp-1, color='m', linestyles='dashed', label='Polynomial Testing')\n",
    "plt.legend(loc='best')\n",
    "plt.xlabel('PCA components')\n",
    "plt.ylabel('$R^2$')\n",
    "plt.title('$R^2$ score vs PCA components')\n",
    "plt.show()"
   ]
  },
  {
   "cell_type": "markdown",
   "metadata": {},
   "source": [
    "The plot above shows the $R^2$ score for the PCA with number of components from 1 to 50. As expected, the $R^2$ score in the training set increases as the component number increase. However, surprisingly, the $R^2$ score of the PCA testing set never reach the level of the Interactive or polynomial testing for n < 50, and reachs its maximum value of 0.235 at n = 6"
   ]
  },
  {
   "cell_type": "markdown",
   "metadata": {},
   "source": [
    "## Part (i): Beyond Squared Error\n",
    "\n",
    "We have seen in class that the multiple linear regression method optimizes the Mean Squared Error (MSE) on the training set. Consider the following alternate evaluation metric, referred to as the Root Mean Squared Logarthmic Error (RMSLE):\n",
    "\n",
    "$$\n",
    "\\sqrt{\\frac{1}{n}\\sum_{i=1}^n (log(y_i+1) - log(\\hat{y}_i+1))^2}.\n",
    "$$\n",
    "\n",
    "The *lower* the RMSLE the *better* is the performance of a model. The RMSLE penalizes errors on smaller responses more heavily than errors on larger responses. For example, the RMSLE penalizes a prediction of $\\hat{y} = 15$ for a true response of $y=10$ more heavily than a prediction of $\\hat{y} = 105$ for a true response of $100$, though the difference in predicted and true responses are the same in both cases. \n",
    "\n",
    "This is a natural evaluation metric for bike share demand prediction, as in this application, it is more important that the prediction model is accurate on days where the demand is low (so that the few customers who arrive are served satisfactorily), compared to days on which the demand is high (when it is less damaging to lose out on some customers).\n",
    "\n",
    "The following code computes the RMSLE for you:"
   ]
  },
  {
   "cell_type": "code",
   "execution_count": 42,
   "metadata": {
    "collapsed": true
   },
   "outputs": [],
   "source": [
    "#--------  rmsle\n",
    "# A function for evaluating Root Mean Squared Logarithmic Error (RMSLE)\n",
    "# of the linear regression model on a data set\n",
    "# Input: \n",
    "#      y_test (n x 1 array of response variable vals in testing data)\n",
    "#      y_pred (n x 1 array of response variable vals in testing data)\n",
    "# Return: \n",
    "#      RMSLE (float) \n",
    "\n",
    "def rmsle(y, y_pred):     \n",
    "    # Evaluate sqaured error, against target labels\n",
    "    # rmsle = \\sqrt(1/n \\sum_i (log (y[i]+1) - log (y_pred[i]+1))^2)\n",
    "    rmsle_ = np.sqrt(np.mean(np.square(np.log(y+1) - np.log(y_pred+1))))\n",
    "    \n",
    "    return rmsle_"
   ]
  },
  {
   "cell_type": "markdown",
   "metadata": {},
   "source": [
    "Use the above code to compute the training and test RMSLE for the polynomial regression model you fit in Part (g). \n",
    "\n",
    "You are required to develop a strategy to fit a regression model by optimizing the RMSLE on the training set. Give a justification for your proposed approach. Does the model fitted using your approach yield lower train RMSLE than the model in Part (g)? How about the test RMSLE of the new model? \n",
    "\n",
    "**Note:** We do not require you to implement a new regression solver for RMSLE. Instead, we ask you to think about ways to use existing built-in functions to fit a model that performs well on RMSLE. Your regression model may use the same polynomial terms used in Part (g)."
   ]
  },
  {
   "cell_type": "code",
   "execution_count": 43,
   "metadata": {},
   "outputs": [
    {
     "name": "stdout",
     "output_type": "stream",
     "text": [
      "RMSLE Training: 0.31064\n",
      "RMSLE Testing: 0.52427\n"
     ]
    },
    {
     "name": "stderr",
     "output_type": "stream",
     "text": [
      "D:\\ProgramData\\Anaconda3\\envs\\py36\\lib\\site-packages\\ipykernel_launcher.py:13: RuntimeWarning: invalid value encountered in log\n",
      "  del sys.path[0]\n"
     ]
    }
   ],
   "source": [
    "rmsle_train_poly = rmsle(Y_train, MLR_result_poly.predict(sm.add_constant(X_train_poly)))\n",
    "rmsle_test_poly = rmsle(Y_test, MLR_result_poly.predict(sm.add_constant(X_test_poly)))\n",
    "\n",
    "print(\"RMSLE Training: %.5f\\nRMSLE Testing: %.5f\" % (rmsle_train_poly, rmsle_test_poly))"
   ]
  },
  {
   "cell_type": "markdown",
   "metadata": {},
   "source": [
    "To impletment the RMSLE cost function with existing built-in function, we can use the ordinary linear regression model with a new response:\n",
    "\n",
    "$Y_{new} = ln(Y + 1)$\n",
    "\n",
    "Then the linear regression cost function on $Y_{new}$ automatically become the RMSLE on $Y$"
   ]
  },
  {
   "cell_type": "code",
   "execution_count": 44,
   "metadata": {},
   "outputs": [
    {
     "name": "stdout",
     "output_type": "stream",
     "text": [
      "RMSLE Training: 0.29117\n",
      "RMSLE Testing: 0.52355\n"
     ]
    }
   ],
   "source": [
    "# Use OLS to fit log(y+1) with X\n",
    "Y_train_log = np.log(Y_train + 1)\n",
    "Y_test_log = np.log(Y_test + 1)\n",
    "\n",
    "MLR_result_log = OLS(Y_train_log, sm.add_constant(X_train_poly)).fit()\n",
    "\n",
    "Y_train_log_pred = np.exp(MLR_result_log.predict(sm.add_constant(X_train_poly))) - 1\n",
    "Y_test_log_pred = np.exp(MLR_result_log.predict(sm.add_constant(X_test_poly))) - 1\n",
    "\n",
    "rmsle_train_poly = rmsle(Y_train, Y_train_log_pred)\n",
    "rmsle_test_poly = rmsle(Y_test, Y_test_log_pred)\n",
    "\n",
    "print(\"RMSLE Training: %.5f\\nRMSLE Testing: %.5f\" % (rmsle_train_poly, rmsle_test_poly))"
   ]
  },
  {
   "cell_type": "code",
   "execution_count": 45,
   "metadata": {},
   "outputs": [
    {
     "data": {
      "text/plain": [
       "const         1.025111e-180\n",
       "workingday     1.266310e-03\n",
       "humidity       2.374314e-05\n",
       "windspeed      1.067498e-03\n",
       "season_1       3.455829e-05\n",
       "month_8        3.387338e-02\n",
       "weather_1     8.926599e-136\n",
       "weather_2     1.869153e-145\n",
       "weather_3      1.548309e-43\n",
       "dtype: float64"
      ]
     },
     "execution_count": 45,
     "metadata": {},
     "output_type": "execute_result"
    }
   ],
   "source": [
    "MLR_result_log.pvalues[MLR_result_log.pvalues < 0.05]"
   ]
  },
  {
   "cell_type": "markdown",
   "metadata": {},
   "source": [
    "Comparing the RMSLE score on the ordinary linear regression and the \"logarithmic\" regression, the latter has a lower RMSLE score (0.02 difference) on the training set, while testing set is very similar (0.0007 difference)."
   ]
  },
  {
   "cell_type": "markdown",
   "metadata": {},
   "source": [
    "## Part (j): Dealing with Erroneous Labels\n",
    "\n",
    "Due to occasional system crashes, some of the bike counts reported in the data set have been recorded manually. These counts are not very unreliable and are prone to errors. It is known that roughly 5% of the labels in the training set are erroneous (i.e. can be arbitrarily different from the true counts), while all the labels in the test set were confirmed to be accurate. Unfortunately, the identities of the erroneous records in the training set are not available. Can this information about presence of 5% errors in the training set labels (without details about the specific identities of the erroneous rows) be used to improve the performance of the model in Part (g)? Note that we are interested in improving the $R^2$ performance of the model on the test set (not the training $R^2$ score). \n",
    "\n",
    "As a final task, we require you to come up with a strategy to fit a regression model, taking into account the errors in the training set labels. Explain the intuition behind your approach (we do not expect a detailed mathematical justification). Use your approach to fit a regression model on the training set, and compare its test $R^2$ with the model in Part (g).\n",
    "\n",
    "**Note:** Again, we do not require you to implement a new regression solver for handling erroneous labels. It is sufficient that you to come up with an approach that uses existing built-in functions. Your regression model may use the same polynomial terms used in Part (g)."
   ]
  },
  {
   "cell_type": "markdown",
   "metadata": {},
   "source": [
    "Thoughts:\n",
    "\n",
    "In linear regression modeling, we assume the error from the predictive value and the true value has normal distribution with 0 mean and a non-zero STD. If we assume this model is correct here, then the further a error is from 0, the less likely this data point belongs to the dataset (and thus more likely to be the erroneous term/outlier). However, not all erroneuous terms are outliers. Hence, we can first find the 5% outliers datapoints. Take the outliers out one by one and fit a regression model using cross-validation in every step and store their scores. The model (with removal of certain outliers) with the best scores should be the one best decribe the data."
   ]
  },
  {
   "cell_type": "code",
   "execution_count": 46,
   "metadata": {
    "collapsed": true
   },
   "outputs": [],
   "source": [
    "from sklearn.model_selection import KFold"
   ]
  },
  {
   "cell_type": "code",
   "execution_count": 47,
   "metadata": {
    "collapsed": true
   },
   "outputs": [],
   "source": [
    "Y_diff = Y_train - MLR_result_poly.predict(sm.add_constant(X_train_poly))"
   ]
  },
  {
   "cell_type": "code",
   "execution_count": 48,
   "metadata": {},
   "outputs": [
    {
     "data": {
      "text/plain": [
       "1.7000000000000006"
      ]
     },
     "execution_count": 48,
     "metadata": {},
     "output_type": "execute_result"
    }
   ],
   "source": [
    "count_min = len(X_train_poly)\n",
    "s_min = 0\n",
    "for s in np.arange(1, 3, 0.1):\n",
    "    count = np.abs(np.sum(np.abs(Y_diff) > s*Y_diff.std()) - len(X_train_poly) * 0.05)\n",
    "    if count < count_min:\n",
    "        s_min = s\n",
    "        count_min = count\n",
    "s_min"
   ]
  },
  {
   "cell_type": "code",
   "execution_count": 49,
   "metadata": {
    "collapsed": true
   },
   "outputs": [],
   "source": [
    "ind_outlier = list(X_train_poly[np.abs(Y_diff) > s_min*Y_diff.std()].index)"
   ]
  },
  {
   "cell_type": "code",
   "execution_count": 50,
   "metadata": {
    "collapsed": true
   },
   "outputs": [],
   "source": [
    "error_indexes = [([], 0)]\n",
    "# Use forward selection\n",
    "for k in range(1, len(ind_outlier)+1):\n",
    "    best_k_minus_1 = error_indexes[-1][0]\n",
    "    new_index = list(set(ind_outlier) - set(best_k_minus_1))\n",
    "    score = []\n",
    "    \n",
    "    r2_k = []\n",
    "    for ind in new_index:\n",
    "        k_ind = best_k_minus_1 + [ind]\n",
    "        \n",
    "        k_X_train = X_train_poly.drop(k_ind)\n",
    "        \n",
    "        r2_valid = []\n",
    "        # Cross-Validation\n",
    "        for train_ind, valid_ind in KFold(10, shuffle=True).split(k_X_train):\n",
    "            \n",
    "            k_X_train_cv = sm.add_constant(k_X_train.iloc[train_ind, :])\n",
    "            k_X_valid_cv = sm.add_constant(k_X_train.iloc[valid_ind, :])\n",
    "            \n",
    "            Y_train_cv = Y_train.drop(k_ind).iloc[train_ind]\n",
    "            k_MLR_result = OLS(Y_train_cv, k_X_train_cv).fit()\n",
    "            Y_valid_pred = k_MLR_result.predict(k_X_valid_cv)\n",
    "            \n",
    "            Y_valid_cv = Y_train.drop(k_ind).iloc[valid_ind]\n",
    "            r2_valid.append(r2_score(Y_valid_cv, Y_valid_pred))\n",
    "            \n",
    "        r2_k.append(np.mean(np.array(r2_valid)))\n",
    "    \n",
    "    best_k = best_k_minus_1 + [new_index[np.argmax(r2_k)]]\n",
    "    error_indexes.append((best_k, np.max(r2_k)))"
   ]
  },
  {
   "cell_type": "code",
   "execution_count": 51,
   "metadata": {},
   "outputs": [
    {
     "data": {
      "text/plain": [
       "[([], 0),\n",
       " ([204], 0.51957419687774453),\n",
       " ([204, 251], 0.5468436322616379),\n",
       " ([204, 251, 284], 0.53742333878433723),\n",
       " ([204, 251, 284, 224], 0.53304902624649908),\n",
       " ([204, 251, 284, 224, 267], 0.54649554797090594),\n",
       " ([204, 251, 284, 224, 267, 145], 0.54511410773908642),\n",
       " ([204, 251, 284, 224, 267, 145, 154], 0.55468937253352912),\n",
       " ([204, 251, 284, 224, 267, 145, 154, 60], 0.57481381013297528),\n",
       " ([204, 251, 284, 224, 267, 145, 154, 60, 287], 0.54534430569381753),\n",
       " ([204, 251, 284, 224, 267, 145, 154, 60, 287, 305], 0.56730719402511509),\n",
       " ([204, 251, 284, 224, 267, 145, 154, 60, 287, 305, 62], 0.58074357516164998),\n",
       " ([204, 251, 284, 224, 267, 145, 154, 60, 287, 305, 62, 83],\n",
       "  0.56161286897462037),\n",
       " ([204, 251, 284, 224, 267, 145, 154, 60, 287, 305, 62, 83, 249],\n",
       "  0.56469308814668107),\n",
       " ([204, 251, 284, 224, 267, 145, 154, 60, 287, 305, 62, 83, 249, 172],\n",
       "  0.57654799250849265),\n",
       " ([204, 251, 284, 224, 267, 145, 154, 60, 287, 305, 62, 83, 249, 172, 29],\n",
       "  0.57195604691503166),\n",
       " ([204, 251, 284, 224, 267, 145, 154, 60, 287, 305, 62, 83, 249, 172, 29, 135],\n",
       "  0.57113150879227481)]"
      ]
     },
     "execution_count": 51,
     "metadata": {},
     "output_type": "execute_result"
    }
   ],
   "source": [
    "error_indexes"
   ]
  },
  {
   "cell_type": "code",
   "execution_count": 52,
   "metadata": {},
   "outputs": [
    {
     "data": {
      "text/plain": [
       "([204, 251, 284, 224, 267, 145, 154, 60, 287, 305, 62], 0.58074357516164998)"
      ]
     },
     "execution_count": 52,
     "metadata": {},
     "output_type": "execute_result"
    }
   ],
   "source": [
    "best_indexes_forward = sorted(error_indexes, key=lambda i: i[1])[-1]\n",
    "best_indexes_forward"
   ]
  },
  {
   "cell_type": "code",
   "execution_count": 53,
   "metadata": {},
   "outputs": [
    {
     "name": "stdout",
     "output_type": "stream",
     "text": [
      "Training R^2: 0.71288\n",
      "Testing R^2: 0.27245\n"
     ]
    }
   ],
   "source": [
    "X_train_filter = X_train_poly.drop(best_indexes_forward[0])\n",
    "Y_train_filter = Y_train.drop(best_indexes_forward[0])\n",
    "\n",
    "MLR_result_filter = OLS(Y_train_filter, sm.add_constant(X_train_filter)).fit()\n",
    "\n",
    "r2_train_filter = r2_score(Y_train_filter, MLR_result_filter.predict(sm.add_constant(X_train_filter)))\n",
    "r2_test_filter = r2_score(Y_test, MLR_result_filter.predict(sm.add_constant(X_test_poly)))\n",
    "\n",
    "print(\"Training R^2: %.5f\\nTesting R^2: %.5f\" % (r2_train_filter, r2_test_filter))"
   ]
  },
  {
   "cell_type": "code",
   "execution_count": 54,
   "metadata": {},
   "outputs": [
    {
     "name": "stdout",
     "output_type": "stream",
     "text": [
      "R^2 score before removal of errneous terms: 0.27724\n",
      "R^2 score after removal of errneous terms: 0.27245\n"
     ]
    }
   ],
   "source": [
    "print('R^2 score before removal of errneous terms: %.5f\\nR^2 score after removal of errneous terms: %.5f' % \n",
    "     (r2_MLR_poly, r2_test_filter))"
   ]
  },
  {
   "cell_type": "markdown",
   "metadata": {},
   "source": [
    "# APCOMP209a - Homework Question"
   ]
  },
  {
   "cell_type": "markdown",
   "metadata": {},
   "source": [
    "\n",
    "\n",
    "##  Question 1: Student's t MLE\n",
    "\n",
    "Use Maximum Likelihood Estimation to generate a linear regression model on the data provided in ``beerdata.csv`` considering two statistical models for noise: a) iid Normal and b) iid Student's t-distribution with $\\nu=5$ and scale factor σ=0.5.  \n",
    "\n",
    "Compare the two models performances and comment why it is perhaps appropriate to use the Student's t-distribution instead of the Normal? \n",
    "\n",
    "\n",
    "\n",
    "\n",
    "\n",
    "HINTS:\n",
    "1. Use the probability density function for the Student's t distribution  with location μ and scale factor σ.\n",
    "2. If the MLE regressions coefficients can not be derived analytically consider numerical methods.\n",
    "3. You can use sklearn or statsmodel for the Normal case \n",
    "\n",
    "\n"
   ]
  },
  {
   "cell_type": "code",
   "execution_count": 55,
   "metadata": {
    "collapsed": true
   },
   "outputs": [],
   "source": [
    "beerdata = pd.read_csv('data/beerdata.csv', index_col=0)\n",
    "x = beerdata['x'].values.reshape(-1, 1)\n",
    "y = beerdata['y'].values.reshape(-1, 1)"
   ]
  },
  {
   "cell_type": "markdown",
   "metadata": {},
   "source": [
    "#### Normal Model ####"
   ]
  },
  {
   "cell_type": "code",
   "execution_count": 56,
   "metadata": {
    "collapsed": true
   },
   "outputs": [],
   "source": [
    "from sklearn.linear_model import LinearRegression"
   ]
  },
  {
   "cell_type": "code",
   "execution_count": 57,
   "metadata": {},
   "outputs": [
    {
     "data": {
      "text/plain": [
       "LinearRegression(copy_X=True, fit_intercept=True, n_jobs=1, normalize=False)"
      ]
     },
     "execution_count": 57,
     "metadata": {},
     "output_type": "execute_result"
    }
   ],
   "source": [
    "normal_model = LinearRegression()\n",
    "normal_model.fit(x, y)"
   ]
  },
  {
   "cell_type": "markdown",
   "metadata": {},
   "source": [
    "#### t-distribution model ####"
   ]
  },
  {
   "cell_type": "code",
   "execution_count": 58,
   "metadata": {},
   "outputs": [],
   "source": [
    "import pymc3 as pm\n",
    "\n",
    "with pm.Model() as model:\n",
    "    \n",
    "    # Priors for unknown model parameters\n",
    "    intercept = pm.Normal('intercept', mu=0, sd=10)\n",
    "    slope = pm.Normal('slope', mu=0, sd=10)\n",
    "    \n",
    "    # Likelihood (sampling distribution) of observations\n",
    "    y_pred = pm.StudentT('y_pred', nu=5, mu=intercept+slope*x, sd=0.5, observed=y)\n",
    "    "
   ]
  },
  {
   "cell_type": "code",
   "execution_count": 59,
   "metadata": {},
   "outputs": [
    {
     "name": "stderr",
     "output_type": "stream",
     "text": [
      "Auto-assigning NUTS sampler...\n",
      "Initializing NUTS using advi...\n",
      "Average ELBO = -35.433: 100%|██████████| 200000/200000 [00:07<00:00, 27156.28it/s]\n",
      "Finished [100%]: Average ELBO = -35.424\n",
      "100%|██████████| 1000/1000 [00:01<00:00, 825.21it/s]\n"
     ]
    },
    {
     "data": {
      "image/png": "[encoded data removed]",
      "text/plain": [
       "<matplotlib.figure.Figure at 0x1f2ef227470>"
      ]
     },
     "metadata": {},
     "output_type": "display_data"
    }
   ],
   "source": [
    "with model:\n",
    "    trace_studentt = pm.sample(1000)\n",
    "\n",
    "_ = pm.traceplot(trace_studentt[-1000:], figsize=(15,len(trace_studentt.varnames)*2),\n",
    "                lines={k: v['mean'] for k, v in pm.df_summary(trace_studentt[-1000:]).iterrows()})"
   ]
  },
  {
   "cell_type": "code",
   "execution_count": 60,
   "metadata": {
    "collapsed": true
   },
   "outputs": [],
   "source": [
    "intercept = trace_studentt[\"intercept\"].mean()\n",
    "slope = trace_studentt[\"slope\"].mean()\n",
    "y_pred_t = x*slope+intercept"
   ]
  },
  {
   "cell_type": "code",
   "execution_count": 61,
   "metadata": {},
   "outputs": [
    {
     "data": {
      "image/png": "[encoded data removed]",
      "text/plain": [
       "<matplotlib.figure.Figure at 0x1f2ef5e45f8>"
      ]
     },
     "metadata": {},
     "output_type": "display_data"
    }
   ],
   "source": [
    "sns.set_context('talk')\n",
    "plt.scatter(x, y, c='r', label='raw data')\n",
    "plt.plot(x, normal_model.predict(x), c='b', label='Normal Model')\n",
    "plt.plot(x, y_pred_t, c='g', label='t Model')\n",
    "plt.text(x=0.2, y=9, fontsize=15, \n",
    "         s='$y_{normal} = %.1fx + %.1f$' % (normal_model.coef_[0], normal_model.intercept_[0]))\n",
    "plt.text(x=0.65, y=7, fontsize=15, \n",
    "         s='$y_{t} = %.1fx + %.1f$' % (slope, intercept))\n",
    "plt.legend(loc='best')\n",
    "plt.show()"
   ]
  },
  {
   "cell_type": "code",
   "execution_count": 62,
   "metadata": {},
   "outputs": [
    {
     "name": "stdout",
     "output_type": "stream",
     "text": [
      "Normal Model R^2: 0.90792\n",
      "t model R^2: 0.90539\n"
     ]
    }
   ],
   "source": [
    "r2_normal = r2_score(y, normal_model.predict(x))\n",
    "r2_t = r2_score(y, y_pred_t)\n",
    "print(\"Normal Model R^2: %.5f\\nt model R^2: %.5f\" % (r2_normal, r2_t))"
   ]
  },
  {
   "cell_type": "markdown",
   "metadata": {},
   "source": [
    "t-distribution is more appropriate when the sample size is small and the true population STD is unknown. The sample STD is weighted less in fitting the linear regression model, thus the outliers in the sample are less significant."
   ]
  },
  {
   "cell_type": "markdown",
   "metadata": {},
   "source": [
    "## Question 2 (continued from HW2) \n",
    "\n",
    "Read sections 1 and 2 of this [paper](https://www.researchgate.net/profile/Roberto_Togneri/publication/45094554_Linear_Regression_for_Face_Recognition/links/09e4150d243bd8b987000000/Linear-Regression-for-Face-Recognition.pdf). \n",
    "\n",
    "Briefly, the model leverages the concept that \"patterns from a single-object class lie on a linear subspace.\"   It also makes use of the idea of linear regression as a problem about projections.  In this case, given a vector $y$, the goal is to find the subspace induced by $\\mathrm{Col} \\, \\mathbf X$ that produced the 'closest' projection vector $\\widehat y$ to the original $y$.  \n",
    "\n",
    "### Question 2a\n",
    "\n",
    "As discussed in the paper, our face dataset contains cleaned images of faces belonging to different people. Assuming that patterns (faces) from one class (person) are elements of the same subspace, let's try to classify an unknown face using the method presented in the paper.  For each class $i$, we need to:\n",
    "\n",
    "1. construct the $\\mathbf H_i$ hat matrix from known faces, being careful to follow the column concatenation step described in the paper to convert an image into its vector representation;\n",
    "2. calculate the predicted $\\widehat y_i$, the closest vector in $\\mathrm{Col} \\, \\mathbf X_i$ to $y$; and\n",
    "3. calculate the magnitude of the difference vector between $y$ and $\\widehat y_i$.\n",
    "\n",
    "You should then be able to make a classification decision.\n",
    "\n",
    "**Notes:**\n",
    "- Use the provided code to download and re-sample the dataset.\n",
    "- Follow the normalisation step in the paper to ensure the \"maximum pixel value is 1\".\n",
    "- Your classifier should have approximately an 80% accuracy.\n",
    "- Use the image plotting library of matplotlib to display one (or two) correctly classified faces and the known faces.\n",
    "- Use the image plotting library of matplotlib to display one (or two) incorrectly classified faces and the known faces.\n",
    "    \n",
    "### Question 2b - Significant Faces\n",
    "Select an example of a correctly classified face. Use statsmodels to investigate the most predictive columns (faces) that the model used in this regression:\n",
    "\n",
    "(i) Which columns (i.e. faces) make the highest contribution to the projection?\n",
    "\n",
    "(ii) Which columns (i.e. faces) are the least useful in making this projection?\n",
    "\n",
    "Plot the correctly assigned face, and the two faces from the questions (i) and (ii). What do you notice about these faces?"
   ]
  },
  {
   "cell_type": "code",
   "execution_count": 63,
   "metadata": {},
   "outputs": [
    {
     "name": "stderr",
     "output_type": "stream",
     "text": [
      "D:\\ProgramData\\Anaconda3\\envs\\py36\\lib\\site-packages\\sklearn\\cross_validation.py:44: DeprecationWarning: This module was deprecated in version 0.18 in favor of the model_selection module into which all the refactored classes and functions are moved. Also note that the interface of the new CV iterators are different from that of this module. This module will be removed in 0.20.\n",
      "  \"This module will be removed in 0.20.\", DeprecationWarning)\n"
     ]
    }
   ],
   "source": [
    "from io import BytesIO\n",
    "from zipfile import ZipFile\n",
    "import urllib\n",
    "import os\n",
    "\n",
    "# Note that you may need to run the following command to install Python Image Library (PIL)\n",
    "#pip install Pillow\n",
    "from PIL import Image\n",
    "import numpy as np\n",
    "from sklearn.cross_validation import train_test_split\n",
    "\n",
    "import matplotlib\n",
    "import matplotlib.pyplot as plt\n",
    "\n",
    "%matplotlib inline"
   ]
  },
  {
   "cell_type": "code",
   "execution_count": 64,
   "metadata": {
    "collapsed": true
   },
   "outputs": [],
   "source": [
    "# starter functions provided to students\n",
    "def rgb2gray(rgb):\n",
    "    '''\n",
    "    function to convert RGB image to gray scale\n",
    "    accepts 3D numpy array and returns 2D array with same dimensions\n",
    "    as the first two dimensions of input\n",
    "    '''\n",
    "    \n",
    "    return np.dot(rgb[...,:3], [0.299, 0.587, 0.114])\n",
    "\n",
    "def fetch_and_read_data(shape=(50,30)):\n",
    "    \n",
    "    '''\n",
    "    Function to download image data, store in a local folder (note this is 18.4mb), only download the data when\n",
    "    the local folder is not present, read in the images, downsample them to the specified shape (default = (50x30) (rows x cols))\n",
    "    and finally split them into a four tuple return object.\n",
    "    \n",
    "    Returns:\n",
    "        - 1) training image data (i.e. images that should form the predictor matrix in your solution)\n",
    "        - 2) training image data labels (i.e. labels from 1 to 50 that identify which face (1) belongs to)\n",
    "        - 3) testing image data (i.e. data that you should use to try and classify - note this forms the predictor variable in your regression)\n",
    "        - 4) testing image data labels (i.e. the labels for (3) - this is to allow you to evaluate your model)\n",
    "    \n",
    "    ___________________\n",
    "    Aside:\n",
    "    If you want to change the sampling dimensions of your data, pass the shape = (x,y) argument to the method where\n",
    "    y is the number of columns and x is the number of rows in the image.\n",
    "    '''\n",
    "    \n",
    "    if not os.path.exists('./cropped_faces'):\n",
    "        url = urllib.request.urlopen(\"http://www.anefian.com/research/GTdb_crop.zip\")\n",
    "        \n",
    "        zipfile = ZipFile(BytesIO(url.read()))\n",
    "        zipfile.extractall()\n",
    "     \n",
    "    data = []\n",
    "    labels = []\n",
    "    \n",
    "    files = os.listdir('cropped_faces')\n",
    "    for f in files:\n",
    "        if '.jpg' in f:\n",
    "            image = Image.open('cropped_faces/' + f)\n",
    "            image = image.resize((shape[1], shape[0]))\n",
    "            data.append(rgb2gray(np.asarray(image)))\n",
    "            labels.append(int(f.split('_')[0][1:]) - 1)\n",
    "            \n",
    "    data = np.array(data)\n",
    "    \n",
    "    trainX, testX, trainY, testY = train_test_split(data, labels, test_size=0.2, stratify=labels)\n",
    "    return np.array(trainX), np.array(testX), np.array(trainY), np.array(testY)"
   ]
  },
  {
   "cell_type": "code",
   "execution_count": 65,
   "metadata": {},
   "outputs": [
    {
     "data": {
      "image/png": "[encoded data removed]",
      "text/plain": [
       "<matplotlib.figure.Figure at 0x1f2f0294128>"
      ]
     },
     "metadata": {},
     "output_type": "display_data"
    }
   ],
   "source": [
    "# starter code for the students\n",
    "train_dataset, test_dataset, train_labels, test_labels = fetch_and_read_data()\n",
    "\n",
    "# code to plot some of the images\n",
    "fig, axes = plt.subplots(2,4,figsize=(10,5))\n",
    "axes = axes.flatten()\n",
    "[axes[i].imshow(train_dataset[i], cmap='gray') for i in range(len(axes))]\n",
    "plt.show()"
   ]
  },
  {
   "cell_type": "markdown",
   "metadata": {},
   "source": [
    "#### 2a ####"
   ]
  },
  {
   "cell_type": "code",
   "execution_count": 66,
   "metadata": {
    "collapsed": true
   },
   "outputs": [],
   "source": [
    "def image_to_norm_col(image):\n",
    "    return image.T.reshape(-1)/image.max()"
   ]
  },
  {
   "cell_type": "code",
   "execution_count": 67,
   "metadata": {
    "collapsed": true
   },
   "outputs": [],
   "source": [
    "def get_H(X):\n",
    "    XT = X.transpose()\n",
    "    return np.dot(np.dot(X, np.linalg.inv(np.dot(XT, X))), XT)"
   ]
  },
  {
   "cell_type": "code",
   "execution_count": 68,
   "metadata": {
    "collapsed": true
   },
   "outputs": [],
   "source": [
    "class_X_dict = dict()\n",
    "\n",
    "# Get the total number of classes (people)\n",
    "# Create the column vector of every image in the same class and store them\n",
    "# Repeat this process for all different classes\n",
    "class_set = set(train_labels)\n",
    "for c in class_set:\n",
    "    image_class = train_dataset[train_labels==c]\n",
    "    \n",
    "    image_vector_len = image_class[0].shape[0] * image_class[0].shape[1]\n",
    "    class_size = image_class.shape[0]\n",
    "    class_X = np.empty((image_vector_len, class_size))\n",
    "    \n",
    "    for i, image in enumerate(image_class):\n",
    "        class_X[:, i] = image_to_norm_col(image)\n",
    "    \n",
    "    class_X_dict[c] = class_X"
   ]
  },
  {
   "cell_type": "code",
   "execution_count": 69,
   "metadata": {
    "collapsed": true
   },
   "outputs": [],
   "source": [
    "pred_test_labels = []\n",
    "pred_test_labels_H = []\n",
    "\n",
    "for image in test_dataset:\n",
    "    test_vector = image_to_norm_col(image)\n",
    "    distances = np.zeros(len(class_X_dict))\n",
    "    distances_H = np.zeros(len(class_X_dict))\n",
    "    \n",
    "    for class_label, class_X in class_X_dict.items():\n",
    "        # Calculate the l2 norm results using OLS and Hat matrix method\n",
    "        # Theoretically they should generate the same results\n",
    "        MLR_result = OLS(test_vector, class_X).fit()\n",
    "        H = get_H(class_X)\n",
    "        distances[class_label] = np.linalg.norm(MLR_result.predict(class_X)-test_vector)\n",
    "        distances_H[class_label] = np.linalg.norm(np.dot(H, test_vector)-test_vector)\n",
    "    \n",
    "    pred_test_labels.append(np.argmin(distances))\n",
    "    pred_test_labels_H.append(np.argmin(distances_H))\n",
    "    \n",
    "pred_test_labels = np.array(pred_test_labels)\n",
    "pred_test_labels_H = np.array(pred_test_labels_H)"
   ]
  },
  {
   "cell_type": "code",
   "execution_count": 70,
   "metadata": {},
   "outputs": [
    {
     "name": "stdout",
     "output_type": "stream",
     "text": [
      "Compare result from OLS model and Hat Matrix method: 100.0%\n"
     ]
    }
   ],
   "source": [
    "print('Compare result from OLS model and Hat Matrix method: %.1f%%' % ((pred_test_labels == pred_test_labels_H).mean()*100))"
   ]
  },
  {
   "cell_type": "code",
   "execution_count": 71,
   "metadata": {},
   "outputs": [
    {
     "name": "stdout",
     "output_type": "stream",
     "text": [
      "Accuracy: 84.67%\n"
     ]
    }
   ],
   "source": [
    "print('Accuracy: %.2f%%' % ((pred_test_labels == test_labels).mean()*100))"
   ]
  },
  {
   "cell_type": "code",
   "execution_count": 72,
   "metadata": {},
   "outputs": [
    {
     "data": {
      "image/png": "[encoded data removed]",
      "text/plain": [
       "<matplotlib.figure.Figure at 0x1f2ef1a3208>"
      ]
     },
     "metadata": {},
     "output_type": "display_data"
    }
   ],
   "source": [
    "fig, ax = plt.subplots(4,3,figsize=(10,15))\n",
    "ax = ax.flatten()\n",
    "\n",
    "match_labels = pred_test_labels == test_labels\n",
    "match_labels_not = pred_test_labels != test_labels\n",
    "\n",
    "ax[0].imshow(test_dataset[match_labels_not][0], cmap='gray')\n",
    "ax[0].set_title('Not Match')\n",
    "ax[1].imshow(train_dataset[train_labels==pred_test_labels[match_labels_not][0]][0], cmap='gray')\n",
    "ax[2].imshow(train_dataset[train_labels==pred_test_labels[match_labels_not][0]][-1], cmap='gray')\n",
    "\n",
    "ax[3].imshow(test_dataset[match_labels_not][-1], cmap='gray')\n",
    "ax[3].set_title('Not Match')\n",
    "ax[4].imshow(train_dataset[train_labels==pred_test_labels[match_labels_not][-1]][0], cmap='gray')\n",
    "ax[5].imshow(train_dataset[train_labels==pred_test_labels[match_labels_not][-1]][-1], cmap='gray')\n",
    "\n",
    "ax[6].imshow(test_dataset[match_labels][0], cmap='gray')\n",
    "ax[6].set_title('Match')\n",
    "ax[7].imshow(train_dataset[train_labels==pred_test_labels[match_labels][0]][0], cmap='gray')\n",
    "ax[8].imshow(train_dataset[train_labels==pred_test_labels[match_labels][0]][-1], cmap='gray')\n",
    "\n",
    "ax[9].imshow(test_dataset[match_labels][-1], cmap='gray')\n",
    "ax[9].set_title('Match')\n",
    "ax[10].imshow(train_dataset[train_labels==pred_test_labels[match_labels][-1]][0], cmap='gray')\n",
    "ax[11].imshow(train_dataset[train_labels==pred_test_labels[match_labels][-1]][-1], cmap='gray')\n",
    "\n",
    "plt.show()"
   ]
  },
  {
   "cell_type": "markdown",
   "metadata": {},
   "source": [
    "#### 2b ####"
   ]
  },
  {
   "cell_type": "code",
   "execution_count": 73,
   "metadata": {
    "collapsed": true
   },
   "outputs": [],
   "source": [
    "match_image = test_dataset[match_labels][-1]\n",
    "match_class = test_labels[match_labels][-1]"
   ]
  },
  {
   "cell_type": "code",
   "execution_count": 75,
   "metadata": {},
   "outputs": [],
   "source": [
    "match_y = image_to_norm_col(match_image)\n",
    "match_X = class_X_dict[match_class]\n",
    "\n",
    "MLR_result = OLS(match_y, match_X).fit()\n",
    "\n",
    "coefs_df = pd.Series(np.abs(MLR_result.params))"
   ]
  },
  {
   "cell_type": "code",
   "execution_count": 76,
   "metadata": {
    "collapsed": true
   },
   "outputs": [],
   "source": [
    "coef_ind_sort = np.array(coefs_df.sort_values().index)\n",
    "max_3_ind = coef_ind_sort[-3:]\n",
    "min_3_ind = coef_ind_sort[:3]"
   ]
  },
  {
   "cell_type": "code",
   "execution_count": 77,
   "metadata": {},
   "outputs": [
    {
     "data": {
      "image/png": "[encoded data removed]",
      "text/plain": [
       "<matplotlib.figure.Figure at 0x1f2efac5978>"
      ]
     },
     "metadata": {},
     "output_type": "display_data"
    }
   ],
   "source": [
    "fig, ax = plt.subplots(2,4,figsize=(10,7))\n",
    "ax = ax.flatten()\n",
    "\n",
    "ax[0].imshow(match_image, cmap='gray')\n",
    "ax[0].set_title('Most Significant')\n",
    "ax[1].imshow(train_dataset[train_labels==match_class][max_3_ind[0]], cmap='gray')\n",
    "ax[1].set_title('1st')\n",
    "ax[2].imshow(train_dataset[train_labels==match_class][max_3_ind[1]], cmap='gray')\n",
    "ax[2].set_title('2nd')\n",
    "ax[3].imshow(train_dataset[train_labels==match_class][max_3_ind[2]], cmap='gray')\n",
    "ax[3].set_title('3rd')\n",
    "\n",
    "ax[4].imshow(match_image, cmap='gray')\n",
    "ax[4].set_title('Least Significant')\n",
    "ax[5].imshow(train_dataset[train_labels==match_class][min_3_ind[0]], cmap='gray')\n",
    "ax[5].set_title('3rd')\n",
    "ax[6].imshow(train_dataset[train_labels==match_class][min_3_ind[1]], cmap='gray')\n",
    "ax[6].set_title('2nd')\n",
    "ax[7].imshow(train_dataset[train_labels==match_class][min_3_ind[2]], cmap='gray')\n",
    "ax[7].set_title('1st')\n",
    "\n",
    "plt.show()"
   ]
  },
  {
   "cell_type": "markdown",
   "metadata": {},
   "source": [
    "The most significant contribution comes from the images whose head shot has similar angle with the test one."
   ]
  },
  {
   "cell_type": "code",
   "execution_count": null,
   "metadata": {
    "collapsed": true
   },
   "outputs": [],
   "source": []
  }
 ],
 "metadata": {
  "anaconda-cloud": {},
  "kernelspec": {
   "display_name": "Python 3",
   "language": "python",
   "name": "python3"
  },
  "language_info": {
   "codemirror_mode": {
    "name": "ipython",
    "version": 3
   },
   "file_extension": ".py",
   "mimetype": "text/x-python",
   "name": "python",
   "nbconvert_exporter": "python",
   "pygments_lexer": "ipython3",
   "version": "3.6.1"
  }
 },
 "nbformat": 4,
 "nbformat_minor": 1
}
